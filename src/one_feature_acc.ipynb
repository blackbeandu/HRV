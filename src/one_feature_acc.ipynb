{
 "cells": [
  {
   "cell_type": "code",
   "execution_count": 1,
   "id": "dd42aad4-b882-4657-9ba7-99fb0227e6f8",
   "metadata": {},
   "outputs": [],
   "source": [
    "import numpy as np\n",
    "import pandas as pd\n",
    "import seaborn as snsn\n",
    "import matplotlib.pyplot as plt\n",
    "import tensorflow as tf\n",
    "import os\n",
    "\n",
    "%matplotlib inline \n",
    "#%matplotlib inline : notebook을 실행한 브라우저에서 바로 그림을 볼 수 있게 해줌"
   ]
  },
  {
   "cell_type": "code",
   "execution_count": 2,
   "id": "7a755adc-4965-47fe-a8d3-59c798f5cfd5",
   "metadata": {},
   "outputs": [
    {
     "data": {
      "text/plain": [
       "(3841, 53)"
      ]
     },
     "execution_count": 2,
     "metadata": {},
     "output_type": "execute_result"
    }
   ],
   "source": [
    "#데이터 전처리는 기존과 동일하게 진행\n",
    "\n",
    "# df = pd.read_csv('data/-----.csv')\n",
    "df.shape"
   ]
  },
  {
   "cell_type": "code",
   "execution_count": 3,
   "id": "abdbb488-feda-4258-9cf2-1cf5b124bcbf",
   "metadata": {},
   "outputs": [
    {
     "data": {
      "text/plain": [
       "Index(['Id', 'NAME', 'DOB', 'AGE', 'SEX', 'REG', 'HR', 'SDNN', 'RMSSD',\n",
       "       'HRVindex', 'pNN50', 'NN50cnt', 'BeatCnt', 'ModeCnt', 'modeHR',\n",
       "       'mode_RR', 'maxHR', 'minHR', 'max_minHR', 'CVAA', 'PSI', 'MSI',\n",
       "       'StressIndex', 'FatigueIndex', 'BreathRate', 'HealthIndex', 'R_power',\n",
       "       'LnTP', 'LnVLF', 'LnLF', 'LnHF', 'LFnorm', 'HFnorm', 'R_value', 'SD1',\n",
       "       'SD2', 'rSD12', 'Ln sArea', 'mean_RR', 'Ln RMSSD', 'SDSD', 'TINN',\n",
       "       'ApEn', 'Conf(%)', 'Event', 'DataLength', 'Date', 'TestTime', 'StartT',\n",
       "       'EndT', 'GuestAge', 'MODESET', 'MemoCom'],\n",
       "      dtype='object')"
      ]
     },
     "execution_count": 3,
     "metadata": {},
     "output_type": "execute_result"
    }
   ],
   "source": [
    "df.columns"
   ]
  },
  {
   "cell_type": "code",
   "execution_count": 4,
   "id": "f9680b0a-6c35-4f2e-b250-ea7a00247eb5",
   "metadata": {},
   "outputs": [],
   "source": [
    "sample = df[['HR', 'BeatCnt', 'modeHR', 'mode_RR', 'maxHR','minHR','max_minHR','NN50cnt', 'pNN50', 'SDNN','RMSSD','Ln RMSSD','LnTP','LnVLF','LnLF','LnHF',\n",
    "             'LFnorm','HFnorm','StressIndex']].copy()"
   ]
  },
  {
   "cell_type": "code",
   "execution_count": 5,
   "id": "1fd7cd53-46f1-4f0c-9a91-45343e77318f",
   "metadata": {},
   "outputs": [
    {
     "data": {
      "text/plain": [
       "HR                0\n",
       "BeatCnt           0\n",
       "modeHR            0\n",
       "mode_RR           0\n",
       "maxHR             0\n",
       "minHR             0\n",
       "max_minHR         0\n",
       "NN50cnt           0\n",
       "pNN50             0\n",
       "SDNN              0\n",
       "RMSSD             0\n",
       "Ln RMSSD       3279\n",
       "LnTP              0\n",
       "LnVLF             0\n",
       "LnLF              0\n",
       "LnHF              0\n",
       "LFnorm            0\n",
       "HFnorm            0\n",
       "StressIndex       0\n",
       "dtype: int64"
      ]
     },
     "execution_count": 5,
     "metadata": {},
     "output_type": "execute_result"
    }
   ],
   "source": [
    "sample.isna().sum()"
   ]
  },
  {
   "cell_type": "code",
   "execution_count": 6,
   "id": "bb58c717-827e-452d-8a92-0f24f269658e",
   "metadata": {},
   "outputs": [],
   "source": [
    "sample.drop(['Ln RMSSD'],axis=1, inplace=True)"
   ]
  },
  {
   "cell_type": "code",
   "execution_count": 7,
   "id": "947239b2-e14a-42ad-87c1-4a876894d78e",
   "metadata": {},
   "outputs": [
    {
     "data": {
      "text/plain": [
       "Index(['HR', 'BeatCnt', 'modeHR', 'mode_RR', 'maxHR', 'minHR', 'max_minHR',\n",
       "       'NN50cnt', 'pNN50', 'SDNN', 'RMSSD', 'LnTP', 'LnVLF', 'LnLF', 'LnHF',\n",
       "       'LFnorm', 'HFnorm', 'StressIndex'],\n",
       "      dtype='object')"
      ]
     },
     "execution_count": 7,
     "metadata": {},
     "output_type": "execute_result"
    }
   ],
   "source": [
    "sample.columns"
   ]
  },
  {
   "cell_type": "code",
   "execution_count": 8,
   "id": "ff1ee677-8f10-4117-bde7-082997e75a10",
   "metadata": {},
   "outputs": [
    {
     "data": {
      "text/plain": [
       "(3078, 18)"
      ]
     },
     "execution_count": 8,
     "metadata": {},
     "output_type": "execute_result"
    }
   ],
   "source": [
    "sample.drop_duplicates(inplace=True) #중복제거\n",
    "sample.shape"
   ]
  },
  {
   "cell_type": "code",
   "execution_count": 33,
   "id": "41d5e5f4-bf35-4d2c-9569-17817d3e79be",
   "metadata": {},
   "outputs": [
    {
     "data": {
      "text/plain": [
       "(3078, 17)"
      ]
     },
     "execution_count": 33,
     "metadata": {},
     "output_type": "execute_result"
    }
   ],
   "source": [
    "X = sample.copy()\n",
    "X.drop(['StressIndex'],axis=1, inplace=True)\n",
    "X.shape"
   ]
  },
  {
   "cell_type": "code",
   "execution_count": 34,
   "id": "72937f84-7bf0-4a07-9040-b34ea6993e24",
   "metadata": {},
   "outputs": [
    {
     "data": {
      "text/plain": [
       "(3078,)"
      ]
     },
     "execution_count": 34,
     "metadata": {},
     "output_type": "execute_result"
    }
   ],
   "source": [
    "y = sample['StressIndex'].copy()\n",
    "y.shape"
   ]
  },
  {
   "cell_type": "code",
   "execution_count": 36,
   "id": "47779881-0f64-46f8-8051-eb11ff9decdb",
   "metadata": {},
   "outputs": [
    {
     "data": {
      "text/plain": [
       "0        7\n",
       "1        2\n",
       "2        5\n",
       "3        4\n",
       "4        1\n",
       "        ..\n",
       "3836     2\n",
       "3837    10\n",
       "3838     7\n",
       "3839     8\n",
       "3840     5\n",
       "Name: StressIndex, Length: 3078, dtype: int64"
      ]
     },
     "execution_count": 36,
     "metadata": {},
     "output_type": "execute_result"
    }
   ],
   "source": [
    "y"
   ]
  },
  {
   "cell_type": "code",
   "execution_count": 15,
   "id": "9ec04f50-ec1c-4e8f-ae41-ddf2742dcaf8",
   "metadata": {},
   "outputs": [],
   "source": [
    "from sklearn.model_selection import train_test_split\n",
    "from sklearn.preprocessing import LabelEncoder\n",
    "from tensorflow.keras.utils import to_categorical\n",
    "from tensorflow.keras.models import Sequential, Model, load_model\n",
    "from tensorflow.keras.layers import Dense\n",
    "from tensorflow.keras.callbacks import EarlyStopping, ModelCheckpoint\n",
    "\n",
    "def make_model():\n",
    "#     model = Sequential([\n",
    "#         Dense(16, input_dim=1, activation='relu'),\n",
    "#         Dense(16, activation='relu'),\n",
    "#         Dense(10, activation='softmax')\n",
    "#     ])\n",
    "    model = Sequential()\n",
    "    model.add(Dense(16, input_dim=1, activation='relu'))\n",
    "    model.add(Dense(32,  activation='relu'))\n",
    "    model.add(Dense(10,  activation='softmax'))\n",
    "    \n",
    "    return model\n",
    "\n",
    "\n",
    "# es = EarlyStopping(monitor='val_loss', mode='min', verbose=1, patience=5)\n",
    "# mc = ModelCheckpoint('one_model.h5', monitor='val_loss', mode='min', verbose=1, save_best_only=True)"
   ]
  },
  {
   "cell_type": "code",
   "execution_count": 12,
   "id": "93dc971b-3382-4e61-93f2-3133c339c1d1",
   "metadata": {},
   "outputs": [],
   "source": [
    "from sklearn.metrics import accuracy_score, f1_score"
   ]
  },
  {
   "cell_type": "code",
   "execution_count": 14,
   "id": "ae1eeb68-0467-47d4-9a91-95498edce290",
   "metadata": {
    "collapsed": true,
    "jupyter": {
     "outputs_hidden": true
    },
    "tags": []
   },
   "outputs": [
    {
     "name": "stdout",
     "output_type": "stream",
     "text": [
      "HR  train & test\n",
      "Epoch 1/5\n"
     ]
    },
    {
     "ename": "NotImplementedError",
     "evalue": "in user code:\n\n    File \"C:\\Users\\NLP\\anaconda3\\lib\\site-packages\\keras\\engine\\training.py\", line 1051, in train_function  *\n        return step_function(self, iterator)\n    File \"C:\\Users\\NLP\\anaconda3\\lib\\site-packages\\sklearn\\utils\\validation.py\", line 953, in inner_f  *\n        return f(*args, **kwargs)\n    File \"C:\\Users\\NLP\\anaconda3\\lib\\site-packages\\sklearn\\metrics\\_classification.py\", line 1067, in f1_score  *\n        return fbeta_score(y_true, y_pred, beta=1, labels=labels,\n    File \"C:\\Users\\NLP\\anaconda3\\lib\\site-packages\\sklearn\\utils\\validation.py\", line 953, in inner_f  *\n        return f(*args, **kwargs)\n    File \"C:\\Users\\NLP\\anaconda3\\lib\\site-packages\\sklearn\\metrics\\_classification.py\", line 1190, in fbeta_score  *\n        _, _, f, _ = precision_recall_fscore_support(y_true, y_pred,\n    File \"C:\\Users\\NLP\\anaconda3\\lib\\site-packages\\sklearn\\utils\\validation.py\", line 953, in inner_f  *\n        return f(*args, **kwargs)\n    File \"C:\\Users\\NLP\\anaconda3\\lib\\site-packages\\sklearn\\metrics\\_classification.py\", line 1456, in precision_recall_fscore_support  *\n        labels = _check_set_wise_labels(y_true, y_pred, average, labels,\n    File \"C:\\Users\\NLP\\anaconda3\\lib\\site-packages\\sklearn\\metrics\\_classification.py\", line 1274, in _check_set_wise_labels  *\n        y_type, y_true, y_pred = _check_targets(y_true, y_pred)\n    File \"C:\\Users\\NLP\\anaconda3\\lib\\site-packages\\sklearn\\metrics\\_classification.py\", line 83, in _check_targets  *\n        check_consistent_length(y_true, y_pred)\n    File \"C:\\Users\\NLP\\anaconda3\\lib\\site-packages\\sklearn\\utils\\validation.py\", line 260, in check_consistent_length  *\n        uniques = np.unique(lengths)\n    File \"<__array_function__ internals>\", line 5, in unique  **\n        \n    File \"C:\\Users\\NLP\\anaconda3\\lib\\site-packages\\numpy\\lib\\arraysetops.py\", line 260, in unique\n        ar = np.asanyarray(ar)\n    File \"C:\\Users\\NLP\\anaconda3\\lib\\site-packages\\numpy\\core\\_asarray.py\", line 171, in asanyarray\n        return array(a, dtype, copy=False, order=order, subok=True)\n\n    NotImplementedError: Cannot convert a symbolic tf.Tensor (strided_slice_1:0) to a numpy array. This error may indicate that you're trying to pass a Tensor to a NumPy call, which is not supported.\n",
     "output_type": "error",
     "traceback": [
      "\u001b[1;31m---------------------------------------------------------------------------\u001b[0m",
      "\u001b[1;31mNotImplementedError\u001b[0m                       Traceback (most recent call last)",
      "\u001b[1;32m<ipython-input-14-efc2b6c4e8ce>\u001b[0m in \u001b[0;36m<module>\u001b[1;34m\u001b[0m\n\u001b[0;32m     15\u001b[0m     \u001b[0mmodel\u001b[0m \u001b[1;33m=\u001b[0m \u001b[0mmake_model\u001b[0m\u001b[1;33m(\u001b[0m\u001b[1;33m)\u001b[0m\u001b[1;33m\u001b[0m\u001b[1;33m\u001b[0m\u001b[0m\n\u001b[0;32m     16\u001b[0m     \u001b[0mmodel\u001b[0m\u001b[1;33m.\u001b[0m\u001b[0mcompile\u001b[0m\u001b[1;33m(\u001b[0m\u001b[0mloss\u001b[0m\u001b[1;33m=\u001b[0m\u001b[1;34m'categorical_crossentropy'\u001b[0m\u001b[1;33m,\u001b[0m \u001b[0moptimizer\u001b[0m\u001b[1;33m=\u001b[0m\u001b[1;34m'adam'\u001b[0m\u001b[1;33m,\u001b[0m \u001b[0mmetrics\u001b[0m\u001b[1;33m=\u001b[0m\u001b[1;33m[\u001b[0m\u001b[1;34m'accuracy'\u001b[0m\u001b[1;33m,\u001b[0m \u001b[0mf1_score\u001b[0m\u001b[1;33m]\u001b[0m\u001b[1;33m)\u001b[0m\u001b[1;33m\u001b[0m\u001b[1;33m\u001b[0m\u001b[0m\n\u001b[1;32m---> 17\u001b[1;33m     \u001b[0mhistory\u001b[0m \u001b[1;33m=\u001b[0m \u001b[0mmodel\u001b[0m\u001b[1;33m.\u001b[0m\u001b[0mfit\u001b[0m\u001b[1;33m(\u001b[0m\u001b[0mX_train\u001b[0m\u001b[1;33m,\u001b[0m \u001b[0my_train\u001b[0m\u001b[1;33m,\u001b[0m \u001b[0mepochs\u001b[0m\u001b[1;33m=\u001b[0m\u001b[1;36m5\u001b[0m\u001b[1;33m,\u001b[0m \u001b[0mbatch_size\u001b[0m\u001b[1;33m=\u001b[0m\u001b[1;36m32\u001b[0m\u001b[1;33m,\u001b[0m \u001b[0mvalidation_data\u001b[0m\u001b[1;33m=\u001b[0m\u001b[1;33m(\u001b[0m\u001b[0mX_test\u001b[0m\u001b[1;33m,\u001b[0m \u001b[0my_test\u001b[0m\u001b[1;33m)\u001b[0m\u001b[1;33m)\u001b[0m\u001b[1;31m#, callbacks=[es, mc]\u001b[0m\u001b[1;33m\u001b[0m\u001b[1;33m\u001b[0m\u001b[0m\n\u001b[0m\u001b[0;32m     18\u001b[0m     \u001b[0mloaded_model\u001b[0m \u001b[1;33m=\u001b[0m \u001b[0mload_model\u001b[0m\u001b[1;33m(\u001b[0m\u001b[1;34m'one_model.h5'\u001b[0m\u001b[1;33m)\u001b[0m\u001b[1;33m\u001b[0m\u001b[1;33m\u001b[0m\u001b[0m\n\u001b[0;32m     19\u001b[0m     \u001b[0mbest\u001b[0m\u001b[1;33m.\u001b[0m\u001b[0mappend\u001b[0m\u001b[1;33m(\u001b[0m\u001b[1;33m[\u001b[0m\u001b[1;34m\"{} 정확도 : \"\u001b[0m\u001b[1;33m.\u001b[0m\u001b[0mformat\u001b[0m\u001b[1;33m(\u001b[0m\u001b[0mx\u001b[0m\u001b[1;33m)\u001b[0m\u001b[1;33m,\u001b[0m \u001b[0mloaded_model\u001b[0m\u001b[1;33m.\u001b[0m\u001b[0mevaluate\u001b[0m\u001b[1;33m(\u001b[0m\u001b[0mX_test\u001b[0m\u001b[1;33m,\u001b[0m \u001b[0my_test\u001b[0m\u001b[1;33m)\u001b[0m\u001b[1;33m[\u001b[0m\u001b[1;36m1\u001b[0m\u001b[1;33m]\u001b[0m \u001b[1;33m]\u001b[0m\u001b[1;33m)\u001b[0m\u001b[1;33m\u001b[0m\u001b[1;33m\u001b[0m\u001b[0m\n",
      "\u001b[1;32m~\\anaconda3\\lib\\site-packages\\keras\\utils\\traceback_utils.py\u001b[0m in \u001b[0;36merror_handler\u001b[1;34m(*args, **kwargs)\u001b[0m\n\u001b[0;32m     65\u001b[0m     \u001b[1;32mexcept\u001b[0m \u001b[0mException\u001b[0m \u001b[1;32mas\u001b[0m \u001b[0me\u001b[0m\u001b[1;33m:\u001b[0m  \u001b[1;31m# pylint: disable=broad-except\u001b[0m\u001b[1;33m\u001b[0m\u001b[1;33m\u001b[0m\u001b[0m\n\u001b[0;32m     66\u001b[0m       \u001b[0mfiltered_tb\u001b[0m \u001b[1;33m=\u001b[0m \u001b[0m_process_traceback_frames\u001b[0m\u001b[1;33m(\u001b[0m\u001b[0me\u001b[0m\u001b[1;33m.\u001b[0m\u001b[0m__traceback__\u001b[0m\u001b[1;33m)\u001b[0m\u001b[1;33m\u001b[0m\u001b[1;33m\u001b[0m\u001b[0m\n\u001b[1;32m---> 67\u001b[1;33m       \u001b[1;32mraise\u001b[0m \u001b[0me\u001b[0m\u001b[1;33m.\u001b[0m\u001b[0mwith_traceback\u001b[0m\u001b[1;33m(\u001b[0m\u001b[0mfiltered_tb\u001b[0m\u001b[1;33m)\u001b[0m \u001b[1;32mfrom\u001b[0m \u001b[1;32mNone\u001b[0m\u001b[1;33m\u001b[0m\u001b[1;33m\u001b[0m\u001b[0m\n\u001b[0m\u001b[0;32m     68\u001b[0m     \u001b[1;32mfinally\u001b[0m\u001b[1;33m:\u001b[0m\u001b[1;33m\u001b[0m\u001b[1;33m\u001b[0m\u001b[0m\n\u001b[0;32m     69\u001b[0m       \u001b[1;32mdel\u001b[0m \u001b[0mfiltered_tb\u001b[0m\u001b[1;33m\u001b[0m\u001b[1;33m\u001b[0m\u001b[0m\n",
      "\u001b[1;32m~\\anaconda3\\lib\\site-packages\\keras\\engine\\training.py\u001b[0m in \u001b[0;36mtf__train_function\u001b[1;34m(iterator)\u001b[0m\n\u001b[0;32m     13\u001b[0m                 \u001b[1;32mtry\u001b[0m\u001b[1;33m:\u001b[0m\u001b[1;33m\u001b[0m\u001b[1;33m\u001b[0m\u001b[0m\n\u001b[0;32m     14\u001b[0m                     \u001b[0mdo_return\u001b[0m \u001b[1;33m=\u001b[0m \u001b[1;32mTrue\u001b[0m\u001b[1;33m\u001b[0m\u001b[1;33m\u001b[0m\u001b[0m\n\u001b[1;32m---> 15\u001b[1;33m                     \u001b[0mretval_\u001b[0m \u001b[1;33m=\u001b[0m \u001b[0mag__\u001b[0m\u001b[1;33m.\u001b[0m\u001b[0mconverted_call\u001b[0m\u001b[1;33m(\u001b[0m\u001b[0mag__\u001b[0m\u001b[1;33m.\u001b[0m\u001b[0mld\u001b[0m\u001b[1;33m(\u001b[0m\u001b[0mstep_function\u001b[0m\u001b[1;33m)\u001b[0m\u001b[1;33m,\u001b[0m \u001b[1;33m(\u001b[0m\u001b[0mag__\u001b[0m\u001b[1;33m.\u001b[0m\u001b[0mld\u001b[0m\u001b[1;33m(\u001b[0m\u001b[0mself\u001b[0m\u001b[1;33m)\u001b[0m\u001b[1;33m,\u001b[0m \u001b[0mag__\u001b[0m\u001b[1;33m.\u001b[0m\u001b[0mld\u001b[0m\u001b[1;33m(\u001b[0m\u001b[0miterator\u001b[0m\u001b[1;33m)\u001b[0m\u001b[1;33m)\u001b[0m\u001b[1;33m,\u001b[0m \u001b[1;32mNone\u001b[0m\u001b[1;33m,\u001b[0m \u001b[0mfscope\u001b[0m\u001b[1;33m)\u001b[0m\u001b[1;33m\u001b[0m\u001b[1;33m\u001b[0m\u001b[0m\n\u001b[0m\u001b[0;32m     16\u001b[0m                 \u001b[1;32mexcept\u001b[0m\u001b[1;33m:\u001b[0m\u001b[1;33m\u001b[0m\u001b[1;33m\u001b[0m\u001b[0m\n\u001b[0;32m     17\u001b[0m                     \u001b[0mdo_return\u001b[0m \u001b[1;33m=\u001b[0m \u001b[1;32mFalse\u001b[0m\u001b[1;33m\u001b[0m\u001b[1;33m\u001b[0m\u001b[0m\n",
      "\u001b[1;32m~\\anaconda3\\lib\\site-packages\\sklearn\\utils\\validation.py\u001b[0m in \u001b[0;36mtf__inner_f\u001b[1;34m(*args, **kwargs)\u001b[0m\n\u001b[0;32m     44\u001b[0m                         \u001b[1;32mraise\u001b[0m\u001b[1;33m\u001b[0m\u001b[1;33m\u001b[0m\u001b[0m\n\u001b[0;32m     45\u001b[0m                 \u001b[0margs_msg\u001b[0m \u001b[1;33m=\u001b[0m \u001b[0mag__\u001b[0m\u001b[1;33m.\u001b[0m\u001b[0mUndefined\u001b[0m\u001b[1;33m(\u001b[0m\u001b[1;34m'args_msg'\u001b[0m\u001b[1;33m)\u001b[0m\u001b[1;33m\u001b[0m\u001b[1;33m\u001b[0m\u001b[0m\n\u001b[1;32m---> 46\u001b[1;33m                 \u001b[0mag__\u001b[0m\u001b[1;33m.\u001b[0m\u001b[0mif_stmt\u001b[0m\u001b[1;33m(\u001b[0m\u001b[1;33m(\u001b[0m\u001b[0mag__\u001b[0m\u001b[1;33m.\u001b[0m\u001b[0mld\u001b[0m\u001b[1;33m(\u001b[0m\u001b[0mextra_args\u001b[0m\u001b[1;33m)\u001b[0m \u001b[1;33m<=\u001b[0m \u001b[1;36m0\u001b[0m\u001b[1;33m)\u001b[0m\u001b[1;33m,\u001b[0m \u001b[0mif_body\u001b[0m\u001b[1;33m,\u001b[0m \u001b[0melse_body\u001b[0m\u001b[1;33m,\u001b[0m \u001b[0mget_state\u001b[0m\u001b[1;33m,\u001b[0m \u001b[0mset_state\u001b[0m\u001b[1;33m,\u001b[0m \u001b[1;33m(\u001b[0m\u001b[1;34m'do_return'\u001b[0m\u001b[1;33m,\u001b[0m \u001b[1;34m'retval_'\u001b[0m\u001b[1;33m)\u001b[0m\u001b[1;33m,\u001b[0m \u001b[1;36m2\u001b[0m\u001b[1;33m)\u001b[0m\u001b[1;33m\u001b[0m\u001b[1;33m\u001b[0m\u001b[0m\n\u001b[0m\u001b[0;32m     47\u001b[0m                 \u001b[1;32mreturn\u001b[0m \u001b[0mfscope\u001b[0m\u001b[1;33m.\u001b[0m\u001b[0mret\u001b[0m\u001b[1;33m(\u001b[0m\u001b[0mretval_\u001b[0m\u001b[1;33m,\u001b[0m \u001b[0mdo_return\u001b[0m\u001b[1;33m)\u001b[0m\u001b[1;33m\u001b[0m\u001b[1;33m\u001b[0m\u001b[0m\n\u001b[0;32m     48\u001b[0m         \u001b[1;32mreturn\u001b[0m \u001b[0mtf__inner_f\u001b[0m\u001b[1;33m\u001b[0m\u001b[1;33m\u001b[0m\u001b[0m\n",
      "\u001b[1;32m~\\anaconda3\\lib\\site-packages\\sklearn\\utils\\validation.py\u001b[0m in \u001b[0;36mif_body\u001b[1;34m()\u001b[0m\n\u001b[0;32m     26\u001b[0m                     \u001b[1;32mtry\u001b[0m\u001b[1;33m:\u001b[0m\u001b[1;33m\u001b[0m\u001b[1;33m\u001b[0m\u001b[0m\n\u001b[0;32m     27\u001b[0m                         \u001b[0mdo_return\u001b[0m \u001b[1;33m=\u001b[0m \u001b[1;32mTrue\u001b[0m\u001b[1;33m\u001b[0m\u001b[1;33m\u001b[0m\u001b[0m\n\u001b[1;32m---> 28\u001b[1;33m                         \u001b[0mretval_\u001b[0m \u001b[1;33m=\u001b[0m \u001b[0mag__\u001b[0m\u001b[1;33m.\u001b[0m\u001b[0mconverted_call\u001b[0m\u001b[1;33m(\u001b[0m\u001b[0mag__\u001b[0m\u001b[1;33m.\u001b[0m\u001b[0mld\u001b[0m\u001b[1;33m(\u001b[0m\u001b[0mf\u001b[0m\u001b[1;33m)\u001b[0m\u001b[1;33m,\u001b[0m \u001b[0mtuple\u001b[0m\u001b[1;33m(\u001b[0m\u001b[0mag__\u001b[0m\u001b[1;33m.\u001b[0m\u001b[0mld\u001b[0m\u001b[1;33m(\u001b[0m\u001b[0margs\u001b[0m\u001b[1;33m)\u001b[0m\u001b[1;33m)\u001b[0m\u001b[1;33m,\u001b[0m \u001b[0mdict\u001b[0m\u001b[1;33m(\u001b[0m\u001b[1;33m**\u001b[0m\u001b[0mag__\u001b[0m\u001b[1;33m.\u001b[0m\u001b[0mld\u001b[0m\u001b[1;33m(\u001b[0m\u001b[0mkwargs\u001b[0m\u001b[1;33m)\u001b[0m\u001b[1;33m)\u001b[0m\u001b[1;33m,\u001b[0m \u001b[0mfscope\u001b[0m\u001b[1;33m)\u001b[0m\u001b[1;33m\u001b[0m\u001b[1;33m\u001b[0m\u001b[0m\n\u001b[0m\u001b[0;32m     29\u001b[0m                     \u001b[1;32mexcept\u001b[0m\u001b[1;33m:\u001b[0m\u001b[1;33m\u001b[0m\u001b[1;33m\u001b[0m\u001b[0m\n\u001b[0;32m     30\u001b[0m                         \u001b[0mdo_return\u001b[0m \u001b[1;33m=\u001b[0m \u001b[1;32mFalse\u001b[0m\u001b[1;33m\u001b[0m\u001b[1;33m\u001b[0m\u001b[0m\n",
      "\u001b[1;32m~\\anaconda3\\lib\\site-packages\\sklearn\\metrics\\_classification.py\u001b[0m in \u001b[0;36mtf__f1_score\u001b[1;34m(y_true, y_pred, labels, pos_label, average, sample_weight, zero_division)\u001b[0m\n\u001b[0;32m     11\u001b[0m                 \u001b[1;32mtry\u001b[0m\u001b[1;33m:\u001b[0m\u001b[1;33m\u001b[0m\u001b[1;33m\u001b[0m\u001b[0m\n\u001b[0;32m     12\u001b[0m                     \u001b[0mdo_return\u001b[0m \u001b[1;33m=\u001b[0m \u001b[1;32mTrue\u001b[0m\u001b[1;33m\u001b[0m\u001b[1;33m\u001b[0m\u001b[0m\n\u001b[1;32m---> 13\u001b[1;33m                     \u001b[0mretval_\u001b[0m \u001b[1;33m=\u001b[0m \u001b[0mag__\u001b[0m\u001b[1;33m.\u001b[0m\u001b[0mconverted_call\u001b[0m\u001b[1;33m(\u001b[0m\u001b[0mag__\u001b[0m\u001b[1;33m.\u001b[0m\u001b[0mld\u001b[0m\u001b[1;33m(\u001b[0m\u001b[0mfbeta_score\u001b[0m\u001b[1;33m)\u001b[0m\u001b[1;33m,\u001b[0m \u001b[1;33m(\u001b[0m\u001b[0mag__\u001b[0m\u001b[1;33m.\u001b[0m\u001b[0mld\u001b[0m\u001b[1;33m(\u001b[0m\u001b[0my_true\u001b[0m\u001b[1;33m)\u001b[0m\u001b[1;33m,\u001b[0m \u001b[0mag__\u001b[0m\u001b[1;33m.\u001b[0m\u001b[0mld\u001b[0m\u001b[1;33m(\u001b[0m\u001b[0my_pred\u001b[0m\u001b[1;33m)\u001b[0m\u001b[1;33m)\u001b[0m\u001b[1;33m,\u001b[0m \u001b[0mdict\u001b[0m\u001b[1;33m(\u001b[0m\u001b[0mbeta\u001b[0m\u001b[1;33m=\u001b[0m\u001b[1;36m1\u001b[0m\u001b[1;33m,\u001b[0m \u001b[0mlabels\u001b[0m\u001b[1;33m=\u001b[0m\u001b[0mag__\u001b[0m\u001b[1;33m.\u001b[0m\u001b[0mld\u001b[0m\u001b[1;33m(\u001b[0m\u001b[0mlabels\u001b[0m\u001b[1;33m)\u001b[0m\u001b[1;33m,\u001b[0m \u001b[0mpos_label\u001b[0m\u001b[1;33m=\u001b[0m\u001b[0mag__\u001b[0m\u001b[1;33m.\u001b[0m\u001b[0mld\u001b[0m\u001b[1;33m(\u001b[0m\u001b[0mpos_label\u001b[0m\u001b[1;33m)\u001b[0m\u001b[1;33m,\u001b[0m \u001b[0maverage\u001b[0m\u001b[1;33m=\u001b[0m\u001b[0mag__\u001b[0m\u001b[1;33m.\u001b[0m\u001b[0mld\u001b[0m\u001b[1;33m(\u001b[0m\u001b[0maverage\u001b[0m\u001b[1;33m)\u001b[0m\u001b[1;33m,\u001b[0m \u001b[0msample_weight\u001b[0m\u001b[1;33m=\u001b[0m\u001b[0mag__\u001b[0m\u001b[1;33m.\u001b[0m\u001b[0mld\u001b[0m\u001b[1;33m(\u001b[0m\u001b[0msample_weight\u001b[0m\u001b[1;33m)\u001b[0m\u001b[1;33m,\u001b[0m \u001b[0mzero_division\u001b[0m\u001b[1;33m=\u001b[0m\u001b[0mag__\u001b[0m\u001b[1;33m.\u001b[0m\u001b[0mld\u001b[0m\u001b[1;33m(\u001b[0m\u001b[0mzero_division\u001b[0m\u001b[1;33m)\u001b[0m\u001b[1;33m)\u001b[0m\u001b[1;33m,\u001b[0m \u001b[0mfscope\u001b[0m\u001b[1;33m)\u001b[0m\u001b[1;33m\u001b[0m\u001b[1;33m\u001b[0m\u001b[0m\n\u001b[0m\u001b[0;32m     14\u001b[0m                 \u001b[1;32mexcept\u001b[0m\u001b[1;33m:\u001b[0m\u001b[1;33m\u001b[0m\u001b[1;33m\u001b[0m\u001b[0m\n\u001b[0;32m     15\u001b[0m                     \u001b[0mdo_return\u001b[0m \u001b[1;33m=\u001b[0m \u001b[1;32mFalse\u001b[0m\u001b[1;33m\u001b[0m\u001b[1;33m\u001b[0m\u001b[0m\n",
      "\u001b[1;32m~\\anaconda3\\lib\\site-packages\\sklearn\\utils\\validation.py\u001b[0m in \u001b[0;36mtf__inner_f\u001b[1;34m(*args, **kwargs)\u001b[0m\n\u001b[0;32m     44\u001b[0m                         \u001b[1;32mraise\u001b[0m\u001b[1;33m\u001b[0m\u001b[1;33m\u001b[0m\u001b[0m\n\u001b[0;32m     45\u001b[0m                 \u001b[0margs_msg\u001b[0m \u001b[1;33m=\u001b[0m \u001b[0mag__\u001b[0m\u001b[1;33m.\u001b[0m\u001b[0mUndefined\u001b[0m\u001b[1;33m(\u001b[0m\u001b[1;34m'args_msg'\u001b[0m\u001b[1;33m)\u001b[0m\u001b[1;33m\u001b[0m\u001b[1;33m\u001b[0m\u001b[0m\n\u001b[1;32m---> 46\u001b[1;33m                 \u001b[0mag__\u001b[0m\u001b[1;33m.\u001b[0m\u001b[0mif_stmt\u001b[0m\u001b[1;33m(\u001b[0m\u001b[1;33m(\u001b[0m\u001b[0mag__\u001b[0m\u001b[1;33m.\u001b[0m\u001b[0mld\u001b[0m\u001b[1;33m(\u001b[0m\u001b[0mextra_args\u001b[0m\u001b[1;33m)\u001b[0m \u001b[1;33m<=\u001b[0m \u001b[1;36m0\u001b[0m\u001b[1;33m)\u001b[0m\u001b[1;33m,\u001b[0m \u001b[0mif_body\u001b[0m\u001b[1;33m,\u001b[0m \u001b[0melse_body\u001b[0m\u001b[1;33m,\u001b[0m \u001b[0mget_state\u001b[0m\u001b[1;33m,\u001b[0m \u001b[0mset_state\u001b[0m\u001b[1;33m,\u001b[0m \u001b[1;33m(\u001b[0m\u001b[1;34m'do_return'\u001b[0m\u001b[1;33m,\u001b[0m \u001b[1;34m'retval_'\u001b[0m\u001b[1;33m)\u001b[0m\u001b[1;33m,\u001b[0m \u001b[1;36m2\u001b[0m\u001b[1;33m)\u001b[0m\u001b[1;33m\u001b[0m\u001b[1;33m\u001b[0m\u001b[0m\n\u001b[0m\u001b[0;32m     47\u001b[0m                 \u001b[1;32mreturn\u001b[0m \u001b[0mfscope\u001b[0m\u001b[1;33m.\u001b[0m\u001b[0mret\u001b[0m\u001b[1;33m(\u001b[0m\u001b[0mretval_\u001b[0m\u001b[1;33m,\u001b[0m \u001b[0mdo_return\u001b[0m\u001b[1;33m)\u001b[0m\u001b[1;33m\u001b[0m\u001b[1;33m\u001b[0m\u001b[0m\n\u001b[0;32m     48\u001b[0m         \u001b[1;32mreturn\u001b[0m \u001b[0mtf__inner_f\u001b[0m\u001b[1;33m\u001b[0m\u001b[1;33m\u001b[0m\u001b[0m\n",
      "\u001b[1;32m~\\anaconda3\\lib\\site-packages\\sklearn\\utils\\validation.py\u001b[0m in \u001b[0;36mif_body\u001b[1;34m()\u001b[0m\n\u001b[0;32m     26\u001b[0m                     \u001b[1;32mtry\u001b[0m\u001b[1;33m:\u001b[0m\u001b[1;33m\u001b[0m\u001b[1;33m\u001b[0m\u001b[0m\n\u001b[0;32m     27\u001b[0m                         \u001b[0mdo_return\u001b[0m \u001b[1;33m=\u001b[0m \u001b[1;32mTrue\u001b[0m\u001b[1;33m\u001b[0m\u001b[1;33m\u001b[0m\u001b[0m\n\u001b[1;32m---> 28\u001b[1;33m                         \u001b[0mretval_\u001b[0m \u001b[1;33m=\u001b[0m \u001b[0mag__\u001b[0m\u001b[1;33m.\u001b[0m\u001b[0mconverted_call\u001b[0m\u001b[1;33m(\u001b[0m\u001b[0mag__\u001b[0m\u001b[1;33m.\u001b[0m\u001b[0mld\u001b[0m\u001b[1;33m(\u001b[0m\u001b[0mf\u001b[0m\u001b[1;33m)\u001b[0m\u001b[1;33m,\u001b[0m \u001b[0mtuple\u001b[0m\u001b[1;33m(\u001b[0m\u001b[0mag__\u001b[0m\u001b[1;33m.\u001b[0m\u001b[0mld\u001b[0m\u001b[1;33m(\u001b[0m\u001b[0margs\u001b[0m\u001b[1;33m)\u001b[0m\u001b[1;33m)\u001b[0m\u001b[1;33m,\u001b[0m \u001b[0mdict\u001b[0m\u001b[1;33m(\u001b[0m\u001b[1;33m**\u001b[0m\u001b[0mag__\u001b[0m\u001b[1;33m.\u001b[0m\u001b[0mld\u001b[0m\u001b[1;33m(\u001b[0m\u001b[0mkwargs\u001b[0m\u001b[1;33m)\u001b[0m\u001b[1;33m)\u001b[0m\u001b[1;33m,\u001b[0m \u001b[0mfscope\u001b[0m\u001b[1;33m)\u001b[0m\u001b[1;33m\u001b[0m\u001b[1;33m\u001b[0m\u001b[0m\n\u001b[0m\u001b[0;32m     29\u001b[0m                     \u001b[1;32mexcept\u001b[0m\u001b[1;33m:\u001b[0m\u001b[1;33m\u001b[0m\u001b[1;33m\u001b[0m\u001b[0m\n\u001b[0;32m     30\u001b[0m                         \u001b[0mdo_return\u001b[0m \u001b[1;33m=\u001b[0m \u001b[1;32mFalse\u001b[0m\u001b[1;33m\u001b[0m\u001b[1;33m\u001b[0m\u001b[0m\n",
      "\u001b[1;32m~\\anaconda3\\lib\\site-packages\\sklearn\\metrics\\_classification.py\u001b[0m in \u001b[0;36mtf__fbeta_score\u001b[1;34m(y_true, y_pred, beta, labels, pos_label, average, sample_weight, zero_division)\u001b[0m\n\u001b[0;32m      9\u001b[0m                 \u001b[0mdo_return\u001b[0m \u001b[1;33m=\u001b[0m \u001b[1;32mFalse\u001b[0m\u001b[1;33m\u001b[0m\u001b[1;33m\u001b[0m\u001b[0m\n\u001b[0;32m     10\u001b[0m                 \u001b[0mretval_\u001b[0m \u001b[1;33m=\u001b[0m \u001b[0mag__\u001b[0m\u001b[1;33m.\u001b[0m\u001b[0mUndefinedReturnValue\u001b[0m\u001b[1;33m(\u001b[0m\u001b[1;33m)\u001b[0m\u001b[1;33m\u001b[0m\u001b[1;33m\u001b[0m\u001b[0m\n\u001b[1;32m---> 11\u001b[1;33m                 \u001b[1;33m(\u001b[0m\u001b[0m_\u001b[0m\u001b[1;33m,\u001b[0m \u001b[0m_\u001b[0m\u001b[1;33m,\u001b[0m \u001b[0mf\u001b[0m\u001b[1;33m,\u001b[0m \u001b[0m_\u001b[0m\u001b[1;33m)\u001b[0m \u001b[1;33m=\u001b[0m \u001b[0mag__\u001b[0m\u001b[1;33m.\u001b[0m\u001b[0mconverted_call\u001b[0m\u001b[1;33m(\u001b[0m\u001b[0mag__\u001b[0m\u001b[1;33m.\u001b[0m\u001b[0mld\u001b[0m\u001b[1;33m(\u001b[0m\u001b[0mprecision_recall_fscore_support\u001b[0m\u001b[1;33m)\u001b[0m\u001b[1;33m,\u001b[0m \u001b[1;33m(\u001b[0m\u001b[0mag__\u001b[0m\u001b[1;33m.\u001b[0m\u001b[0mld\u001b[0m\u001b[1;33m(\u001b[0m\u001b[0my_true\u001b[0m\u001b[1;33m)\u001b[0m\u001b[1;33m,\u001b[0m \u001b[0mag__\u001b[0m\u001b[1;33m.\u001b[0m\u001b[0mld\u001b[0m\u001b[1;33m(\u001b[0m\u001b[0my_pred\u001b[0m\u001b[1;33m)\u001b[0m\u001b[1;33m)\u001b[0m\u001b[1;33m,\u001b[0m \u001b[0mdict\u001b[0m\u001b[1;33m(\u001b[0m\u001b[0mbeta\u001b[0m\u001b[1;33m=\u001b[0m\u001b[0mag__\u001b[0m\u001b[1;33m.\u001b[0m\u001b[0mld\u001b[0m\u001b[1;33m(\u001b[0m\u001b[0mbeta\u001b[0m\u001b[1;33m)\u001b[0m\u001b[1;33m,\u001b[0m \u001b[0mlabels\u001b[0m\u001b[1;33m=\u001b[0m\u001b[0mag__\u001b[0m\u001b[1;33m.\u001b[0m\u001b[0mld\u001b[0m\u001b[1;33m(\u001b[0m\u001b[0mlabels\u001b[0m\u001b[1;33m)\u001b[0m\u001b[1;33m,\u001b[0m \u001b[0mpos_label\u001b[0m\u001b[1;33m=\u001b[0m\u001b[0mag__\u001b[0m\u001b[1;33m.\u001b[0m\u001b[0mld\u001b[0m\u001b[1;33m(\u001b[0m\u001b[0mpos_label\u001b[0m\u001b[1;33m)\u001b[0m\u001b[1;33m,\u001b[0m \u001b[0maverage\u001b[0m\u001b[1;33m=\u001b[0m\u001b[0mag__\u001b[0m\u001b[1;33m.\u001b[0m\u001b[0mld\u001b[0m\u001b[1;33m(\u001b[0m\u001b[0maverage\u001b[0m\u001b[1;33m)\u001b[0m\u001b[1;33m,\u001b[0m \u001b[0mwarn_for\u001b[0m\u001b[1;33m=\u001b[0m\u001b[1;33m(\u001b[0m\u001b[1;34m'f-score'\u001b[0m\u001b[1;33m,\u001b[0m\u001b[1;33m)\u001b[0m\u001b[1;33m,\u001b[0m \u001b[0msample_weight\u001b[0m\u001b[1;33m=\u001b[0m\u001b[0mag__\u001b[0m\u001b[1;33m.\u001b[0m\u001b[0mld\u001b[0m\u001b[1;33m(\u001b[0m\u001b[0msample_weight\u001b[0m\u001b[1;33m)\u001b[0m\u001b[1;33m,\u001b[0m \u001b[0mzero_division\u001b[0m\u001b[1;33m=\u001b[0m\u001b[0mag__\u001b[0m\u001b[1;33m.\u001b[0m\u001b[0mld\u001b[0m\u001b[1;33m(\u001b[0m\u001b[0mzero_division\u001b[0m\u001b[1;33m)\u001b[0m\u001b[1;33m)\u001b[0m\u001b[1;33m,\u001b[0m \u001b[0mfscope\u001b[0m\u001b[1;33m)\u001b[0m\u001b[1;33m\u001b[0m\u001b[1;33m\u001b[0m\u001b[0m\n\u001b[0m\u001b[0;32m     12\u001b[0m                 \u001b[1;32mtry\u001b[0m\u001b[1;33m:\u001b[0m\u001b[1;33m\u001b[0m\u001b[1;33m\u001b[0m\u001b[0m\n\u001b[0;32m     13\u001b[0m                     \u001b[0mdo_return\u001b[0m \u001b[1;33m=\u001b[0m \u001b[1;32mTrue\u001b[0m\u001b[1;33m\u001b[0m\u001b[1;33m\u001b[0m\u001b[0m\n",
      "\u001b[1;32m~\\anaconda3\\lib\\site-packages\\sklearn\\utils\\validation.py\u001b[0m in \u001b[0;36mtf__inner_f\u001b[1;34m(*args, **kwargs)\u001b[0m\n\u001b[0;32m     44\u001b[0m                         \u001b[1;32mraise\u001b[0m\u001b[1;33m\u001b[0m\u001b[1;33m\u001b[0m\u001b[0m\n\u001b[0;32m     45\u001b[0m                 \u001b[0margs_msg\u001b[0m \u001b[1;33m=\u001b[0m \u001b[0mag__\u001b[0m\u001b[1;33m.\u001b[0m\u001b[0mUndefined\u001b[0m\u001b[1;33m(\u001b[0m\u001b[1;34m'args_msg'\u001b[0m\u001b[1;33m)\u001b[0m\u001b[1;33m\u001b[0m\u001b[1;33m\u001b[0m\u001b[0m\n\u001b[1;32m---> 46\u001b[1;33m                 \u001b[0mag__\u001b[0m\u001b[1;33m.\u001b[0m\u001b[0mif_stmt\u001b[0m\u001b[1;33m(\u001b[0m\u001b[1;33m(\u001b[0m\u001b[0mag__\u001b[0m\u001b[1;33m.\u001b[0m\u001b[0mld\u001b[0m\u001b[1;33m(\u001b[0m\u001b[0mextra_args\u001b[0m\u001b[1;33m)\u001b[0m \u001b[1;33m<=\u001b[0m \u001b[1;36m0\u001b[0m\u001b[1;33m)\u001b[0m\u001b[1;33m,\u001b[0m \u001b[0mif_body\u001b[0m\u001b[1;33m,\u001b[0m \u001b[0melse_body\u001b[0m\u001b[1;33m,\u001b[0m \u001b[0mget_state\u001b[0m\u001b[1;33m,\u001b[0m \u001b[0mset_state\u001b[0m\u001b[1;33m,\u001b[0m \u001b[1;33m(\u001b[0m\u001b[1;34m'do_return'\u001b[0m\u001b[1;33m,\u001b[0m \u001b[1;34m'retval_'\u001b[0m\u001b[1;33m)\u001b[0m\u001b[1;33m,\u001b[0m \u001b[1;36m2\u001b[0m\u001b[1;33m)\u001b[0m\u001b[1;33m\u001b[0m\u001b[1;33m\u001b[0m\u001b[0m\n\u001b[0m\u001b[0;32m     47\u001b[0m                 \u001b[1;32mreturn\u001b[0m \u001b[0mfscope\u001b[0m\u001b[1;33m.\u001b[0m\u001b[0mret\u001b[0m\u001b[1;33m(\u001b[0m\u001b[0mretval_\u001b[0m\u001b[1;33m,\u001b[0m \u001b[0mdo_return\u001b[0m\u001b[1;33m)\u001b[0m\u001b[1;33m\u001b[0m\u001b[1;33m\u001b[0m\u001b[0m\n\u001b[0;32m     48\u001b[0m         \u001b[1;32mreturn\u001b[0m \u001b[0mtf__inner_f\u001b[0m\u001b[1;33m\u001b[0m\u001b[1;33m\u001b[0m\u001b[0m\n",
      "\u001b[1;32m~\\anaconda3\\lib\\site-packages\\sklearn\\utils\\validation.py\u001b[0m in \u001b[0;36mif_body\u001b[1;34m()\u001b[0m\n\u001b[0;32m     26\u001b[0m                     \u001b[1;32mtry\u001b[0m\u001b[1;33m:\u001b[0m\u001b[1;33m\u001b[0m\u001b[1;33m\u001b[0m\u001b[0m\n\u001b[0;32m     27\u001b[0m                         \u001b[0mdo_return\u001b[0m \u001b[1;33m=\u001b[0m \u001b[1;32mTrue\u001b[0m\u001b[1;33m\u001b[0m\u001b[1;33m\u001b[0m\u001b[0m\n\u001b[1;32m---> 28\u001b[1;33m                         \u001b[0mretval_\u001b[0m \u001b[1;33m=\u001b[0m \u001b[0mag__\u001b[0m\u001b[1;33m.\u001b[0m\u001b[0mconverted_call\u001b[0m\u001b[1;33m(\u001b[0m\u001b[0mag__\u001b[0m\u001b[1;33m.\u001b[0m\u001b[0mld\u001b[0m\u001b[1;33m(\u001b[0m\u001b[0mf\u001b[0m\u001b[1;33m)\u001b[0m\u001b[1;33m,\u001b[0m \u001b[0mtuple\u001b[0m\u001b[1;33m(\u001b[0m\u001b[0mag__\u001b[0m\u001b[1;33m.\u001b[0m\u001b[0mld\u001b[0m\u001b[1;33m(\u001b[0m\u001b[0margs\u001b[0m\u001b[1;33m)\u001b[0m\u001b[1;33m)\u001b[0m\u001b[1;33m,\u001b[0m \u001b[0mdict\u001b[0m\u001b[1;33m(\u001b[0m\u001b[1;33m**\u001b[0m\u001b[0mag__\u001b[0m\u001b[1;33m.\u001b[0m\u001b[0mld\u001b[0m\u001b[1;33m(\u001b[0m\u001b[0mkwargs\u001b[0m\u001b[1;33m)\u001b[0m\u001b[1;33m)\u001b[0m\u001b[1;33m,\u001b[0m \u001b[0mfscope\u001b[0m\u001b[1;33m)\u001b[0m\u001b[1;33m\u001b[0m\u001b[1;33m\u001b[0m\u001b[0m\n\u001b[0m\u001b[0;32m     29\u001b[0m                     \u001b[1;32mexcept\u001b[0m\u001b[1;33m:\u001b[0m\u001b[1;33m\u001b[0m\u001b[1;33m\u001b[0m\u001b[0m\n\u001b[0;32m     30\u001b[0m                         \u001b[0mdo_return\u001b[0m \u001b[1;33m=\u001b[0m \u001b[1;32mFalse\u001b[0m\u001b[1;33m\u001b[0m\u001b[1;33m\u001b[0m\u001b[0m\n",
      "\u001b[1;32m~\\anaconda3\\lib\\site-packages\\sklearn\\metrics\\_classification.py\u001b[0m in \u001b[0;36mtf__precision_recall_fscore_support\u001b[1;34m(y_true, y_pred, beta, labels, pos_label, average, warn_for, sample_weight, zero_division)\u001b[0m\n\u001b[0;32m     23\u001b[0m                     \u001b[1;32mpass\u001b[0m\u001b[1;33m\u001b[0m\u001b[1;33m\u001b[0m\u001b[0m\n\u001b[0;32m     24\u001b[0m                 \u001b[0mag__\u001b[0m\u001b[1;33m.\u001b[0m\u001b[0mif_stmt\u001b[0m\u001b[1;33m(\u001b[0m\u001b[1;33m(\u001b[0m\u001b[0mag__\u001b[0m\u001b[1;33m.\u001b[0m\u001b[0mld\u001b[0m\u001b[1;33m(\u001b[0m\u001b[0mbeta\u001b[0m\u001b[1;33m)\u001b[0m \u001b[1;33m<\u001b[0m \u001b[1;36m0\u001b[0m\u001b[1;33m)\u001b[0m\u001b[1;33m,\u001b[0m \u001b[0mif_body\u001b[0m\u001b[1;33m,\u001b[0m \u001b[0melse_body\u001b[0m\u001b[1;33m,\u001b[0m \u001b[0mget_state\u001b[0m\u001b[1;33m,\u001b[0m \u001b[0mset_state\u001b[0m\u001b[1;33m,\u001b[0m \u001b[1;33m(\u001b[0m\u001b[1;33m)\u001b[0m\u001b[1;33m,\u001b[0m \u001b[1;36m0\u001b[0m\u001b[1;33m)\u001b[0m\u001b[1;33m\u001b[0m\u001b[1;33m\u001b[0m\u001b[0m\n\u001b[1;32m---> 25\u001b[1;33m                 \u001b[0mlabels\u001b[0m \u001b[1;33m=\u001b[0m \u001b[0mag__\u001b[0m\u001b[1;33m.\u001b[0m\u001b[0mconverted_call\u001b[0m\u001b[1;33m(\u001b[0m\u001b[0mag__\u001b[0m\u001b[1;33m.\u001b[0m\u001b[0mld\u001b[0m\u001b[1;33m(\u001b[0m\u001b[0m_check_set_wise_labels\u001b[0m\u001b[1;33m)\u001b[0m\u001b[1;33m,\u001b[0m \u001b[1;33m(\u001b[0m\u001b[0mag__\u001b[0m\u001b[1;33m.\u001b[0m\u001b[0mld\u001b[0m\u001b[1;33m(\u001b[0m\u001b[0my_true\u001b[0m\u001b[1;33m)\u001b[0m\u001b[1;33m,\u001b[0m \u001b[0mag__\u001b[0m\u001b[1;33m.\u001b[0m\u001b[0mld\u001b[0m\u001b[1;33m(\u001b[0m\u001b[0my_pred\u001b[0m\u001b[1;33m)\u001b[0m\u001b[1;33m,\u001b[0m \u001b[0mag__\u001b[0m\u001b[1;33m.\u001b[0m\u001b[0mld\u001b[0m\u001b[1;33m(\u001b[0m\u001b[0maverage\u001b[0m\u001b[1;33m)\u001b[0m\u001b[1;33m,\u001b[0m \u001b[0mag__\u001b[0m\u001b[1;33m.\u001b[0m\u001b[0mld\u001b[0m\u001b[1;33m(\u001b[0m\u001b[0mlabels\u001b[0m\u001b[1;33m)\u001b[0m\u001b[1;33m,\u001b[0m \u001b[0mag__\u001b[0m\u001b[1;33m.\u001b[0m\u001b[0mld\u001b[0m\u001b[1;33m(\u001b[0m\u001b[0mpos_label\u001b[0m\u001b[1;33m)\u001b[0m\u001b[1;33m)\u001b[0m\u001b[1;33m,\u001b[0m \u001b[1;32mNone\u001b[0m\u001b[1;33m,\u001b[0m \u001b[0mfscope\u001b[0m\u001b[1;33m)\u001b[0m\u001b[1;33m\u001b[0m\u001b[1;33m\u001b[0m\u001b[0m\n\u001b[0m\u001b[0;32m     26\u001b[0m                 \u001b[0msamplewise\u001b[0m \u001b[1;33m=\u001b[0m \u001b[1;33m(\u001b[0m\u001b[0mag__\u001b[0m\u001b[1;33m.\u001b[0m\u001b[0mld\u001b[0m\u001b[1;33m(\u001b[0m\u001b[0maverage\u001b[0m\u001b[1;33m)\u001b[0m \u001b[1;33m==\u001b[0m \u001b[1;34m'samples'\u001b[0m\u001b[1;33m)\u001b[0m\u001b[1;33m\u001b[0m\u001b[1;33m\u001b[0m\u001b[0m\n\u001b[0;32m     27\u001b[0m                 \u001b[0mMCM\u001b[0m \u001b[1;33m=\u001b[0m \u001b[0mag__\u001b[0m\u001b[1;33m.\u001b[0m\u001b[0mconverted_call\u001b[0m\u001b[1;33m(\u001b[0m\u001b[0mag__\u001b[0m\u001b[1;33m.\u001b[0m\u001b[0mld\u001b[0m\u001b[1;33m(\u001b[0m\u001b[0mmultilabel_confusion_matrix\u001b[0m\u001b[1;33m)\u001b[0m\u001b[1;33m,\u001b[0m \u001b[1;33m(\u001b[0m\u001b[0mag__\u001b[0m\u001b[1;33m.\u001b[0m\u001b[0mld\u001b[0m\u001b[1;33m(\u001b[0m\u001b[0my_true\u001b[0m\u001b[1;33m)\u001b[0m\u001b[1;33m,\u001b[0m \u001b[0mag__\u001b[0m\u001b[1;33m.\u001b[0m\u001b[0mld\u001b[0m\u001b[1;33m(\u001b[0m\u001b[0my_pred\u001b[0m\u001b[1;33m)\u001b[0m\u001b[1;33m)\u001b[0m\u001b[1;33m,\u001b[0m \u001b[0mdict\u001b[0m\u001b[1;33m(\u001b[0m\u001b[0msample_weight\u001b[0m\u001b[1;33m=\u001b[0m\u001b[0mag__\u001b[0m\u001b[1;33m.\u001b[0m\u001b[0mld\u001b[0m\u001b[1;33m(\u001b[0m\u001b[0msample_weight\u001b[0m\u001b[1;33m)\u001b[0m\u001b[1;33m,\u001b[0m \u001b[0mlabels\u001b[0m\u001b[1;33m=\u001b[0m\u001b[0mag__\u001b[0m\u001b[1;33m.\u001b[0m\u001b[0mld\u001b[0m\u001b[1;33m(\u001b[0m\u001b[0mlabels\u001b[0m\u001b[1;33m)\u001b[0m\u001b[1;33m,\u001b[0m \u001b[0msamplewise\u001b[0m\u001b[1;33m=\u001b[0m\u001b[0mag__\u001b[0m\u001b[1;33m.\u001b[0m\u001b[0mld\u001b[0m\u001b[1;33m(\u001b[0m\u001b[0msamplewise\u001b[0m\u001b[1;33m)\u001b[0m\u001b[1;33m)\u001b[0m\u001b[1;33m,\u001b[0m \u001b[0mfscope\u001b[0m\u001b[1;33m)\u001b[0m\u001b[1;33m\u001b[0m\u001b[1;33m\u001b[0m\u001b[0m\n",
      "\u001b[1;32m~\\anaconda3\\lib\\site-packages\\sklearn\\metrics\\_classification.py\u001b[0m in \u001b[0;36mtf___check_set_wise_labels\u001b[1;34m(y_true, y_pred, average, labels, pos_label)\u001b[0m\n\u001b[0;32m     23\u001b[0m                     \u001b[1;32mpass\u001b[0m\u001b[1;33m\u001b[0m\u001b[1;33m\u001b[0m\u001b[0m\n\u001b[0;32m     24\u001b[0m                 \u001b[0mag__\u001b[0m\u001b[1;33m.\u001b[0m\u001b[0mif_stmt\u001b[0m\u001b[1;33m(\u001b[0m\u001b[0mag__\u001b[0m\u001b[1;33m.\u001b[0m\u001b[0mand_\u001b[0m\u001b[1;33m(\u001b[0m\u001b[1;33m(\u001b[0m\u001b[1;32mlambda\u001b[0m \u001b[1;33m:\u001b[0m \u001b[1;33m(\u001b[0m\u001b[0mag__\u001b[0m\u001b[1;33m.\u001b[0m\u001b[0mld\u001b[0m\u001b[1;33m(\u001b[0m\u001b[0maverage\u001b[0m\u001b[1;33m)\u001b[0m \u001b[1;32mnot\u001b[0m \u001b[1;32min\u001b[0m \u001b[0mag__\u001b[0m\u001b[1;33m.\u001b[0m\u001b[0mld\u001b[0m\u001b[1;33m(\u001b[0m\u001b[0maverage_options\u001b[0m\u001b[1;33m)\u001b[0m\u001b[1;33m)\u001b[0m\u001b[1;33m)\u001b[0m\u001b[1;33m,\u001b[0m \u001b[1;33m(\u001b[0m\u001b[1;32mlambda\u001b[0m \u001b[1;33m:\u001b[0m \u001b[1;33m(\u001b[0m\u001b[0mag__\u001b[0m\u001b[1;33m.\u001b[0m\u001b[0mld\u001b[0m\u001b[1;33m(\u001b[0m\u001b[0maverage\u001b[0m\u001b[1;33m)\u001b[0m \u001b[1;33m!=\u001b[0m \u001b[1;34m'binary'\u001b[0m\u001b[1;33m)\u001b[0m\u001b[1;33m)\u001b[0m\u001b[1;33m)\u001b[0m\u001b[1;33m,\u001b[0m \u001b[0mif_body\u001b[0m\u001b[1;33m,\u001b[0m \u001b[0melse_body\u001b[0m\u001b[1;33m,\u001b[0m \u001b[0mget_state\u001b[0m\u001b[1;33m,\u001b[0m \u001b[0mset_state\u001b[0m\u001b[1;33m,\u001b[0m \u001b[1;33m(\u001b[0m\u001b[1;33m)\u001b[0m\u001b[1;33m,\u001b[0m \u001b[1;36m0\u001b[0m\u001b[1;33m)\u001b[0m\u001b[1;33m\u001b[0m\u001b[1;33m\u001b[0m\u001b[0m\n\u001b[1;32m---> 25\u001b[1;33m                 \u001b[1;33m(\u001b[0m\u001b[0my_type\u001b[0m\u001b[1;33m,\u001b[0m \u001b[0my_true\u001b[0m\u001b[1;33m,\u001b[0m \u001b[0my_pred\u001b[0m\u001b[1;33m)\u001b[0m \u001b[1;33m=\u001b[0m \u001b[0mag__\u001b[0m\u001b[1;33m.\u001b[0m\u001b[0mconverted_call\u001b[0m\u001b[1;33m(\u001b[0m\u001b[0mag__\u001b[0m\u001b[1;33m.\u001b[0m\u001b[0mld\u001b[0m\u001b[1;33m(\u001b[0m\u001b[0m_check_targets\u001b[0m\u001b[1;33m)\u001b[0m\u001b[1;33m,\u001b[0m \u001b[1;33m(\u001b[0m\u001b[0mag__\u001b[0m\u001b[1;33m.\u001b[0m\u001b[0mld\u001b[0m\u001b[1;33m(\u001b[0m\u001b[0my_true\u001b[0m\u001b[1;33m)\u001b[0m\u001b[1;33m,\u001b[0m \u001b[0mag__\u001b[0m\u001b[1;33m.\u001b[0m\u001b[0mld\u001b[0m\u001b[1;33m(\u001b[0m\u001b[0my_pred\u001b[0m\u001b[1;33m)\u001b[0m\u001b[1;33m)\u001b[0m\u001b[1;33m,\u001b[0m \u001b[1;32mNone\u001b[0m\u001b[1;33m,\u001b[0m \u001b[0mfscope\u001b[0m\u001b[1;33m)\u001b[0m\u001b[1;33m\u001b[0m\u001b[1;33m\u001b[0m\u001b[0m\n\u001b[0m\u001b[0;32m     26\u001b[0m                 \u001b[0mpresent_labels\u001b[0m \u001b[1;33m=\u001b[0m \u001b[0mag__\u001b[0m\u001b[1;33m.\u001b[0m\u001b[0mconverted_call\u001b[0m\u001b[1;33m(\u001b[0m\u001b[0mag__\u001b[0m\u001b[1;33m.\u001b[0m\u001b[0mconverted_call\u001b[0m\u001b[1;33m(\u001b[0m\u001b[0mag__\u001b[0m\u001b[1;33m.\u001b[0m\u001b[0mld\u001b[0m\u001b[1;33m(\u001b[0m\u001b[0munique_labels\u001b[0m\u001b[1;33m)\u001b[0m\u001b[1;33m,\u001b[0m \u001b[1;33m(\u001b[0m\u001b[0mag__\u001b[0m\u001b[1;33m.\u001b[0m\u001b[0mld\u001b[0m\u001b[1;33m(\u001b[0m\u001b[0my_true\u001b[0m\u001b[1;33m)\u001b[0m\u001b[1;33m,\u001b[0m \u001b[0mag__\u001b[0m\u001b[1;33m.\u001b[0m\u001b[0mld\u001b[0m\u001b[1;33m(\u001b[0m\u001b[0my_pred\u001b[0m\u001b[1;33m)\u001b[0m\u001b[1;33m)\u001b[0m\u001b[1;33m,\u001b[0m \u001b[1;32mNone\u001b[0m\u001b[1;33m,\u001b[0m \u001b[0mfscope\u001b[0m\u001b[1;33m)\u001b[0m\u001b[1;33m.\u001b[0m\u001b[0mtolist\u001b[0m\u001b[1;33m,\u001b[0m \u001b[1;33m(\u001b[0m\u001b[1;33m)\u001b[0m\u001b[1;33m,\u001b[0m \u001b[1;32mNone\u001b[0m\u001b[1;33m,\u001b[0m \u001b[0mfscope\u001b[0m\u001b[1;33m)\u001b[0m\u001b[1;33m\u001b[0m\u001b[1;33m\u001b[0m\u001b[0m\n\u001b[0;32m     27\u001b[0m \u001b[1;33m\u001b[0m\u001b[0m\n",
      "\u001b[1;32m~\\anaconda3\\lib\\site-packages\\sklearn\\metrics\\_classification.py\u001b[0m in \u001b[0;36mtf___check_targets\u001b[1;34m(y_true, y_pred)\u001b[0m\n\u001b[0;32m      9\u001b[0m                 \u001b[0mdo_return\u001b[0m \u001b[1;33m=\u001b[0m \u001b[1;32mFalse\u001b[0m\u001b[1;33m\u001b[0m\u001b[1;33m\u001b[0m\u001b[0m\n\u001b[0;32m     10\u001b[0m                 \u001b[0mretval_\u001b[0m \u001b[1;33m=\u001b[0m \u001b[0mag__\u001b[0m\u001b[1;33m.\u001b[0m\u001b[0mUndefinedReturnValue\u001b[0m\u001b[1;33m(\u001b[0m\u001b[1;33m)\u001b[0m\u001b[1;33m\u001b[0m\u001b[1;33m\u001b[0m\u001b[0m\n\u001b[1;32m---> 11\u001b[1;33m                 \u001b[0mag__\u001b[0m\u001b[1;33m.\u001b[0m\u001b[0mconverted_call\u001b[0m\u001b[1;33m(\u001b[0m\u001b[0mag__\u001b[0m\u001b[1;33m.\u001b[0m\u001b[0mld\u001b[0m\u001b[1;33m(\u001b[0m\u001b[0mcheck_consistent_length\u001b[0m\u001b[1;33m)\u001b[0m\u001b[1;33m,\u001b[0m \u001b[1;33m(\u001b[0m\u001b[0mag__\u001b[0m\u001b[1;33m.\u001b[0m\u001b[0mld\u001b[0m\u001b[1;33m(\u001b[0m\u001b[0my_true\u001b[0m\u001b[1;33m)\u001b[0m\u001b[1;33m,\u001b[0m \u001b[0mag__\u001b[0m\u001b[1;33m.\u001b[0m\u001b[0mld\u001b[0m\u001b[1;33m(\u001b[0m\u001b[0my_pred\u001b[0m\u001b[1;33m)\u001b[0m\u001b[1;33m)\u001b[0m\u001b[1;33m,\u001b[0m \u001b[1;32mNone\u001b[0m\u001b[1;33m,\u001b[0m \u001b[0mfscope\u001b[0m\u001b[1;33m)\u001b[0m\u001b[1;33m\u001b[0m\u001b[1;33m\u001b[0m\u001b[0m\n\u001b[0m\u001b[0;32m     12\u001b[0m                 \u001b[0mtype_true\u001b[0m \u001b[1;33m=\u001b[0m \u001b[0mag__\u001b[0m\u001b[1;33m.\u001b[0m\u001b[0mconverted_call\u001b[0m\u001b[1;33m(\u001b[0m\u001b[0mag__\u001b[0m\u001b[1;33m.\u001b[0m\u001b[0mld\u001b[0m\u001b[1;33m(\u001b[0m\u001b[0mtype_of_target\u001b[0m\u001b[1;33m)\u001b[0m\u001b[1;33m,\u001b[0m \u001b[1;33m(\u001b[0m\u001b[0mag__\u001b[0m\u001b[1;33m.\u001b[0m\u001b[0mld\u001b[0m\u001b[1;33m(\u001b[0m\u001b[0my_true\u001b[0m\u001b[1;33m)\u001b[0m\u001b[1;33m,\u001b[0m\u001b[1;33m)\u001b[0m\u001b[1;33m,\u001b[0m \u001b[1;32mNone\u001b[0m\u001b[1;33m,\u001b[0m \u001b[0mfscope\u001b[0m\u001b[1;33m)\u001b[0m\u001b[1;33m\u001b[0m\u001b[1;33m\u001b[0m\u001b[0m\n\u001b[0;32m     13\u001b[0m                 \u001b[0mtype_pred\u001b[0m \u001b[1;33m=\u001b[0m \u001b[0mag__\u001b[0m\u001b[1;33m.\u001b[0m\u001b[0mconverted_call\u001b[0m\u001b[1;33m(\u001b[0m\u001b[0mag__\u001b[0m\u001b[1;33m.\u001b[0m\u001b[0mld\u001b[0m\u001b[1;33m(\u001b[0m\u001b[0mtype_of_target\u001b[0m\u001b[1;33m)\u001b[0m\u001b[1;33m,\u001b[0m \u001b[1;33m(\u001b[0m\u001b[0mag__\u001b[0m\u001b[1;33m.\u001b[0m\u001b[0mld\u001b[0m\u001b[1;33m(\u001b[0m\u001b[0my_pred\u001b[0m\u001b[1;33m)\u001b[0m\u001b[1;33m,\u001b[0m\u001b[1;33m)\u001b[0m\u001b[1;33m,\u001b[0m \u001b[1;32mNone\u001b[0m\u001b[1;33m,\u001b[0m \u001b[0mfscope\u001b[0m\u001b[1;33m)\u001b[0m\u001b[1;33m\u001b[0m\u001b[1;33m\u001b[0m\u001b[0m\n",
      "\u001b[1;32m~\\anaconda3\\lib\\site-packages\\sklearn\\utils\\validation.py\u001b[0m in \u001b[0;36mtf__check_consistent_length\u001b[1;34m(*arrays)\u001b[0m\n\u001b[0;32m      8\u001b[0m             \u001b[1;32mwith\u001b[0m \u001b[0mag__\u001b[0m\u001b[1;33m.\u001b[0m\u001b[0mFunctionScope\u001b[0m\u001b[1;33m(\u001b[0m\u001b[1;34m'check_consistent_length'\u001b[0m\u001b[1;33m,\u001b[0m \u001b[1;34m'fscope'\u001b[0m\u001b[1;33m,\u001b[0m \u001b[0mag__\u001b[0m\u001b[1;33m.\u001b[0m\u001b[0mSTD\u001b[0m\u001b[1;33m)\u001b[0m \u001b[1;32mas\u001b[0m \u001b[0mfscope\u001b[0m\u001b[1;33m:\u001b[0m\u001b[1;33m\u001b[0m\u001b[1;33m\u001b[0m\u001b[0m\n\u001b[0;32m      9\u001b[0m                 \u001b[0mlengths\u001b[0m \u001b[1;33m=\u001b[0m \u001b[1;33m[\u001b[0m\u001b[0mag__\u001b[0m\u001b[1;33m.\u001b[0m\u001b[0mconverted_call\u001b[0m\u001b[1;33m(\u001b[0m\u001b[0mag__\u001b[0m\u001b[1;33m.\u001b[0m\u001b[0mld\u001b[0m\u001b[1;33m(\u001b[0m\u001b[0m_num_samples\u001b[0m\u001b[1;33m)\u001b[0m\u001b[1;33m,\u001b[0m \u001b[1;33m(\u001b[0m\u001b[0mag__\u001b[0m\u001b[1;33m.\u001b[0m\u001b[0mld\u001b[0m\u001b[1;33m(\u001b[0m\u001b[0mX\u001b[0m\u001b[1;33m)\u001b[0m\u001b[1;33m,\u001b[0m\u001b[1;33m)\u001b[0m\u001b[1;33m,\u001b[0m \u001b[1;32mNone\u001b[0m\u001b[1;33m,\u001b[0m \u001b[0mfscope\u001b[0m\u001b[1;33m)\u001b[0m \u001b[1;32mfor\u001b[0m \u001b[0mX\u001b[0m \u001b[1;32min\u001b[0m \u001b[0mag__\u001b[0m\u001b[1;33m.\u001b[0m\u001b[0mld\u001b[0m\u001b[1;33m(\u001b[0m\u001b[0marrays\u001b[0m\u001b[1;33m)\u001b[0m \u001b[1;32mif\u001b[0m \u001b[1;33m(\u001b[0m\u001b[0mag__\u001b[0m\u001b[1;33m.\u001b[0m\u001b[0mld\u001b[0m\u001b[1;33m(\u001b[0m\u001b[0mX\u001b[0m\u001b[1;33m)\u001b[0m \u001b[1;32mis\u001b[0m \u001b[1;32mnot\u001b[0m \u001b[1;32mNone\u001b[0m\u001b[1;33m)\u001b[0m\u001b[1;33m]\u001b[0m\u001b[1;33m\u001b[0m\u001b[1;33m\u001b[0m\u001b[0m\n\u001b[1;32m---> 10\u001b[1;33m                 \u001b[0muniques\u001b[0m \u001b[1;33m=\u001b[0m \u001b[0mag__\u001b[0m\u001b[1;33m.\u001b[0m\u001b[0mconverted_call\u001b[0m\u001b[1;33m(\u001b[0m\u001b[0mag__\u001b[0m\u001b[1;33m.\u001b[0m\u001b[0mld\u001b[0m\u001b[1;33m(\u001b[0m\u001b[0mnp\u001b[0m\u001b[1;33m)\u001b[0m\u001b[1;33m.\u001b[0m\u001b[0munique\u001b[0m\u001b[1;33m,\u001b[0m \u001b[1;33m(\u001b[0m\u001b[0mag__\u001b[0m\u001b[1;33m.\u001b[0m\u001b[0mld\u001b[0m\u001b[1;33m(\u001b[0m\u001b[0mlengths\u001b[0m\u001b[1;33m)\u001b[0m\u001b[1;33m,\u001b[0m\u001b[1;33m)\u001b[0m\u001b[1;33m,\u001b[0m \u001b[1;32mNone\u001b[0m\u001b[1;33m,\u001b[0m \u001b[0mfscope\u001b[0m\u001b[1;33m)\u001b[0m\u001b[1;33m\u001b[0m\u001b[1;33m\u001b[0m\u001b[0m\n\u001b[0m\u001b[0;32m     11\u001b[0m \u001b[1;33m\u001b[0m\u001b[0m\n\u001b[0;32m     12\u001b[0m                 \u001b[1;32mdef\u001b[0m \u001b[0mget_state\u001b[0m\u001b[1;33m(\u001b[0m\u001b[1;33m)\u001b[0m\u001b[1;33m:\u001b[0m\u001b[1;33m\u001b[0m\u001b[1;33m\u001b[0m\u001b[0m\n",
      "\u001b[1;32m<__array_function__ internals>\u001b[0m in \u001b[0;36munique\u001b[1;34m(*args, **kwargs)\u001b[0m\n",
      "\u001b[1;32m~\\anaconda3\\lib\\site-packages\\numpy\\lib\\arraysetops.py\u001b[0m in \u001b[0;36munique\u001b[1;34m(ar, return_index, return_inverse, return_counts, axis)\u001b[0m\n\u001b[0;32m    258\u001b[0m \u001b[1;33m\u001b[0m\u001b[0m\n\u001b[0;32m    259\u001b[0m     \"\"\"\n\u001b[1;32m--> 260\u001b[1;33m     \u001b[0mar\u001b[0m \u001b[1;33m=\u001b[0m \u001b[0mnp\u001b[0m\u001b[1;33m.\u001b[0m\u001b[0masanyarray\u001b[0m\u001b[1;33m(\u001b[0m\u001b[0mar\u001b[0m\u001b[1;33m)\u001b[0m\u001b[1;33m\u001b[0m\u001b[1;33m\u001b[0m\u001b[0m\n\u001b[0m\u001b[0;32m    261\u001b[0m     \u001b[1;32mif\u001b[0m \u001b[0maxis\u001b[0m \u001b[1;32mis\u001b[0m \u001b[1;32mNone\u001b[0m\u001b[1;33m:\u001b[0m\u001b[1;33m\u001b[0m\u001b[1;33m\u001b[0m\u001b[0m\n\u001b[0;32m    262\u001b[0m         \u001b[0mret\u001b[0m \u001b[1;33m=\u001b[0m \u001b[0m_unique1d\u001b[0m\u001b[1;33m(\u001b[0m\u001b[0mar\u001b[0m\u001b[1;33m,\u001b[0m \u001b[0mreturn_index\u001b[0m\u001b[1;33m,\u001b[0m \u001b[0mreturn_inverse\u001b[0m\u001b[1;33m,\u001b[0m \u001b[0mreturn_counts\u001b[0m\u001b[1;33m)\u001b[0m\u001b[1;33m\u001b[0m\u001b[1;33m\u001b[0m\u001b[0m\n",
      "\u001b[1;32m~\\anaconda3\\lib\\site-packages\\numpy\\core\\_asarray.py\u001b[0m in \u001b[0;36masanyarray\u001b[1;34m(a, dtype, order, like)\u001b[0m\n\u001b[0;32m    169\u001b[0m         \u001b[1;32mreturn\u001b[0m \u001b[0m_asanyarray_with_like\u001b[0m\u001b[1;33m(\u001b[0m\u001b[0ma\u001b[0m\u001b[1;33m,\u001b[0m \u001b[0mdtype\u001b[0m\u001b[1;33m=\u001b[0m\u001b[0mdtype\u001b[0m\u001b[1;33m,\u001b[0m \u001b[0morder\u001b[0m\u001b[1;33m=\u001b[0m\u001b[0morder\u001b[0m\u001b[1;33m,\u001b[0m \u001b[0mlike\u001b[0m\u001b[1;33m=\u001b[0m\u001b[0mlike\u001b[0m\u001b[1;33m)\u001b[0m\u001b[1;33m\u001b[0m\u001b[1;33m\u001b[0m\u001b[0m\n\u001b[0;32m    170\u001b[0m \u001b[1;33m\u001b[0m\u001b[0m\n\u001b[1;32m--> 171\u001b[1;33m     \u001b[1;32mreturn\u001b[0m \u001b[0marray\u001b[0m\u001b[1;33m(\u001b[0m\u001b[0ma\u001b[0m\u001b[1;33m,\u001b[0m \u001b[0mdtype\u001b[0m\u001b[1;33m,\u001b[0m \u001b[0mcopy\u001b[0m\u001b[1;33m=\u001b[0m\u001b[1;32mFalse\u001b[0m\u001b[1;33m,\u001b[0m \u001b[0morder\u001b[0m\u001b[1;33m=\u001b[0m\u001b[0morder\u001b[0m\u001b[1;33m,\u001b[0m \u001b[0msubok\u001b[0m\u001b[1;33m=\u001b[0m\u001b[1;32mTrue\u001b[0m\u001b[1;33m)\u001b[0m\u001b[1;33m\u001b[0m\u001b[1;33m\u001b[0m\u001b[0m\n\u001b[0m\u001b[0;32m    172\u001b[0m \u001b[1;33m\u001b[0m\u001b[0m\n\u001b[0;32m    173\u001b[0m \u001b[1;33m\u001b[0m\u001b[0m\n",
      "\u001b[1;31mNotImplementedError\u001b[0m: in user code:\n\n    File \"C:\\Users\\NLP\\anaconda3\\lib\\site-packages\\keras\\engine\\training.py\", line 1051, in train_function  *\n        return step_function(self, iterator)\n    File \"C:\\Users\\NLP\\anaconda3\\lib\\site-packages\\sklearn\\utils\\validation.py\", line 953, in inner_f  *\n        return f(*args, **kwargs)\n    File \"C:\\Users\\NLP\\anaconda3\\lib\\site-packages\\sklearn\\metrics\\_classification.py\", line 1067, in f1_score  *\n        return fbeta_score(y_true, y_pred, beta=1, labels=labels,\n    File \"C:\\Users\\NLP\\anaconda3\\lib\\site-packages\\sklearn\\utils\\validation.py\", line 953, in inner_f  *\n        return f(*args, **kwargs)\n    File \"C:\\Users\\NLP\\anaconda3\\lib\\site-packages\\sklearn\\metrics\\_classification.py\", line 1190, in fbeta_score  *\n        _, _, f, _ = precision_recall_fscore_support(y_true, y_pred,\n    File \"C:\\Users\\NLP\\anaconda3\\lib\\site-packages\\sklearn\\utils\\validation.py\", line 953, in inner_f  *\n        return f(*args, **kwargs)\n    File \"C:\\Users\\NLP\\anaconda3\\lib\\site-packages\\sklearn\\metrics\\_classification.py\", line 1456, in precision_recall_fscore_support  *\n        labels = _check_set_wise_labels(y_true, y_pred, average, labels,\n    File \"C:\\Users\\NLP\\anaconda3\\lib\\site-packages\\sklearn\\metrics\\_classification.py\", line 1274, in _check_set_wise_labels  *\n        y_type, y_true, y_pred = _check_targets(y_true, y_pred)\n    File \"C:\\Users\\NLP\\anaconda3\\lib\\site-packages\\sklearn\\metrics\\_classification.py\", line 83, in _check_targets  *\n        check_consistent_length(y_true, y_pred)\n    File \"C:\\Users\\NLP\\anaconda3\\lib\\site-packages\\sklearn\\utils\\validation.py\", line 260, in check_consistent_length  *\n        uniques = np.unique(lengths)\n    File \"<__array_function__ internals>\", line 5, in unique  **\n        \n    File \"C:\\Users\\NLP\\anaconda3\\lib\\site-packages\\numpy\\lib\\arraysetops.py\", line 260, in unique\n        ar = np.asanyarray(ar)\n    File \"C:\\Users\\NLP\\anaconda3\\lib\\site-packages\\numpy\\core\\_asarray.py\", line 171, in asanyarray\n        return array(a, dtype, copy=False, order=order, subok=True)\n\n    NotImplementedError: Cannot convert a symbolic tf.Tensor (strided_slice_1:0) to a numpy array. This error may indicate that you're trying to pass a Tensor to a NumPy call, which is not supported.\n"
     ]
    }
   ],
   "source": [
    "#한번에 다 돌려보자\n",
    "\n",
    "best = []\n",
    "\n",
    "for x in X.columns:\n",
    "    print(x,' train & test')\n",
    "    X[x] = X[x].values\n",
    "    X_train, X_test, y_train, y_test = train_test_split(X[x], y, test_size=0.2, random_state=1)\n",
    "    encoder = LabelEncoder()\n",
    "    encoder.fit(y)\n",
    "    y_train = encoder.transform(y_train)\n",
    "    y_test = encoder.transform(y_test)\n",
    "    y_train = to_categorical(y_train)\n",
    "    y_test = to_categorical(y_test)\n",
    "    model = make_model()\n",
    "    model.compile(loss='categorical_crossentropy', optimizer='adam', metrics=['accuracy'])\n",
    "    history = model.fit(X_train, y_train, epochs=5, batch_size=32, validation_data=(X_test, y_test), callbacks=[es, mc])\n",
    "    loaded_model = load_model('one_model.h5')\n",
    "    best.append([\"{} 정확도 : \".format(x), loaded_model.evaluate(X_test, y_test)[1] ])\n",
    "    "
   ]
  },
  {
   "cell_type": "code",
   "execution_count": null,
   "id": "fc5e691c-4bce-4023-a036-f7ae141c9e35",
   "metadata": {},
   "outputs": [],
   "source": []
  },
  {
   "cell_type": "code",
   "execution_count": 17,
   "id": "863c1c82-1c6b-485e-93c2-782f29b57352",
   "metadata": {},
   "outputs": [
    {
     "name": "stdout",
     "output_type": "stream",
     "text": [
      "17\n"
     ]
    },
    {
     "data": {
      "text/plain": [
       "[['LnLF 정확도 : ', 0.475649356842041],\n",
       " ['LnTP 정확도 : ', 0.42694804072380066],\n",
       " ['SDNN 정확도 : ', 0.39772728085517883],\n",
       " ['LnHF 정확도 : ', 0.3782467544078827],\n",
       " ['pNN50 정확도 : ', 0.3425324559211731],\n",
       " ['NN50cnt 정확도 : ', 0.33766233921051025],\n",
       " ['RMSSD 정확도 : ', 0.32305195927619934],\n",
       " ['max_minHR 정확도 : ', 0.2792207896709442],\n",
       " ['HR 정확도 : ', 0.22240260243415833],\n",
       " ['BeatCnt 정확도 : ', 0.22240260243415833],\n",
       " ['modeHR 정확도 : ', 0.22240260243415833],\n",
       " ['mode_RR 정확도 : ', 0.22240260243415833],\n",
       " ['maxHR 정확도 : ', 0.22240260243415833],\n",
       " ['minHR 정확도 : ', 0.22240260243415833],\n",
       " ['LnVLF 정확도 : ', 0.2175324708223343],\n",
       " ['LFnorm 정확도 : ', 0.06331168860197067],\n",
       " ['HFnorm 정확도 : ', 0.06168831139802933]]"
      ]
     },
     "execution_count": 17,
     "metadata": {},
     "output_type": "execute_result"
    }
   ],
   "source": [
    "\n",
    "print(len(best))\n",
    "best"
   ]
  },
  {
   "cell_type": "code",
   "execution_count": 40,
   "id": "5457ea0a-81c0-4bc3-88d9-704a01bdbdc0",
   "metadata": {},
   "outputs": [
    {
     "data": {
      "text/plain": [
       "[['LnLF 정확도 : ', 0.475649356842041],\n",
       " ['LnTP 정확도 : ', 0.42694804072380066],\n",
       " ['SDNN 정확도 : ', 0.39772728085517883],\n",
       " ['LnHF 정확도 : ', 0.3782467544078827],\n",
       " ['pNN50 정확도 : ', 0.3425324559211731],\n",
       " ['NN50cnt 정확도 : ', 0.33766233921051025],\n",
       " ['RMSSD 정확도 : ', 0.32305195927619934],\n",
       " ['max_minHR 정확도 : ', 0.2792207896709442],\n",
       " ['HR 정확도 : ', 0.22240260243415833],\n",
       " ['BeatCnt 정확도 : ', 0.22240260243415833],\n",
       " ['modeHR 정확도 : ', 0.22240260243415833],\n",
       " ['mode_RR 정확도 : ', 0.22240260243415833],\n",
       " ['maxHR 정확도 : ', 0.22240260243415833],\n",
       " ['minHR 정확도 : ', 0.22240260243415833],\n",
       " ['LnVLF 정확도 : ', 0.2175324708223343],\n",
       " ['LFnorm 정확도 : ', 0.06331168860197067],\n",
       " ['HFnorm 정확도 : ', 0.06168831139802933]]"
      ]
     },
     "execution_count": 40,
     "metadata": {},
     "output_type": "execute_result"
    }
   ],
   "source": [
    "best.sort(key=lambda x : -x[1])\n",
    "best\n",
    "#이 성능은 각 컬럼 1개로만 돌려서 나온 결과임\n",
    "#성능이 안좋은것부터 하나씩 빼면서 전부 돌리기"
   ]
  },
  {
   "cell_type": "code",
   "execution_count": 174,
   "id": "c6651e74-087d-4505-8d4c-354513cc9966",
   "metadata": {},
   "outputs": [],
   "source": [
    "#컬럼수 17\n",
    "from tensorflow.keras.layers import Dropout\n",
    "\n",
    "dropout = 0.3\n",
    "# input_columns=4\n",
    "\n",
    "def model(input_columns):\n",
    "    model = Sequential([\n",
    "        Dense(64, input_dim=input_columns, activation='relu'),\n",
    "        Dense(128),\n",
    "        Dense(256, activation='relu'),\n",
    "        Dense(10, activation='softmax')\n",
    "    ])\n",
    "    \n",
    "    return model"
   ]
  },
  {
   "cell_type": "code",
   "execution_count": 160,
   "id": "48a9e285-8545-4308-b665-dfdd6ed7eff2",
   "metadata": {},
   "outputs": [
    {
     "data": {
      "text/plain": [
       "Index(['SDNN', 'LnTP', 'LnLF'], dtype='object')"
      ]
     },
     "execution_count": 160,
     "metadata": {},
     "output_type": "execute_result"
    }
   ],
   "source": [
    "X.columns"
   ]
  },
  {
   "cell_type": "code",
   "execution_count": 77,
   "id": "b5f4ae4e-f451-4303-8d5b-e18c76c8535e",
   "metadata": {},
   "outputs": [
    {
     "data": {
      "text/plain": [
       "0        7\n",
       "1        2\n",
       "2        5\n",
       "3        4\n",
       "4        1\n",
       "        ..\n",
       "3836     2\n",
       "3837    10\n",
       "3838     7\n",
       "3839     8\n",
       "3840     5\n",
       "Name: StressIndex, Length: 3078, dtype: int64"
      ]
     },
     "execution_count": 77,
     "metadata": {},
     "output_type": "execute_result"
    }
   ],
   "source": [
    "y"
   ]
  },
  {
   "cell_type": "code",
   "execution_count": 80,
   "id": "078f833a-aae5-4270-a467-24964ad27ced",
   "metadata": {
    "collapsed": true,
    "jupyter": {
     "outputs_hidden": true
    },
    "tags": []
   },
   "outputs": [
    {
     "ename": "IndexingError",
     "evalue": "Too many indexers",
     "output_type": "error",
     "traceback": [
      "\u001b[1;31m---------------------------------------------------------------------------\u001b[0m",
      "\u001b[1;31mIndexingError\u001b[0m                             Traceback (most recent call last)",
      "\u001b[1;32m<ipython-input-80-d39edb7af4a7>\u001b[0m in \u001b[0;36m<module>\u001b[1;34m\u001b[0m\n\u001b[1;32m----> 1\u001b[1;33m \u001b[0my\u001b[0m\u001b[1;33m.\u001b[0m\u001b[0miloc\u001b[0m\u001b[1;33m[\u001b[0m\u001b[1;36m3\u001b[0m \u001b[1;33m,\u001b[0m\u001b[1;33m:\u001b[0m\u001b[1;33m]\u001b[0m\u001b[1;33m\u001b[0m\u001b[1;33m\u001b[0m\u001b[0m\n\u001b[0m",
      "\u001b[1;32m~\\anaconda3\\lib\\site-packages\\pandas\\core\\indexing.py\u001b[0m in \u001b[0;36m__getitem__\u001b[1;34m(self, key)\u001b[0m\n\u001b[0;32m    887\u001b[0m                     \u001b[1;31m# AttributeError for IntervalTree get_value\u001b[0m\u001b[1;33m\u001b[0m\u001b[1;33m\u001b[0m\u001b[1;33m\u001b[0m\u001b[0m\n\u001b[0;32m    888\u001b[0m                     \u001b[1;32mreturn\u001b[0m \u001b[0mself\u001b[0m\u001b[1;33m.\u001b[0m\u001b[0mobj\u001b[0m\u001b[1;33m.\u001b[0m\u001b[0m_get_value\u001b[0m\u001b[1;33m(\u001b[0m\u001b[1;33m*\u001b[0m\u001b[0mkey\u001b[0m\u001b[1;33m,\u001b[0m \u001b[0mtakeable\u001b[0m\u001b[1;33m=\u001b[0m\u001b[0mself\u001b[0m\u001b[1;33m.\u001b[0m\u001b[0m_takeable\u001b[0m\u001b[1;33m)\u001b[0m\u001b[1;33m\u001b[0m\u001b[1;33m\u001b[0m\u001b[0m\n\u001b[1;32m--> 889\u001b[1;33m             \u001b[1;32mreturn\u001b[0m \u001b[0mself\u001b[0m\u001b[1;33m.\u001b[0m\u001b[0m_getitem_tuple\u001b[0m\u001b[1;33m(\u001b[0m\u001b[0mkey\u001b[0m\u001b[1;33m)\u001b[0m\u001b[1;33m\u001b[0m\u001b[1;33m\u001b[0m\u001b[0m\n\u001b[0m\u001b[0;32m    890\u001b[0m         \u001b[1;32melse\u001b[0m\u001b[1;33m:\u001b[0m\u001b[1;33m\u001b[0m\u001b[1;33m\u001b[0m\u001b[0m\n\u001b[0;32m    891\u001b[0m             \u001b[1;31m# we by definition only have the 0th axis\u001b[0m\u001b[1;33m\u001b[0m\u001b[1;33m\u001b[0m\u001b[1;33m\u001b[0m\u001b[0m\n",
      "\u001b[1;32m~\\anaconda3\\lib\\site-packages\\pandas\\core\\indexing.py\u001b[0m in \u001b[0;36m_getitem_tuple\u001b[1;34m(self, tup)\u001b[0m\n\u001b[0;32m   1448\u001b[0m     \u001b[1;32mdef\u001b[0m \u001b[0m_getitem_tuple\u001b[0m\u001b[1;33m(\u001b[0m\u001b[0mself\u001b[0m\u001b[1;33m,\u001b[0m \u001b[0mtup\u001b[0m\u001b[1;33m:\u001b[0m \u001b[0mTuple\u001b[0m\u001b[1;33m)\u001b[0m\u001b[1;33m:\u001b[0m\u001b[1;33m\u001b[0m\u001b[1;33m\u001b[0m\u001b[0m\n\u001b[0;32m   1449\u001b[0m \u001b[1;33m\u001b[0m\u001b[0m\n\u001b[1;32m-> 1450\u001b[1;33m         \u001b[0mself\u001b[0m\u001b[1;33m.\u001b[0m\u001b[0m_has_valid_tuple\u001b[0m\u001b[1;33m(\u001b[0m\u001b[0mtup\u001b[0m\u001b[1;33m)\u001b[0m\u001b[1;33m\u001b[0m\u001b[1;33m\u001b[0m\u001b[0m\n\u001b[0m\u001b[0;32m   1451\u001b[0m         \u001b[1;32mwith\u001b[0m \u001b[0msuppress\u001b[0m\u001b[1;33m(\u001b[0m\u001b[0mIndexingError\u001b[0m\u001b[1;33m)\u001b[0m\u001b[1;33m:\u001b[0m\u001b[1;33m\u001b[0m\u001b[1;33m\u001b[0m\u001b[0m\n\u001b[0;32m   1452\u001b[0m             \u001b[1;32mreturn\u001b[0m \u001b[0mself\u001b[0m\u001b[1;33m.\u001b[0m\u001b[0m_getitem_lowerdim\u001b[0m\u001b[1;33m(\u001b[0m\u001b[0mtup\u001b[0m\u001b[1;33m)\u001b[0m\u001b[1;33m\u001b[0m\u001b[1;33m\u001b[0m\u001b[0m\n",
      "\u001b[1;32m~\\anaconda3\\lib\\site-packages\\pandas\\core\\indexing.py\u001b[0m in \u001b[0;36m_has_valid_tuple\u001b[1;34m(self, key)\u001b[0m\n\u001b[0;32m    718\u001b[0m         \u001b[0mCheck\u001b[0m \u001b[0mthe\u001b[0m \u001b[0mkey\u001b[0m \u001b[1;32mfor\u001b[0m \u001b[0mvalid\u001b[0m \u001b[0mkeys\u001b[0m \u001b[0macross\u001b[0m \u001b[0mmy\u001b[0m \u001b[0mindexer\u001b[0m\u001b[1;33m.\u001b[0m\u001b[1;33m\u001b[0m\u001b[1;33m\u001b[0m\u001b[0m\n\u001b[0;32m    719\u001b[0m         \"\"\"\n\u001b[1;32m--> 720\u001b[1;33m         \u001b[0mself\u001b[0m\u001b[1;33m.\u001b[0m\u001b[0m_validate_key_length\u001b[0m\u001b[1;33m(\u001b[0m\u001b[0mkey\u001b[0m\u001b[1;33m)\u001b[0m\u001b[1;33m\u001b[0m\u001b[1;33m\u001b[0m\u001b[0m\n\u001b[0m\u001b[0;32m    721\u001b[0m         \u001b[1;32mfor\u001b[0m \u001b[0mi\u001b[0m\u001b[1;33m,\u001b[0m \u001b[0mk\u001b[0m \u001b[1;32min\u001b[0m \u001b[0menumerate\u001b[0m\u001b[1;33m(\u001b[0m\u001b[0mkey\u001b[0m\u001b[1;33m)\u001b[0m\u001b[1;33m:\u001b[0m\u001b[1;33m\u001b[0m\u001b[1;33m\u001b[0m\u001b[0m\n\u001b[0;32m    722\u001b[0m             \u001b[1;32mtry\u001b[0m\u001b[1;33m:\u001b[0m\u001b[1;33m\u001b[0m\u001b[1;33m\u001b[0m\u001b[0m\n",
      "\u001b[1;32m~\\anaconda3\\lib\\site-packages\\pandas\\core\\indexing.py\u001b[0m in \u001b[0;36m_validate_key_length\u001b[1;34m(self, key)\u001b[0m\n\u001b[0;32m    759\u001b[0m     \u001b[1;32mdef\u001b[0m \u001b[0m_validate_key_length\u001b[0m\u001b[1;33m(\u001b[0m\u001b[0mself\u001b[0m\u001b[1;33m,\u001b[0m \u001b[0mkey\u001b[0m\u001b[1;33m:\u001b[0m \u001b[0mSequence\u001b[0m\u001b[1;33m[\u001b[0m\u001b[0mAny\u001b[0m\u001b[1;33m]\u001b[0m\u001b[1;33m)\u001b[0m \u001b[1;33m->\u001b[0m \u001b[1;32mNone\u001b[0m\u001b[1;33m:\u001b[0m\u001b[1;33m\u001b[0m\u001b[1;33m\u001b[0m\u001b[0m\n\u001b[0;32m    760\u001b[0m         \u001b[1;32mif\u001b[0m \u001b[0mlen\u001b[0m\u001b[1;33m(\u001b[0m\u001b[0mkey\u001b[0m\u001b[1;33m)\u001b[0m \u001b[1;33m>\u001b[0m \u001b[0mself\u001b[0m\u001b[1;33m.\u001b[0m\u001b[0mndim\u001b[0m\u001b[1;33m:\u001b[0m\u001b[1;33m\u001b[0m\u001b[1;33m\u001b[0m\u001b[0m\n\u001b[1;32m--> 761\u001b[1;33m             \u001b[1;32mraise\u001b[0m \u001b[0mIndexingError\u001b[0m\u001b[1;33m(\u001b[0m\u001b[1;34m\"Too many indexers\"\u001b[0m\u001b[1;33m)\u001b[0m\u001b[1;33m\u001b[0m\u001b[1;33m\u001b[0m\u001b[0m\n\u001b[0m\u001b[0;32m    762\u001b[0m \u001b[1;33m\u001b[0m\u001b[0m\n\u001b[0;32m    763\u001b[0m     \u001b[1;32mdef\u001b[0m \u001b[0m_getitem_tuple_same_dim\u001b[0m\u001b[1;33m(\u001b[0m\u001b[0mself\u001b[0m\u001b[1;33m,\u001b[0m \u001b[0mtup\u001b[0m\u001b[1;33m:\u001b[0m \u001b[0mTuple\u001b[0m\u001b[1;33m)\u001b[0m\u001b[1;33m:\u001b[0m\u001b[1;33m\u001b[0m\u001b[1;33m\u001b[0m\u001b[0m\n",
      "\u001b[1;31mIndexingError\u001b[0m: Too many indexers"
     ]
    }
   ],
   "source": [
    "y.iloc[3,:] #y가 시리즈이고 열이 하나뿐인데 ',' 를 사용하니까 문제가 생김"
   ]
  },
  {
   "cell_type": "code",
   "execution_count": 162,
   "id": "709c44f4-221f-41ba-a9db-4e66aed9b406",
   "metadata": {},
   "outputs": [],
   "source": [
    "X = sample.copy()\n",
    "X.drop(['StressIndex'],axis=1, inplace=True) #17\n",
    "X.drop(['HFnorm'], axis=1, inplace=True) #16\n",
    "X.drop(['LFnorm'], axis=1, inplace=True) #15\n",
    "X.drop(['LnVLF'], axis=1, inplace=True) #14\n",
    "X.drop(['minHR'], axis=1, inplace=True) #13\n",
    "X.drop(['maxHR'], axis=1, inplace=True) #12\n",
    "X.drop(['mode_RR'], axis=1, inplace=True) #11\n",
    "X.drop(['modeHR'], axis=1, inplace=True) #10\n",
    "X.drop(['BeatCnt'], axis=1, inplace=True) #9\n",
    "X.drop(['HR'], axis=1, inplace=True) #8\n",
    "X.drop(['max_minHR'], axis=1, inplace=True) #7\n",
    "X.drop(['RMSSD'], axis=1, inplace=True) #6\n",
    "X.drop(['NN50cnt'], axis=1, inplace=True) #5\n",
    "X.drop(['pNN50'], axis=1, inplace=True) #4\n",
    "# X.drop(['LnHF'], axis=1, inplace=True) #3"
   ]
  },
  {
   "cell_type": "code",
   "execution_count": 163,
   "id": "d03084ee-cf48-4de3-93ff-702ff7ed564f",
   "metadata": {},
   "outputs": [
    {
     "data": {
      "text/plain": [
       "Index(['SDNN', 'LnTP', 'LnLF', 'LnHF'], dtype='object')"
      ]
     },
     "execution_count": 163,
     "metadata": {},
     "output_type": "execute_result"
    }
   ],
   "source": [
    "X.columns"
   ]
  },
  {
   "cell_type": "code",
   "execution_count": 252,
   "id": "b3733856-14cb-4ed0-b964-f3545c263ae8",
   "metadata": {
    "tags": []
   },
   "outputs": [],
   "source": [
    "from sklearn.model_selection import KFold\n",
    "from sklearn.metrics import accuracy_score\n",
    "\n",
    "\n",
    "\n",
    "\n",
    "# y = sample['StressIndex'].copy()\n",
    "\n",
    "\n",
    "\n",
    "\n",
    "# num_folds=5\n",
    "\n",
    "# kfold = KFold(n_splits=num_folds, shuffle=True)\n",
    "\n",
    "# kfold에 진짜 진짜 중요한 거! 밑에 코드에서 train과 test에는 index가 옴!! 데이터가 넘어간다고 생각을 하면 이해못함\n",
    "# 괜히 구글링해서 보는 코드들이 변수를 ~_idx라고 쓰는게 아니다. 이걸 생각하면 코드를 어떻게 짜야 할지 이해가 쉬움. 일단 텐서플로우는 완벽히 이해 됬고 파이토치도 다시 확인해보자.\n",
    "# 파이토치 코드 finalproject/final-20-nd...\n",
    "# kfold.split(X), kfold.split(X,y) 현재는 둘다 상관 없다. 어차피 밑에서 모델링 할 때 one-hot encoding을 해주기도 하고 인덱스 번호는 X로도 충분하며, X와 y의 개수는 같기 때문이다.\n",
    "\n",
    "\n",
    "score_acc = []\n",
    "score_loss = []\n",
    "def kfold_func(kfold,X, y):\n",
    "    for fold,(train_idx, test_idx) in enumerate(kfold.split(X,y)):\n",
    "    #     print(train_idx, len(train_idx))\n",
    "    #     print(test_idx, len(test_idx))\n",
    "        model2 = model(3)\n",
    "        model2.compile(loss='categorical_crossentropy', optimizer='adam', metrics=['accuracy'])\n",
    "        encoder2 = LabelEncoder()\n",
    "        encoder2.fit(y)\n",
    "\n",
    "        X_train, X_test = X.iloc[train_idx, :], X.iloc[test_idx, :]\n",
    "#         X_train, X_test = X.iloc[train_idx], X.iloc[test_idx] #feature 1개만 사용시\n",
    "        y_train, y_test = y.iloc[train_idx], y.iloc[test_idx] \n",
    "\n",
    "        y_train = encoder2.transform(y_train)\n",
    "        y_test = encoder2.transform(y_test)\n",
    "        y_train = to_categorical(y_train)\n",
    "        y_test = to_categorical(y_test)\n",
    "\n",
    "\n",
    "        #새로 알게된 사실! 이녀석도 같이 돌아야함. 단지 콜백함수로써 작동만 하는 함수인줄 알았는데 이걸 밖에 선언하면 기존 val_loss를 기억하고 있음...\n",
    "        #(model을 위에서 새로 선언해주었지만 전 model의 최소 loss를 가지고 있다는 말)\n",
    "    #     es = EarlyStopping(monitor='val_loss', patience=8, verbose=1, mode='min')\n",
    "        mc = ModelCheckpoint(filepath='0_model.h5',monitor='val_loss', mode='min', verbose=1, save_best_only=True)\n",
    "\n",
    "        print('------------------------------------------------------')\n",
    "        print('Training for {}'.format(fold))\n",
    "        history = model2.fit(X_train, y_train, epochs=40, batch_size=32, validation_data=(X_test, y_test), callbacks=[mc])\n",
    "        loaded_model = load_model('0_model.h5')\n",
    "        score_acc.append(loaded_model.evaluate(X_test, y_test)[1])\n",
    "        score_loss.append(loaded_model.evaluate(X_test, y_test)[0])\n",
    "\n",
    "\n",
    "\n",
    "    #이거는 list가 리턴된다. 처음은 loss, 두번째는 acc\n",
    "    # loaded_model.evaluate(X_test, y_test)     \n",
    "\n",
    "    print(f'최종 평균 accuracy_score : {sum(score_acc)/len(score_acc)}')\n",
    "    print(f'최종 평균 loss_score : {sum(score_loss)/len(score_loss)}')"
   ]
  },
  {
   "cell_type": "markdown",
   "id": "f6e7af51-8350-4420-8179-027824e0fbf1",
   "metadata": {
    "tags": []
   },
   "source": [
    "17_model.h5 (17 feautures)\n",
    " 최종 평균 accuracy_score : 0.4806504130363464\n",
    " 최종 평균 loss_score : 1.4827069282531737 <br>\n",
    " \n",
    "16_model.h5\n",
    "최종 평균 accuracy_score : 0.4634146332740784\n",
    "최종 평균 loss_score : 1.5211002588272096 <br>\n",
    "\n",
    "15_model.h5\n",
    "최종 평균 accuracy_score : 0.39284552335739137\n",
    "최종 평균 loss_score : 1.658779215812683<br>\n",
    "\n",
    "14_model.h5\n",
    "최종 평균 accuracy_score : 0.41203251481056213\n",
    "최종 평균 loss_score : 1.6400482416152955<br>\n",
    "\n",
    "13_model.h5\n",
    "최종 평균 accuracy_score : 0.3925203263759613\n",
    "최종 평균 loss_score : 1.6505762815475464<br>\n",
    "\n",
    "12_model.h5\n",
    "최종 평균 accuracy_score : 0.4039024353027344\n",
    "최종 평균 loss_score : 1.6676501035690308<br>\n",
    "\n",
    "11_model.h5\n",
    "최종 평균 accuracy_score : 0.44455283880233765\n",
    "최종 평균 loss_score : 1.5161062479019165<br>\n",
    "\n",
    "10_model.h5\n",
    "최종 평균 accuracy_score : 0.4520325243473053\n",
    "최종 평균 loss_score : 1.5067994356155396<br>\n",
    "\n",
    "9_model.h5\n",
    "최종 평균 accuracy_score : 0.49008129835128783\n",
    "최종 평균 loss_score : 1.434326457977295<br>\n",
    "\n",
    "8_model.h5\n",
    "최종 평균 accuracy_score : 0.5050406396389008\n",
    "최종 평균 loss_score : 1.389447283744812 <br>\n",
    "\n",
    "7_model.h5\n",
    "최종 평균 accuracy_score : 0.534959352016449\n",
    "최종 평균 loss_score : 1.2804981231689454<br>\n",
    "\n",
    "6_model.h5\n",
    "최종 평균 accuracy_score : 0.5655284523963928\n",
    "최종 평균 loss_score : 1.225916814804077<br>\n",
    "\n",
    "5_model.h5\n",
    "최종 평균 accuracy_score : 0.600000011920929\n",
    "최종 평균 loss_score : 1.1347815990447998<br>\n",
    "\n",
    "4_model.h5\n",
    "최종 평균 accuracy_score : 0.6478048682212829\n",
    "최종 평균 loss_score : 1.0561283349990844<br>\n",
    "\n",
    "3_model.h5\n",
    "최종 평균 accuracy_score : 0.5365853786468506\n",
    "최종 평균 loss_score : 1.3134488821029664<br>\n",
    "\n",
    "'SDNN', 'LnTP', 'LnLF', 'LnHF' 4개가 동일한 배경에서 가장 좋은 성능을 보여줌<br>\n",
    "epochs=100 으로 설정시 <br>\n",
    "최종 평균 accuracy_score : 0.7053658366203308\n",
    "최종 평균 loss_score : 0.9086637616157531"
   ]
  },
  {
   "cell_type": "markdown",
   "id": "7387f732-744b-4b1a-b9b6-66e7102897b2",
   "metadata": {},
   "source": [
    "## 통계 features\n",
    "### SDNN, RMSSD, NN50cnt, pNN50"
   ]
  },
  {
   "cell_type": "code",
   "execution_count": 167,
   "id": "8f5381db-fd33-4e91-941b-e7b72a8f8bf2",
   "metadata": {},
   "outputs": [
    {
     "data": {
      "text/plain": [
       "Index(['HR', 'BeatCnt', 'modeHR', 'mode_RR', 'maxHR', 'minHR', 'max_minHR',\n",
       "       'NN50cnt', 'pNN50', 'SDNN', 'RMSSD', 'LnTP', 'LnVLF', 'LnLF', 'LnHF',\n",
       "       'LFnorm', 'HFnorm', 'StressIndex'],\n",
       "      dtype='object')"
      ]
     },
     "execution_count": 167,
     "metadata": {},
     "output_type": "execute_result"
    }
   ],
   "source": [
    "sample.columns"
   ]
  },
  {
   "cell_type": "code",
   "execution_count": 188,
   "id": "0a91e8eb-575c-49a7-84b9-1ea08cf54f2d",
   "metadata": {},
   "outputs": [],
   "source": [
    "X = sample[['SDNN']].copy()\n",
    "y = sample['StressIndex'].copy()"
   ]
  },
  {
   "cell_type": "code",
   "execution_count": 209,
   "id": "7de03d25-2714-4f17-acd4-86cd5b846676",
   "metadata": {
    "collapsed": true,
    "jupyter": {
     "outputs_hidden": true
    },
    "tags": []
   },
   "outputs": [
    {
     "name": "stdout",
     "output_type": "stream",
     "text": [
      "------------------------------------------------------\n",
      "Training for 0\n",
      "Epoch 1/40\n",
      "70/77 [==========================>...] - ETA: 0s - loss: 2.0104 - accuracy: 0.3009\n",
      "Epoch 1: val_loss improved from inf to 1.70500, saving model to 0_model.h5\n",
      "77/77 [==============================] - 1s 13ms/step - loss: 1.9795 - accuracy: 0.3163 - val_loss: 1.7050 - val_accuracy: 0.3642\n",
      "Epoch 2/40\n",
      "74/77 [===========================>..] - ETA: 0s - loss: 1.5606 - accuracy: 0.4426\n",
      "Epoch 2: val_loss improved from 1.70500 to 1.53577, saving model to 0_model.h5\n",
      "77/77 [==============================] - 1s 13ms/step - loss: 1.5545 - accuracy: 0.4446 - val_loss: 1.5358 - val_accuracy: 0.4081\n",
      "Epoch 3/40\n",
      "68/77 [=========================>....] - ETA: 0s - loss: 1.4357 - accuracy: 0.4945\n",
      "Epoch 3: val_loss improved from 1.53577 to 1.41624, saving model to 0_model.h5\n",
      "77/77 [==============================] - 1s 11ms/step - loss: 1.4431 - accuracy: 0.4868 - val_loss: 1.4162 - val_accuracy: 0.4846\n",
      "Epoch 4/40\n",
      "65/77 [========================>.....] - ETA: 0s - loss: 1.3975 - accuracy: 0.4966\n",
      "Epoch 4: val_loss improved from 1.41624 to 1.37501, saving model to 0_model.h5\n",
      "77/77 [==============================] - 1s 8ms/step - loss: 1.3944 - accuracy: 0.4953 - val_loss: 1.3750 - val_accuracy: 0.4732\n",
      "Epoch 5/40\n",
      "67/77 [=========================>....] - ETA: 0s - loss: 1.3367 - accuracy: 0.5201\n",
      "Epoch 5: val_loss did not improve from 1.37501\n",
      "77/77 [==============================] - 0s 5ms/step - loss: 1.3336 - accuracy: 0.5181 - val_loss: 1.4489 - val_accuracy: 0.4504\n",
      "Epoch 6/40\n",
      "68/77 [=========================>....] - ETA: 0s - loss: 1.3137 - accuracy: 0.5244\n",
      "Epoch 6: val_loss improved from 1.37501 to 1.34335, saving model to 0_model.h5\n",
      "77/77 [==============================] - 0s 5ms/step - loss: 1.3080 - accuracy: 0.5246 - val_loss: 1.3433 - val_accuracy: 0.4992\n",
      "Epoch 7/40\n",
      "70/77 [==========================>...] - ETA: 0s - loss: 1.2688 - accuracy: 0.5321\n",
      "Epoch 7: val_loss improved from 1.34335 to 1.27571, saving model to 0_model.h5\n",
      "77/77 [==============================] - 1s 9ms/step - loss: 1.2593 - accuracy: 0.5367 - val_loss: 1.2757 - val_accuracy: 0.5317\n",
      "Epoch 8/40\n",
      "70/77 [==========================>...] - ETA: 0s - loss: 1.2654 - accuracy: 0.5371\n",
      "Epoch 8: val_loss did not improve from 1.27571\n",
      "77/77 [==============================] - 0s 5ms/step - loss: 1.2682 - accuracy: 0.5384 - val_loss: 1.3269 - val_accuracy: 0.4894\n",
      "Epoch 9/40\n",
      "74/77 [===========================>..] - ETA: 0s - loss: 1.2094 - accuracy: 0.5646\n",
      "Epoch 9: val_loss improved from 1.27571 to 1.25282, saving model to 0_model.h5\n",
      "77/77 [==============================] - 1s 9ms/step - loss: 1.2078 - accuracy: 0.5664 - val_loss: 1.2528 - val_accuracy: 0.5252\n",
      "Epoch 10/40\n",
      "75/77 [============================>.] - ETA: 0s - loss: 1.2017 - accuracy: 0.5625\n",
      "Epoch 10: val_loss improved from 1.25282 to 1.20623, saving model to 0_model.h5\n",
      "77/77 [==============================] - 0s 5ms/step - loss: 1.2068 - accuracy: 0.5599 - val_loss: 1.2062 - val_accuracy: 0.5545\n",
      "Epoch 11/40\n",
      "69/77 [=========================>....] - ETA: 0s - loss: 1.1678 - accuracy: 0.5761\n",
      "Epoch 11: val_loss improved from 1.20623 to 1.19932, saving model to 0_model.h5\n",
      "77/77 [==============================] - 1s 8ms/step - loss: 1.1730 - accuracy: 0.5721 - val_loss: 1.1993 - val_accuracy: 0.5496\n",
      "Epoch 12/40\n",
      "67/77 [=========================>....] - ETA: 0s - loss: 1.1467 - accuracy: 0.5886"
     ]
    },
    {
     "ename": "KeyboardInterrupt",
     "evalue": "",
     "output_type": "error",
     "traceback": [
      "\u001b[1;31m---------------------------------------------------------------------------\u001b[0m",
      "\u001b[1;31mKeyboardInterrupt\u001b[0m                         Traceback (most recent call last)",
      "\u001b[1;32m<ipython-input-209-20cd42caec31>\u001b[0m in \u001b[0;36m<module>\u001b[1;34m\u001b[0m\n\u001b[0;32m      1\u001b[0m \u001b[0mkfold\u001b[0m \u001b[1;33m=\u001b[0m \u001b[0mKFold\u001b[0m\u001b[1;33m(\u001b[0m\u001b[0mn_splits\u001b[0m\u001b[1;33m=\u001b[0m\u001b[1;36m5\u001b[0m\u001b[1;33m,\u001b[0m \u001b[0mshuffle\u001b[0m\u001b[1;33m=\u001b[0m\u001b[1;32mTrue\u001b[0m\u001b[1;33m)\u001b[0m\u001b[1;33m\u001b[0m\u001b[1;33m\u001b[0m\u001b[0m\n\u001b[1;32m----> 2\u001b[1;33m \u001b[0mkfold_func\u001b[0m\u001b[1;33m(\u001b[0m\u001b[0mkfold\u001b[0m\u001b[1;33m,\u001b[0m \u001b[0mX\u001b[0m\u001b[1;33m,\u001b[0m \u001b[0my\u001b[0m\u001b[1;33m)\u001b[0m\u001b[1;33m\u001b[0m\u001b[1;33m\u001b[0m\u001b[0m\n\u001b[0m",
      "\u001b[1;32m<ipython-input-208-32a1f98f8f3c>\u001b[0m in \u001b[0;36mkfold_func\u001b[1;34m(kfold, X, y)\u001b[0m\n\u001b[0;32m     47\u001b[0m         \u001b[0mprint\u001b[0m\u001b[1;33m(\u001b[0m\u001b[1;34m'------------------------------------------------------'\u001b[0m\u001b[1;33m)\u001b[0m\u001b[1;33m\u001b[0m\u001b[1;33m\u001b[0m\u001b[0m\n\u001b[0;32m     48\u001b[0m         \u001b[0mprint\u001b[0m\u001b[1;33m(\u001b[0m\u001b[1;34m'Training for {}'\u001b[0m\u001b[1;33m.\u001b[0m\u001b[0mformat\u001b[0m\u001b[1;33m(\u001b[0m\u001b[0mfold\u001b[0m\u001b[1;33m)\u001b[0m\u001b[1;33m)\u001b[0m\u001b[1;33m\u001b[0m\u001b[1;33m\u001b[0m\u001b[0m\n\u001b[1;32m---> 49\u001b[1;33m         \u001b[0mhistory\u001b[0m \u001b[1;33m=\u001b[0m \u001b[0mmodel2\u001b[0m\u001b[1;33m.\u001b[0m\u001b[0mfit\u001b[0m\u001b[1;33m(\u001b[0m\u001b[0mX_train\u001b[0m\u001b[1;33m,\u001b[0m \u001b[0my_train\u001b[0m\u001b[1;33m,\u001b[0m \u001b[0mepochs\u001b[0m\u001b[1;33m=\u001b[0m\u001b[1;36m40\u001b[0m\u001b[1;33m,\u001b[0m \u001b[0mbatch_size\u001b[0m\u001b[1;33m=\u001b[0m\u001b[1;36m32\u001b[0m\u001b[1;33m,\u001b[0m \u001b[0mvalidation_data\u001b[0m\u001b[1;33m=\u001b[0m\u001b[1;33m(\u001b[0m\u001b[0mX_test\u001b[0m\u001b[1;33m,\u001b[0m \u001b[0my_test\u001b[0m\u001b[1;33m)\u001b[0m\u001b[1;33m,\u001b[0m \u001b[0mcallbacks\u001b[0m\u001b[1;33m=\u001b[0m\u001b[1;33m[\u001b[0m\u001b[0mmc\u001b[0m\u001b[1;33m]\u001b[0m\u001b[1;33m)\u001b[0m\u001b[1;33m\u001b[0m\u001b[1;33m\u001b[0m\u001b[0m\n\u001b[0m\u001b[0;32m     50\u001b[0m         \u001b[0mloaded_model\u001b[0m \u001b[1;33m=\u001b[0m \u001b[0mload_model\u001b[0m\u001b[1;33m(\u001b[0m\u001b[1;34m'0_model.h5'\u001b[0m\u001b[1;33m)\u001b[0m\u001b[1;33m\u001b[0m\u001b[1;33m\u001b[0m\u001b[0m\n\u001b[0;32m     51\u001b[0m         \u001b[0mscore_acc\u001b[0m\u001b[1;33m.\u001b[0m\u001b[0mappend\u001b[0m\u001b[1;33m(\u001b[0m\u001b[0mloaded_model\u001b[0m\u001b[1;33m.\u001b[0m\u001b[0mevaluate\u001b[0m\u001b[1;33m(\u001b[0m\u001b[0mX_test\u001b[0m\u001b[1;33m,\u001b[0m \u001b[0my_test\u001b[0m\u001b[1;33m)\u001b[0m\u001b[1;33m[\u001b[0m\u001b[1;36m1\u001b[0m\u001b[1;33m]\u001b[0m\u001b[1;33m)\u001b[0m\u001b[1;33m\u001b[0m\u001b[1;33m\u001b[0m\u001b[0m\n",
      "\u001b[1;32m~\\anaconda3\\lib\\site-packages\\keras\\utils\\traceback_utils.py\u001b[0m in \u001b[0;36merror_handler\u001b[1;34m(*args, **kwargs)\u001b[0m\n\u001b[0;32m     62\u001b[0m     \u001b[0mfiltered_tb\u001b[0m \u001b[1;33m=\u001b[0m \u001b[1;32mNone\u001b[0m\u001b[1;33m\u001b[0m\u001b[1;33m\u001b[0m\u001b[0m\n\u001b[0;32m     63\u001b[0m     \u001b[1;32mtry\u001b[0m\u001b[1;33m:\u001b[0m\u001b[1;33m\u001b[0m\u001b[1;33m\u001b[0m\u001b[0m\n\u001b[1;32m---> 64\u001b[1;33m       \u001b[1;32mreturn\u001b[0m \u001b[0mfn\u001b[0m\u001b[1;33m(\u001b[0m\u001b[1;33m*\u001b[0m\u001b[0margs\u001b[0m\u001b[1;33m,\u001b[0m \u001b[1;33m**\u001b[0m\u001b[0mkwargs\u001b[0m\u001b[1;33m)\u001b[0m\u001b[1;33m\u001b[0m\u001b[1;33m\u001b[0m\u001b[0m\n\u001b[0m\u001b[0;32m     65\u001b[0m     \u001b[1;32mexcept\u001b[0m \u001b[0mException\u001b[0m \u001b[1;32mas\u001b[0m \u001b[0me\u001b[0m\u001b[1;33m:\u001b[0m  \u001b[1;31m# pylint: disable=broad-except\u001b[0m\u001b[1;33m\u001b[0m\u001b[1;33m\u001b[0m\u001b[0m\n\u001b[0;32m     66\u001b[0m       \u001b[0mfiltered_tb\u001b[0m \u001b[1;33m=\u001b[0m \u001b[0m_process_traceback_frames\u001b[0m\u001b[1;33m(\u001b[0m\u001b[0me\u001b[0m\u001b[1;33m.\u001b[0m\u001b[0m__traceback__\u001b[0m\u001b[1;33m)\u001b[0m\u001b[1;33m\u001b[0m\u001b[1;33m\u001b[0m\u001b[0m\n",
      "\u001b[1;32m~\\anaconda3\\lib\\site-packages\\keras\\engine\\training.py\u001b[0m in \u001b[0;36mfit\u001b[1;34m(self, x, y, batch_size, epochs, verbose, callbacks, validation_split, validation_data, shuffle, class_weight, sample_weight, initial_epoch, steps_per_epoch, validation_steps, validation_batch_size, validation_freq, max_queue_size, workers, use_multiprocessing)\u001b[0m\n\u001b[0;32m   1407\u001b[0m                 _r=1):\n\u001b[0;32m   1408\u001b[0m               \u001b[0mcallbacks\u001b[0m\u001b[1;33m.\u001b[0m\u001b[0mon_train_batch_begin\u001b[0m\u001b[1;33m(\u001b[0m\u001b[0mstep\u001b[0m\u001b[1;33m)\u001b[0m\u001b[1;33m\u001b[0m\u001b[1;33m\u001b[0m\u001b[0m\n\u001b[1;32m-> 1409\u001b[1;33m               \u001b[0mtmp_logs\u001b[0m \u001b[1;33m=\u001b[0m \u001b[0mself\u001b[0m\u001b[1;33m.\u001b[0m\u001b[0mtrain_function\u001b[0m\u001b[1;33m(\u001b[0m\u001b[0miterator\u001b[0m\u001b[1;33m)\u001b[0m\u001b[1;33m\u001b[0m\u001b[1;33m\u001b[0m\u001b[0m\n\u001b[0m\u001b[0;32m   1410\u001b[0m               \u001b[1;32mif\u001b[0m \u001b[0mdata_handler\u001b[0m\u001b[1;33m.\u001b[0m\u001b[0mshould_sync\u001b[0m\u001b[1;33m:\u001b[0m\u001b[1;33m\u001b[0m\u001b[1;33m\u001b[0m\u001b[0m\n\u001b[0;32m   1411\u001b[0m                 \u001b[0mcontext\u001b[0m\u001b[1;33m.\u001b[0m\u001b[0masync_wait\u001b[0m\u001b[1;33m(\u001b[0m\u001b[1;33m)\u001b[0m\u001b[1;33m\u001b[0m\u001b[1;33m\u001b[0m\u001b[0m\n",
      "\u001b[1;32m~\\AppData\\Roaming\\Python\\Python38\\site-packages\\tensorflow\\python\\util\\traceback_utils.py\u001b[0m in \u001b[0;36merror_handler\u001b[1;34m(*args, **kwargs)\u001b[0m\n\u001b[0;32m    148\u001b[0m     \u001b[0mfiltered_tb\u001b[0m \u001b[1;33m=\u001b[0m \u001b[1;32mNone\u001b[0m\u001b[1;33m\u001b[0m\u001b[1;33m\u001b[0m\u001b[0m\n\u001b[0;32m    149\u001b[0m     \u001b[1;32mtry\u001b[0m\u001b[1;33m:\u001b[0m\u001b[1;33m\u001b[0m\u001b[1;33m\u001b[0m\u001b[0m\n\u001b[1;32m--> 150\u001b[1;33m       \u001b[1;32mreturn\u001b[0m \u001b[0mfn\u001b[0m\u001b[1;33m(\u001b[0m\u001b[1;33m*\u001b[0m\u001b[0margs\u001b[0m\u001b[1;33m,\u001b[0m \u001b[1;33m**\u001b[0m\u001b[0mkwargs\u001b[0m\u001b[1;33m)\u001b[0m\u001b[1;33m\u001b[0m\u001b[1;33m\u001b[0m\u001b[0m\n\u001b[0m\u001b[0;32m    151\u001b[0m     \u001b[1;32mexcept\u001b[0m \u001b[0mException\u001b[0m \u001b[1;32mas\u001b[0m \u001b[0me\u001b[0m\u001b[1;33m:\u001b[0m\u001b[1;33m\u001b[0m\u001b[1;33m\u001b[0m\u001b[0m\n\u001b[0;32m    152\u001b[0m       \u001b[0mfiltered_tb\u001b[0m \u001b[1;33m=\u001b[0m \u001b[0m_process_traceback_frames\u001b[0m\u001b[1;33m(\u001b[0m\u001b[0me\u001b[0m\u001b[1;33m.\u001b[0m\u001b[0m__traceback__\u001b[0m\u001b[1;33m)\u001b[0m\u001b[1;33m\u001b[0m\u001b[1;33m\u001b[0m\u001b[0m\n",
      "\u001b[1;32m~\\AppData\\Roaming\\Python\\Python38\\site-packages\\tensorflow\\python\\eager\\def_function.py\u001b[0m in \u001b[0;36m__call__\u001b[1;34m(self, *args, **kwds)\u001b[0m\n\u001b[0;32m    913\u001b[0m \u001b[1;33m\u001b[0m\u001b[0m\n\u001b[0;32m    914\u001b[0m       \u001b[1;32mwith\u001b[0m \u001b[0mOptionalXlaContext\u001b[0m\u001b[1;33m(\u001b[0m\u001b[0mself\u001b[0m\u001b[1;33m.\u001b[0m\u001b[0m_jit_compile\u001b[0m\u001b[1;33m)\u001b[0m\u001b[1;33m:\u001b[0m\u001b[1;33m\u001b[0m\u001b[1;33m\u001b[0m\u001b[0m\n\u001b[1;32m--> 915\u001b[1;33m         \u001b[0mresult\u001b[0m \u001b[1;33m=\u001b[0m \u001b[0mself\u001b[0m\u001b[1;33m.\u001b[0m\u001b[0m_call\u001b[0m\u001b[1;33m(\u001b[0m\u001b[1;33m*\u001b[0m\u001b[0margs\u001b[0m\u001b[1;33m,\u001b[0m \u001b[1;33m**\u001b[0m\u001b[0mkwds\u001b[0m\u001b[1;33m)\u001b[0m\u001b[1;33m\u001b[0m\u001b[1;33m\u001b[0m\u001b[0m\n\u001b[0m\u001b[0;32m    916\u001b[0m \u001b[1;33m\u001b[0m\u001b[0m\n\u001b[0;32m    917\u001b[0m       \u001b[0mnew_tracing_count\u001b[0m \u001b[1;33m=\u001b[0m \u001b[0mself\u001b[0m\u001b[1;33m.\u001b[0m\u001b[0mexperimental_get_tracing_count\u001b[0m\u001b[1;33m(\u001b[0m\u001b[1;33m)\u001b[0m\u001b[1;33m\u001b[0m\u001b[1;33m\u001b[0m\u001b[0m\n",
      "\u001b[1;32m~\\AppData\\Roaming\\Python\\Python38\\site-packages\\tensorflow\\python\\eager\\def_function.py\u001b[0m in \u001b[0;36m_call\u001b[1;34m(self, *args, **kwds)\u001b[0m\n\u001b[0;32m    945\u001b[0m       \u001b[1;31m# In this case we have created variables on the first call, so we run the\u001b[0m\u001b[1;33m\u001b[0m\u001b[1;33m\u001b[0m\u001b[1;33m\u001b[0m\u001b[0m\n\u001b[0;32m    946\u001b[0m       \u001b[1;31m# defunned version which is guaranteed to never create variables.\u001b[0m\u001b[1;33m\u001b[0m\u001b[1;33m\u001b[0m\u001b[1;33m\u001b[0m\u001b[0m\n\u001b[1;32m--> 947\u001b[1;33m       \u001b[1;32mreturn\u001b[0m \u001b[0mself\u001b[0m\u001b[1;33m.\u001b[0m\u001b[0m_stateless_fn\u001b[0m\u001b[1;33m(\u001b[0m\u001b[1;33m*\u001b[0m\u001b[0margs\u001b[0m\u001b[1;33m,\u001b[0m \u001b[1;33m**\u001b[0m\u001b[0mkwds\u001b[0m\u001b[1;33m)\u001b[0m  \u001b[1;31m# pylint: disable=not-callable\u001b[0m\u001b[1;33m\u001b[0m\u001b[1;33m\u001b[0m\u001b[0m\n\u001b[0m\u001b[0;32m    948\u001b[0m     \u001b[1;32melif\u001b[0m \u001b[0mself\u001b[0m\u001b[1;33m.\u001b[0m\u001b[0m_stateful_fn\u001b[0m \u001b[1;32mis\u001b[0m \u001b[1;32mnot\u001b[0m \u001b[1;32mNone\u001b[0m\u001b[1;33m:\u001b[0m\u001b[1;33m\u001b[0m\u001b[1;33m\u001b[0m\u001b[0m\n\u001b[0;32m    949\u001b[0m       \u001b[1;31m# Release the lock early so that multiple threads can perform the call\u001b[0m\u001b[1;33m\u001b[0m\u001b[1;33m\u001b[0m\u001b[1;33m\u001b[0m\u001b[0m\n",
      "\u001b[1;32m~\\AppData\\Roaming\\Python\\Python38\\site-packages\\tensorflow\\python\\eager\\function.py\u001b[0m in \u001b[0;36m__call__\u001b[1;34m(self, *args, **kwargs)\u001b[0m\n\u001b[0;32m   2451\u001b[0m       (graph_function,\n\u001b[0;32m   2452\u001b[0m        filtered_flat_args) = self._maybe_define_function(args, kwargs)\n\u001b[1;32m-> 2453\u001b[1;33m     return graph_function._call_flat(\n\u001b[0m\u001b[0;32m   2454\u001b[0m         filtered_flat_args, captured_inputs=graph_function.captured_inputs)  # pylint: disable=protected-access\n\u001b[0;32m   2455\u001b[0m \u001b[1;33m\u001b[0m\u001b[0m\n",
      "\u001b[1;32m~\\AppData\\Roaming\\Python\\Python38\\site-packages\\tensorflow\\python\\eager\\function.py\u001b[0m in \u001b[0;36m_call_flat\u001b[1;34m(self, args, captured_inputs, cancellation_manager)\u001b[0m\n\u001b[0;32m   1858\u001b[0m         and executing_eagerly):\n\u001b[0;32m   1859\u001b[0m       \u001b[1;31m# No tape is watching; skip to running the function.\u001b[0m\u001b[1;33m\u001b[0m\u001b[1;33m\u001b[0m\u001b[1;33m\u001b[0m\u001b[0m\n\u001b[1;32m-> 1860\u001b[1;33m       return self._build_call_outputs(self._inference_function.call(\n\u001b[0m\u001b[0;32m   1861\u001b[0m           ctx, args, cancellation_manager=cancellation_manager))\n\u001b[0;32m   1862\u001b[0m     forward_backward = self._select_forward_and_backward_functions(\n",
      "\u001b[1;32m~\\AppData\\Roaming\\Python\\Python38\\site-packages\\tensorflow\\python\\eager\\function.py\u001b[0m in \u001b[0;36mcall\u001b[1;34m(self, ctx, args, cancellation_manager)\u001b[0m\n\u001b[0;32m    495\u001b[0m       \u001b[1;32mwith\u001b[0m \u001b[0m_InterpolateFunctionError\u001b[0m\u001b[1;33m(\u001b[0m\u001b[0mself\u001b[0m\u001b[1;33m)\u001b[0m\u001b[1;33m:\u001b[0m\u001b[1;33m\u001b[0m\u001b[1;33m\u001b[0m\u001b[0m\n\u001b[0;32m    496\u001b[0m         \u001b[1;32mif\u001b[0m \u001b[0mcancellation_manager\u001b[0m \u001b[1;32mis\u001b[0m \u001b[1;32mNone\u001b[0m\u001b[1;33m:\u001b[0m\u001b[1;33m\u001b[0m\u001b[1;33m\u001b[0m\u001b[0m\n\u001b[1;32m--> 497\u001b[1;33m           outputs = execute.execute(\n\u001b[0m\u001b[0;32m    498\u001b[0m               \u001b[0mstr\u001b[0m\u001b[1;33m(\u001b[0m\u001b[0mself\u001b[0m\u001b[1;33m.\u001b[0m\u001b[0msignature\u001b[0m\u001b[1;33m.\u001b[0m\u001b[0mname\u001b[0m\u001b[1;33m)\u001b[0m\u001b[1;33m,\u001b[0m\u001b[1;33m\u001b[0m\u001b[1;33m\u001b[0m\u001b[0m\n\u001b[0;32m    499\u001b[0m               \u001b[0mnum_outputs\u001b[0m\u001b[1;33m=\u001b[0m\u001b[0mself\u001b[0m\u001b[1;33m.\u001b[0m\u001b[0m_num_outputs\u001b[0m\u001b[1;33m,\u001b[0m\u001b[1;33m\u001b[0m\u001b[1;33m\u001b[0m\u001b[0m\n",
      "\u001b[1;32m~\\AppData\\Roaming\\Python\\Python38\\site-packages\\tensorflow\\python\\eager\\execute.py\u001b[0m in \u001b[0;36mquick_execute\u001b[1;34m(op_name, num_outputs, inputs, attrs, ctx, name)\u001b[0m\n\u001b[0;32m     52\u001b[0m   \u001b[1;32mtry\u001b[0m\u001b[1;33m:\u001b[0m\u001b[1;33m\u001b[0m\u001b[1;33m\u001b[0m\u001b[0m\n\u001b[0;32m     53\u001b[0m     \u001b[0mctx\u001b[0m\u001b[1;33m.\u001b[0m\u001b[0mensure_initialized\u001b[0m\u001b[1;33m(\u001b[0m\u001b[1;33m)\u001b[0m\u001b[1;33m\u001b[0m\u001b[1;33m\u001b[0m\u001b[0m\n\u001b[1;32m---> 54\u001b[1;33m     tensors = pywrap_tfe.TFE_Py_Execute(ctx._handle, device_name, op_name,\n\u001b[0m\u001b[0;32m     55\u001b[0m                                         inputs, attrs, num_outputs)\n\u001b[0;32m     56\u001b[0m   \u001b[1;32mexcept\u001b[0m \u001b[0mcore\u001b[0m\u001b[1;33m.\u001b[0m\u001b[0m_NotOkStatusException\u001b[0m \u001b[1;32mas\u001b[0m \u001b[0me\u001b[0m\u001b[1;33m:\u001b[0m\u001b[1;33m\u001b[0m\u001b[1;33m\u001b[0m\u001b[0m\n",
      "\u001b[1;31mKeyboardInterrupt\u001b[0m: "
     ]
    }
   ],
   "source": [
    "kfold = KFold(n_splits=5, shuffle=True)\n",
    "kfold_func(kfold, X, y)"
   ]
  },
  {
   "cell_type": "markdown",
   "id": "335b86ac-c576-40be-be83-9fbfa01fb564",
   "metadata": {
    "tags": []
   },
   "source": [
    "SDNN, RMSSD, NN50cnt, pNN50 <br>\n",
    "최종 평균 accuracy_score : 0.41008129715919495<br>\n",
    "최종 평균 loss_score : 1.6236515283584594 <br>\n",
    "\n",
    "\n",
    "SDNN, NN50cnt, pNN50<br>\n",
    "최종 평균 accuracy_score : 0.4100813001394272 <br>\n",
    "최종 평균 loss_score : 1.6175793886184693 <br>\n",
    "\n",
    "SDNN, pNN50<br>\n",
    "최종 평균 accuracy_score : 0.40813007950782776 <br>\n",
    "최종 평균 loss_score : 1.6006160259246827 <br>\n",
    "\n",
    "SDNN<br>\n",
    "최종 평균 accuracy_score : 0.40195122361183167<br>\n",
    "최종 평균 loss_score : 1.6414166688919067<br>\n",
    "\n",
    "SDNN 혼자 다함"
   ]
  },
  {
   "cell_type": "markdown",
   "id": "01526f3f-49e8-4a62-a1d6-5f8dc49f4071",
   "metadata": {},
   "source": [
    "## Frequency-Domain features\n",
    "### LnTP, LnVLF, LnLF, LnHF, LFnorm, HFnorm"
   ]
  },
  {
   "cell_type": "code",
   "execution_count": 251,
   "id": "3199bacf-1174-4829-9fd7-20607c78f500",
   "metadata": {},
   "outputs": [],
   "source": [
    "X = sample[['LnLF','LnHF','SDNN']].copy()\n",
    "y = sample['StressIndex'].copy()"
   ]
  },
  {
   "cell_type": "code",
   "execution_count": 253,
   "id": "4b68530b-379e-4b47-bc79-2305a9a08e04",
   "metadata": {
    "collapsed": true,
    "jupyter": {
     "outputs_hidden": true
    },
    "tags": []
   },
   "outputs": [
    {
     "name": "stdout",
     "output_type": "stream",
     "text": [
      "------------------------------------------------------\n",
      "Training for 0\n",
      "Epoch 1/40\n",
      "71/77 [==========================>...] - ETA: 0s - loss: 2.6142 - accuracy: 0.1928\n",
      "Epoch 1: val_loss improved from inf to 2.31888, saving model to 0_model.h5\n",
      "77/77 [==============================] - 1s 10ms/step - loss: 2.5732 - accuracy: 0.2011 - val_loss: 2.3189 - val_accuracy: 0.2711\n",
      "Epoch 2/40\n",
      "70/77 [==========================>...] - ETA: 0s - loss: 2.1270 - accuracy: 0.2205\n",
      "Epoch 2: val_loss improved from 2.31888 to 1.96535, saving model to 0_model.h5\n",
      "77/77 [==============================] - 1s 10ms/step - loss: 2.1167 - accuracy: 0.2271 - val_loss: 1.9654 - val_accuracy: 0.2825\n",
      "Epoch 3/40\n",
      "77/77 [==============================] - ETA: 0s - loss: 1.9302 - accuracy: 0.3152\n",
      "Epoch 3: val_loss did not improve from 1.96535\n",
      "77/77 [==============================] - 0s 5ms/step - loss: 1.9302 - accuracy: 0.3152 - val_loss: 1.9927 - val_accuracy: 0.3166\n",
      "Epoch 4/40\n",
      "77/77 [==============================] - ETA: 0s - loss: 1.8947 - accuracy: 0.3359\n",
      "Epoch 4: val_loss improved from 1.96535 to 1.88520, saving model to 0_model.h5\n",
      "77/77 [==============================] - 1s 13ms/step - loss: 1.8947 - accuracy: 0.3359 - val_loss: 1.8852 - val_accuracy: 0.3068\n",
      "Epoch 5/40\n",
      "65/77 [========================>.....] - ETA: 0s - loss: 1.8234 - accuracy: 0.3524\n",
      "Epoch 5: val_loss improved from 1.88520 to 1.85111, saving model to 0_model.h5\n",
      "77/77 [==============================] - 0s 6ms/step - loss: 1.8201 - accuracy: 0.3509 - val_loss: 1.8511 - val_accuracy: 0.3506\n",
      "Epoch 6/40\n",
      "76/77 [============================>.] - ETA: 0s - loss: 1.7957 - accuracy: 0.3614\n",
      "Epoch 6: val_loss improved from 1.85111 to 1.74461, saving model to 0_model.h5\n",
      "77/77 [==============================] - 1s 8ms/step - loss: 1.7925 - accuracy: 0.3635 - val_loss: 1.7446 - val_accuracy: 0.3685\n",
      "Epoch 7/40\n",
      "76/77 [============================>.] - ETA: 0s - loss: 1.7512 - accuracy: 0.3853\n",
      "Epoch 7: val_loss did not improve from 1.74461\n",
      "77/77 [==============================] - 0s 5ms/step - loss: 1.7489 - accuracy: 0.3871 - val_loss: 1.7903 - val_accuracy: 0.3929\n",
      "Epoch 8/40\n",
      "65/77 [========================>.....] - ETA: 0s - loss: 1.7150 - accuracy: 0.4000\n",
      "Epoch 8: val_loss did not improve from 1.74461\n",
      "77/77 [==============================] - 0s 5ms/step - loss: 1.7076 - accuracy: 0.3964 - val_loss: 1.7655 - val_accuracy: 0.3896\n",
      "Epoch 9/40\n",
      "66/77 [========================>.....] - ETA: 0s - loss: 1.6611 - accuracy: 0.4134\n",
      "Epoch 9: val_loss improved from 1.74461 to 1.73780, saving model to 0_model.h5\n",
      "77/77 [==============================] - 0s 6ms/step - loss: 1.6712 - accuracy: 0.4123 - val_loss: 1.7378 - val_accuracy: 0.3734\n",
      "Epoch 10/40\n",
      "70/77 [==========================>...] - ETA: 0s - loss: 1.6297 - accuracy: 0.4228\n",
      "Epoch 10: val_loss did not improve from 1.73780\n",
      "77/77 [==============================] - 0s 5ms/step - loss: 1.6362 - accuracy: 0.4232 - val_loss: 1.7486 - val_accuracy: 0.4253\n",
      "Epoch 11/40\n",
      "74/77 [===========================>..] - ETA: 0s - loss: 1.5831 - accuracy: 0.4383\n",
      "Epoch 11: val_loss improved from 1.73780 to 1.68059, saving model to 0_model.h5\n",
      "77/77 [==============================] - 1s 8ms/step - loss: 1.5936 - accuracy: 0.4358 - val_loss: 1.6806 - val_accuracy: 0.3588\n",
      "Epoch 12/40\n",
      "68/77 [=========================>....] - ETA: 0s - loss: 1.5279 - accuracy: 0.4619\n",
      "Epoch 12: val_loss improved from 1.68059 to 1.54985, saving model to 0_model.h5\n",
      "77/77 [==============================] - 1s 7ms/step - loss: 1.5296 - accuracy: 0.4602 - val_loss: 1.5498 - val_accuracy: 0.4172\n",
      "Epoch 13/40\n",
      "68/77 [=========================>....] - ETA: 0s - loss: 1.4371 - accuracy: 0.4899\n",
      "Epoch 13: val_loss improved from 1.54985 to 1.49095, saving model to 0_model.h5\n",
      "77/77 [==============================] - 0s 5ms/step - loss: 1.4439 - accuracy: 0.4870 - val_loss: 1.4909 - val_accuracy: 0.5032\n",
      "Epoch 14/40\n",
      "71/77 [==========================>...] - ETA: 0s - loss: 1.4023 - accuracy: 0.5048\n",
      "Epoch 14: val_loss improved from 1.49095 to 1.44838, saving model to 0_model.h5\n",
      "77/77 [==============================] - 0s 6ms/step - loss: 1.3940 - accuracy: 0.5102 - val_loss: 1.4484 - val_accuracy: 0.4708\n",
      "Epoch 15/40\n",
      "64/77 [=======================>......] - ETA: 0s - loss: 1.3440 - accuracy: 0.5249\n",
      "Epoch 15: val_loss improved from 1.44838 to 1.37413, saving model to 0_model.h5\n",
      "77/77 [==============================] - 1s 9ms/step - loss: 1.3377 - accuracy: 0.5301 - val_loss: 1.3741 - val_accuracy: 0.5438\n",
      "Epoch 16/40\n",
      "75/77 [============================>.] - ETA: 0s - loss: 1.3009 - accuracy: 0.5367\n",
      "Epoch 16: val_loss did not improve from 1.37413\n",
      "77/77 [==============================] - 0s 5ms/step - loss: 1.3015 - accuracy: 0.5353 - val_loss: 1.4608 - val_accuracy: 0.4659\n",
      "Epoch 17/40\n",
      "75/77 [============================>.] - ETA: 0s - loss: 1.2839 - accuracy: 0.5400\n",
      "Epoch 17: val_loss did not improve from 1.37413\n",
      "77/77 [==============================] - 0s 5ms/step - loss: 1.2852 - accuracy: 0.5406 - val_loss: 1.4540 - val_accuracy: 0.4221\n",
      "Epoch 18/40\n",
      "71/77 [==========================>...] - ETA: 0s - loss: 1.3056 - accuracy: 0.5075\n",
      "Epoch 18: val_loss improved from 1.37413 to 1.32434, saving model to 0_model.h5\n",
      "77/77 [==============================] - 1s 11ms/step - loss: 1.2995 - accuracy: 0.5134 - val_loss: 1.3243 - val_accuracy: 0.5682\n",
      "Epoch 19/40\n",
      "72/77 [===========================>..] - ETA: 0s - loss: 1.2226 - accuracy: 0.5625\n",
      "Epoch 19: val_loss did not improve from 1.32434\n",
      "77/77 [==============================] - 0s 4ms/step - loss: 1.2164 - accuracy: 0.5666 - val_loss: 1.3627 - val_accuracy: 0.4838\n",
      "Epoch 20/40\n",
      "64/77 [=======================>......] - ETA: 0s - loss: 1.1988 - accuracy: 0.5610\n",
      "Epoch 20: val_loss improved from 1.32434 to 1.31289, saving model to 0_model.h5\n",
      "77/77 [==============================] - 1s 7ms/step - loss: 1.1933 - accuracy: 0.5609 - val_loss: 1.3129 - val_accuracy: 0.5958\n",
      "Epoch 21/40\n",
      "73/77 [===========================>..] - ETA: 0s - loss: 1.1554 - accuracy: 0.6045\n",
      "Epoch 21: val_loss improved from 1.31289 to 1.25508, saving model to 0_model.h5\n",
      "77/77 [==============================] - 1s 13ms/step - loss: 1.1547 - accuracy: 0.6015 - val_loss: 1.2551 - val_accuracy: 0.5260\n",
      "Epoch 22/40\n",
      "71/77 [==========================>...] - ETA: 0s - loss: 1.2657 - accuracy: 0.5268\n",
      "Epoch 22: val_loss improved from 1.25508 to 1.24176, saving model to 0_model.h5\n",
      "77/77 [==============================] - 1s 9ms/step - loss: 1.2558 - accuracy: 0.5349 - val_loss: 1.2418 - val_accuracy: 0.5682\n",
      "Epoch 23/40\n",
      "70/77 [==========================>...] - ETA: 0s - loss: 1.1445 - accuracy: 0.5933\n",
      "Epoch 23: val_loss improved from 1.24176 to 1.23831, saving model to 0_model.h5\n",
      "77/77 [==============================] - 1s 7ms/step - loss: 1.1355 - accuracy: 0.5987 - val_loss: 1.2383 - val_accuracy: 0.5276\n",
      "Epoch 24/40\n",
      "76/77 [============================>.] - ETA: 0s - loss: 1.1377 - accuracy: 0.5933\n",
      "Epoch 24: val_loss improved from 1.23831 to 1.20828, saving model to 0_model.h5\n",
      "77/77 [==============================] - 1s 8ms/step - loss: 1.1387 - accuracy: 0.5918 - val_loss: 1.2083 - val_accuracy: 0.6299\n",
      "Epoch 25/40\n",
      "77/77 [==============================] - ETA: 0s - loss: 1.0896 - accuracy: 0.6259\n",
      "Epoch 25: val_loss did not improve from 1.20828\n",
      "77/77 [==============================] - 0s 4ms/step - loss: 1.0896 - accuracy: 0.6259 - val_loss: 1.2526 - val_accuracy: 0.5000\n",
      "Epoch 26/40\n",
      "65/77 [========================>.....] - ETA: 0s - loss: 1.1397 - accuracy: 0.5913\n",
      "Epoch 26: val_loss improved from 1.20828 to 1.19101, saving model to 0_model.h5\n",
      "77/77 [==============================] - 1s 8ms/step - loss: 1.1273 - accuracy: 0.5995 - val_loss: 1.1910 - val_accuracy: 0.5731\n",
      "Epoch 27/40\n",
      "63/77 [=======================>......] - ETA: 0s - loss: 1.0574 - accuracy: 0.6349\n",
      "Epoch 27: val_loss did not improve from 1.19101\n",
      "77/77 [==============================] - 0s 4ms/step - loss: 1.0631 - accuracy: 0.6308 - val_loss: 1.2742 - val_accuracy: 0.5455\n",
      "Epoch 28/40\n",
      "65/77 [========================>.....] - ETA: 0s - loss: 1.1801 - accuracy: 0.5731\n",
      "Epoch 28: val_loss improved from 1.19101 to 1.16758, saving model to 0_model.h5\n",
      "77/77 [==============================] - 1s 9ms/step - loss: 1.1577 - accuracy: 0.5849 - val_loss: 1.1676 - val_accuracy: 0.5763\n",
      "Epoch 29/40\n",
      "70/77 [==========================>...] - ETA: 0s - loss: 1.1203 - accuracy: 0.6054\n",
      "Epoch 29: val_loss improved from 1.16758 to 1.13949, saving model to 0_model.h5\n",
      "77/77 [==============================] - 1s 7ms/step - loss: 1.1050 - accuracy: 0.6121 - val_loss: 1.1395 - val_accuracy: 0.6201\n",
      "Epoch 30/40\n",
      "70/77 [==========================>...] - ETA: 0s - loss: 1.1175 - accuracy: 0.6116\n",
      "Epoch 30: val_loss did not improve from 1.13949\n",
      "77/77 [==============================] - 0s 5ms/step - loss: 1.1089 - accuracy: 0.6125 - val_loss: 1.2437 - val_accuracy: 0.5860\n",
      "Epoch 31/40\n",
      "72/77 [===========================>..] - ETA: 0s - loss: 1.0578 - accuracy: 0.6341\n",
      "Epoch 31: val_loss did not improve from 1.13949\n",
      "77/77 [==============================] - 0s 4ms/step - loss: 1.0788 - accuracy: 0.6239 - val_loss: 1.1734 - val_accuracy: 0.5601\n",
      "Epoch 32/40\n",
      "62/77 [=======================>......] - ETA: 0s - loss: 1.0936 - accuracy: 0.6190\n",
      "Epoch 32: val_loss did not improve from 1.13949\n",
      "77/77 [==============================] - 0s 4ms/step - loss: 1.0941 - accuracy: 0.6194 - val_loss: 1.2387 - val_accuracy: 0.4968\n",
      "Epoch 33/40\n",
      "65/77 [========================>.....] - ETA: 0s - loss: 1.0453 - accuracy: 0.6346\n",
      "Epoch 33: val_loss improved from 1.13949 to 1.07730, saving model to 0_model.h5\n",
      "77/77 [==============================] - 1s 10ms/step - loss: 1.0400 - accuracy: 0.6413 - val_loss: 1.0773 - val_accuracy: 0.6445\n",
      "Epoch 34/40\n",
      "73/77 [===========================>..] - ETA: 0s - loss: 1.0188 - accuracy: 0.6460\n",
      "Epoch 34: val_loss did not improve from 1.07730\n",
      "77/77 [==============================] - 0s 4ms/step - loss: 1.0313 - accuracy: 0.6426 - val_loss: 1.2644 - val_accuracy: 0.5049\n",
      "Epoch 35/40\n",
      "73/77 [===========================>..] - ETA: 0s - loss: 1.0082 - accuracy: 0.6417\n",
      "Epoch 35: val_loss improved from 1.07730 to 1.04894, saving model to 0_model.h5\n",
      "77/77 [==============================] - 1s 7ms/step - loss: 1.0068 - accuracy: 0.6454 - val_loss: 1.0489 - val_accuracy: 0.6364\n",
      "Epoch 36/40\n",
      "63/77 [=======================>......] - ETA: 0s - loss: 1.0100 - accuracy: 0.6389\n",
      "Epoch 36: val_loss did not improve from 1.04894\n",
      "77/77 [==============================] - 0s 4ms/step - loss: 1.0070 - accuracy: 0.6426 - val_loss: 1.0925 - val_accuracy: 0.6656\n",
      "Epoch 37/40\n",
      "66/77 [========================>.....] - ETA: 0s - loss: 0.9980 - accuracy: 0.6648\n",
      "Epoch 37: val_loss did not improve from 1.04894\n",
      "77/77 [==============================] - 0s 4ms/step - loss: 0.9926 - accuracy: 0.6621 - val_loss: 1.0732 - val_accuracy: 0.6120\n",
      "Epoch 38/40\n",
      "64/77 [=======================>......] - ETA: 0s - loss: 1.0081 - accuracy: 0.6460\n",
      "Epoch 38: val_loss improved from 1.04894 to 1.03745, saving model to 0_model.h5\n",
      "77/77 [==============================] - 1s 7ms/step - loss: 0.9935 - accuracy: 0.6576 - val_loss: 1.0375 - val_accuracy: 0.6591\n",
      "Epoch 39/40\n",
      "63/77 [=======================>......] - ETA: 0s - loss: 0.9948 - accuracy: 0.6468\n",
      "Epoch 39: val_loss improved from 1.03745 to 1.01199, saving model to 0_model.h5\n",
      "77/77 [==============================] - 1s 10ms/step - loss: 1.0027 - accuracy: 0.6487 - val_loss: 1.0120 - val_accuracy: 0.6802\n",
      "Epoch 40/40\n",
      "68/77 [=========================>....] - ETA: 0s - loss: 1.0001 - accuracy: 0.6608\n",
      "Epoch 40: val_loss did not improve from 1.01199\n",
      "77/77 [==============================] - 0s 5ms/step - loss: 0.9997 - accuracy: 0.6596 - val_loss: 1.0457 - val_accuracy: 0.6315\n",
      "20/20 [==============================] - 0s 4ms/step - loss: 1.0120 - accuracy: 0.6802\n",
      "20/20 [==============================] - 0s 4ms/step - loss: 1.0120 - accuracy: 0.6802\n",
      "------------------------------------------------------\n",
      "Training for 1\n",
      "Epoch 1/40\n",
      "70/77 [==========================>...] - ETA: 0s - loss: 2.6038 - accuracy: 0.1888\n",
      "Epoch 1: val_loss improved from inf to 2.08558, saving model to 0_model.h5\n",
      "77/77 [==============================] - 1s 13ms/step - loss: 2.5613 - accuracy: 0.1917 - val_loss: 2.0856 - val_accuracy: 0.1672\n",
      "Epoch 2/40\n",
      "71/77 [==========================>...] - ETA: 0s - loss: 2.0598 - accuracy: 0.2482\n",
      "Epoch 2: val_loss improved from 2.08558 to 1.95809, saving model to 0_model.h5\n",
      "77/77 [==============================] - 1s 12ms/step - loss: 2.0518 - accuracy: 0.2510 - val_loss: 1.9581 - val_accuracy: 0.2825\n",
      "Epoch 3/40\n",
      "69/77 [=========================>....] - ETA: 0s - loss: 1.9238 - accuracy: 0.3143\n",
      "Epoch 3: val_loss improved from 1.95809 to 1.84585, saving model to 0_model.h5\n",
      "77/77 [==============================] - 1s 7ms/step - loss: 1.9203 - accuracy: 0.3168 - val_loss: 1.8459 - val_accuracy: 0.3718\n",
      "Epoch 4/40\n",
      "68/77 [=========================>....] - ETA: 0s - loss: 1.8809 - accuracy: 0.3208\n",
      "Epoch 4: val_loss improved from 1.84585 to 1.80764, saving model to 0_model.h5\n",
      "77/77 [==============================] - 1s 10ms/step - loss: 1.8754 - accuracy: 0.3237 - val_loss: 1.8076 - val_accuracy: 0.3864\n",
      "Epoch 5/40\n",
      "69/77 [=========================>....] - ETA: 0s - loss: 1.8502 - accuracy: 0.3279\n",
      "Epoch 5: val_loss did not improve from 1.80764\n",
      "77/77 [==============================] - 0s 5ms/step - loss: 1.8523 - accuracy: 0.3274 - val_loss: 1.8189 - val_accuracy: 0.3425\n",
      "Epoch 6/40\n",
      "71/77 [==========================>...] - ETA: 0s - loss: 1.7894 - accuracy: 0.3596\n",
      "Epoch 6: val_loss improved from 1.80764 to 1.73893, saving model to 0_model.h5\n",
      "77/77 [==============================] - 1s 12ms/step - loss: 1.7948 - accuracy: 0.3582 - val_loss: 1.7389 - val_accuracy: 0.3604\n",
      "Epoch 7/40\n",
      "66/77 [========================>.....] - ETA: 0s - loss: 1.7181 - accuracy: 0.3797\n",
      "Epoch 7: val_loss improved from 1.73893 to 1.66162, saving model to 0_model.h5\n",
      "77/77 [==============================] - 1s 12ms/step - loss: 1.7159 - accuracy: 0.3875 - val_loss: 1.6616 - val_accuracy: 0.4302\n",
      "Epoch 8/40\n",
      "68/77 [=========================>....] - ETA: 0s - loss: 1.6657 - accuracy: 0.4040\n",
      "Epoch 8: val_loss improved from 1.66162 to 1.57308, saving model to 0_model.h5\n",
      "77/77 [==============================] - 1s 7ms/step - loss: 1.6671 - accuracy: 0.4041 - val_loss: 1.5731 - val_accuracy: 0.4481\n",
      "Epoch 9/40\n",
      "63/77 [=======================>......] - ETA: 0s - loss: 1.6516 - accuracy: 0.4216\n",
      "Epoch 9: val_loss did not improve from 1.57308\n",
      "77/77 [==============================] - 0s 4ms/step - loss: 1.6404 - accuracy: 0.4265 - val_loss: 1.5805 - val_accuracy: 0.4172\n",
      "Epoch 10/40\n",
      "62/77 [=======================>......] - ETA: 0s - loss: 1.5804 - accuracy: 0.4239\n",
      "Epoch 10: val_loss improved from 1.57308 to 1.45206, saving model to 0_model.h5\n",
      "77/77 [==============================] - 1s 7ms/step - loss: 1.5802 - accuracy: 0.4265 - val_loss: 1.4521 - val_accuracy: 0.4984\n",
      "Epoch 11/40\n",
      "65/77 [========================>.....] - ETA: 0s - loss: 1.4871 - accuracy: 0.4736\n",
      "Epoch 11: val_loss did not improve from 1.45206\n",
      "77/77 [==============================] - 0s 4ms/step - loss: 1.4822 - accuracy: 0.4773 - val_loss: 1.5144 - val_accuracy: 0.4237\n",
      "Epoch 12/40\n",
      "72/77 [===========================>..] - ETA: 0s - loss: 1.4271 - accuracy: 0.4905\n",
      "Epoch 12: val_loss improved from 1.45206 to 1.30622, saving model to 0_model.h5\n",
      "77/77 [==============================] - 1s 9ms/step - loss: 1.4236 - accuracy: 0.4935 - val_loss: 1.3062 - val_accuracy: 0.5487\n",
      "Epoch 13/40\n",
      "61/77 [======================>.......] - ETA: 0s - loss: 1.4103 - accuracy: 0.4821\n",
      "Epoch 13: val_loss improved from 1.30622 to 1.26249, saving model to 0_model.h5\n",
      "77/77 [==============================] - 1s 8ms/step - loss: 1.3962 - accuracy: 0.4898 - val_loss: 1.2625 - val_accuracy: 0.5747\n",
      "Epoch 14/40\n",
      "72/77 [===========================>..] - ETA: 0s - loss: 1.3207 - accuracy: 0.5343\n",
      "Epoch 14: val_loss did not improve from 1.26249\n",
      "77/77 [==============================] - 0s 4ms/step - loss: 1.3237 - accuracy: 0.5317 - val_loss: 1.3179 - val_accuracy: 0.5682\n",
      "Epoch 15/40\n",
      "74/77 [===========================>..] - ETA: 0s - loss: 1.3041 - accuracy: 0.5401\n",
      "Epoch 15: val_loss did not improve from 1.26249\n",
      "77/77 [==============================] - 0s 4ms/step - loss: 1.3013 - accuracy: 0.5431 - val_loss: 1.3083 - val_accuracy: 0.4903\n",
      "Epoch 16/40\n",
      "62/77 [=======================>......] - ETA: 0s - loss: 1.2329 - accuracy: 0.5595\n",
      "Epoch 16: val_loss improved from 1.26249 to 1.11658, saving model to 0_model.h5\n",
      "77/77 [==============================] - 1s 8ms/step - loss: 1.2283 - accuracy: 0.5609 - val_loss: 1.1166 - val_accuracy: 0.6526\n",
      "Epoch 17/40\n",
      "70/77 [==========================>...] - ETA: 0s - loss: 1.2168 - accuracy: 0.5750\n",
      "Epoch 17: val_loss improved from 1.11658 to 1.09948, saving model to 0_model.h5\n",
      "77/77 [==============================] - 1s 10ms/step - loss: 1.2056 - accuracy: 0.5768 - val_loss: 1.0995 - val_accuracy: 0.5909\n",
      "Epoch 18/40\n",
      "76/77 [============================>.] - ETA: 0s - loss: 1.2445 - accuracy: 0.5403\n",
      "Epoch 18: val_loss did not improve from 1.09948\n",
      "77/77 [==============================] - 0s 6ms/step - loss: 1.2436 - accuracy: 0.5402 - val_loss: 1.2535 - val_accuracy: 0.5049\n",
      "Epoch 19/40\n",
      "64/77 [=======================>......] - ETA: 0s - loss: 1.1919 - accuracy: 0.5728\n",
      "Epoch 19: val_loss did not improve from 1.09948\n",
      "77/77 [==============================] - 0s 4ms/step - loss: 1.1925 - accuracy: 0.5776 - val_loss: 1.1166 - val_accuracy: 0.5958\n",
      "Epoch 20/40\n",
      "65/77 [========================>.....] - ETA: 0s - loss: 1.1686 - accuracy: 0.5846\n",
      "Epoch 20: val_loss improved from 1.09948 to 1.04206, saving model to 0_model.h5\n",
      "77/77 [==============================] - 1s 9ms/step - loss: 1.1676 - accuracy: 0.5853 - val_loss: 1.0421 - val_accuracy: 0.6688\n",
      "Epoch 21/40\n",
      "66/77 [========================>.....] - ETA: 0s - loss: 1.1856 - accuracy: 0.5814\n",
      "Epoch 21: val_loss did not improve from 1.04206\n",
      "77/77 [==============================] - 0s 4ms/step - loss: 1.1833 - accuracy: 0.5804 - val_loss: 1.3213 - val_accuracy: 0.4416\n",
      "Epoch 22/40\n",
      "72/77 [===========================>..] - ETA: 0s - loss: 1.1864 - accuracy: 0.5720\n",
      "Epoch 22: val_loss did not improve from 1.04206\n",
      "77/77 [==============================] - 0s 4ms/step - loss: 1.1813 - accuracy: 0.5755 - val_loss: 1.0881 - val_accuracy: 0.5958\n",
      "Epoch 23/40\n",
      "77/77 [==============================] - ETA: 0s - loss: 1.0985 - accuracy: 0.6300\n",
      "Epoch 23: val_loss did not improve from 1.04206\n",
      "77/77 [==============================] - 0s 5ms/step - loss: 1.0985 - accuracy: 0.6300 - val_loss: 1.1124 - val_accuracy: 0.5779\n",
      "Epoch 24/40\n",
      "68/77 [=========================>....] - ETA: 0s - loss: 1.1025 - accuracy: 0.6112\n",
      "Epoch 24: val_loss improved from 1.04206 to 1.02397, saving model to 0_model.h5\n",
      "77/77 [==============================] - 1s 9ms/step - loss: 1.1043 - accuracy: 0.6084 - val_loss: 1.0240 - val_accuracy: 0.6753\n",
      "Epoch 25/40\n",
      "71/77 [==========================>...] - ETA: 0s - loss: 1.0898 - accuracy: 0.6232\n",
      "Epoch 25: val_loss did not improve from 1.02397\n",
      "77/77 [==============================] - 0s 4ms/step - loss: 1.0849 - accuracy: 0.6235 - val_loss: 1.0248 - val_accuracy: 0.6705\n",
      "Epoch 26/40\n",
      "64/77 [=======================>......] - ETA: 0s - loss: 1.1021 - accuracy: 0.6094\n",
      "Epoch 26: val_loss improved from 1.02397 to 1.01686, saving model to 0_model.h5\n",
      "77/77 [==============================] - 1s 8ms/step - loss: 1.0901 - accuracy: 0.6190 - val_loss: 1.0169 - val_accuracy: 0.6331\n",
      "Epoch 27/40\n",
      "77/77 [==============================] - ETA: 0s - loss: 1.0913 - accuracy: 0.6093\n",
      "Epoch 27: val_loss improved from 1.01686 to 0.98141, saving model to 0_model.h5\n",
      "77/77 [==============================] - 1s 10ms/step - loss: 1.0913 - accuracy: 0.6093 - val_loss: 0.9814 - val_accuracy: 0.6802\n",
      "Epoch 28/40\n",
      "71/77 [==========================>...] - ETA: 0s - loss: 1.0356 - accuracy: 0.6496\n",
      "Epoch 28: val_loss did not improve from 0.98141\n",
      "77/77 [==============================] - 0s 5ms/step - loss: 1.0376 - accuracy: 0.6470 - val_loss: 1.0552 - val_accuracy: 0.6396\n",
      "Epoch 29/40\n",
      "69/77 [=========================>....] - ETA: 0s - loss: 1.2417 - accuracy: 0.5362\n",
      "Epoch 29: val_loss did not improve from 0.98141\n",
      "77/77 [==============================] - 0s 5ms/step - loss: 1.2356 - accuracy: 0.5394 - val_loss: 1.3725 - val_accuracy: 0.4253\n",
      "Epoch 30/40\n",
      "77/77 [==============================] - ETA: 0s - loss: 1.1402 - accuracy: 0.5837\n",
      "Epoch 30: val_loss did not improve from 0.98141\n",
      "77/77 [==============================] - 0s 4ms/step - loss: 1.1402 - accuracy: 0.5837 - val_loss: 1.0099 - val_accuracy: 0.6899\n",
      "Epoch 31/40\n",
      "65/77 [========================>.....] - ETA: 0s - loss: 1.0228 - accuracy: 0.6447\n",
      "Epoch 31: val_loss improved from 0.98141 to 0.96668, saving model to 0_model.h5\n",
      "77/77 [==============================] - 1s 7ms/step - loss: 1.0199 - accuracy: 0.6470 - val_loss: 0.9667 - val_accuracy: 0.6607\n",
      "Epoch 32/40\n",
      "77/77 [==============================] - ETA: 0s - loss: 1.0039 - accuracy: 0.6564\n",
      "Epoch 32: val_loss did not improve from 0.96668\n",
      "77/77 [==============================] - 0s 4ms/step - loss: 1.0039 - accuracy: 0.6564 - val_loss: 0.9904 - val_accuracy: 0.6737\n",
      "Epoch 33/40\n",
      "65/77 [========================>.....] - ETA: 0s - loss: 1.0224 - accuracy: 0.6635\n",
      "Epoch 33: val_loss did not improve from 0.96668\n",
      "77/77 [==============================] - 0s 4ms/step - loss: 1.0217 - accuracy: 0.6637 - val_loss: 0.9907 - val_accuracy: 0.6380\n",
      "Epoch 34/40\n",
      "76/77 [============================>.] - ETA: 0s - loss: 1.0438 - accuracy: 0.6258\n",
      "Epoch 34: val_loss did not improve from 0.96668\n",
      "77/77 [==============================] - 0s 5ms/step - loss: 1.0417 - accuracy: 0.6271 - val_loss: 1.0857 - val_accuracy: 0.5860\n",
      "Epoch 35/40\n",
      "74/77 [===========================>..] - ETA: 0s - loss: 1.0708 - accuracy: 0.6119\n",
      "Epoch 35: val_loss did not improve from 0.96668\n",
      "77/77 [==============================] - 0s 5ms/step - loss: 1.0682 - accuracy: 0.6117 - val_loss: 0.9827 - val_accuracy: 0.6883\n",
      "Epoch 36/40\n",
      "65/77 [========================>.....] - ETA: 0s - loss: 1.0345 - accuracy: 0.6284\n",
      "Epoch 36: val_loss improved from 0.96668 to 0.95956, saving model to 0_model.h5\n",
      "77/77 [==============================] - 1s 7ms/step - loss: 1.0409 - accuracy: 0.6267 - val_loss: 0.9596 - val_accuracy: 0.6834\n",
      "Epoch 37/40\n",
      "65/77 [========================>.....] - ETA: 0s - loss: 1.0024 - accuracy: 0.6639\n",
      "Epoch 37: val_loss improved from 0.95956 to 0.91763, saving model to 0_model.h5\n",
      "77/77 [==============================] - 1s 8ms/step - loss: 0.9928 - accuracy: 0.6661 - val_loss: 0.9176 - val_accuracy: 0.6997\n",
      "Epoch 38/40\n",
      "64/77 [=======================>......] - ETA: 0s - loss: 0.9628 - accuracy: 0.6719\n",
      "Epoch 38: val_loss did not improve from 0.91763\n",
      "77/77 [==============================] - 0s 4ms/step - loss: 0.9885 - accuracy: 0.6556 - val_loss: 0.9381 - val_accuracy: 0.6851\n",
      "Epoch 39/40\n",
      "74/77 [===========================>..] - ETA: 0s - loss: 1.0128 - accuracy: 0.6622\n",
      "Epoch 39: val_loss improved from 0.91763 to 0.90515, saving model to 0_model.h5\n",
      "77/77 [==============================] - 1s 8ms/step - loss: 1.0077 - accuracy: 0.6661 - val_loss: 0.9052 - val_accuracy: 0.7208\n",
      "Epoch 40/40\n",
      "64/77 [=======================>......] - ETA: 0s - loss: 0.9771 - accuracy: 0.6631\n",
      "Epoch 40: val_loss improved from 0.90515 to 0.90175, saving model to 0_model.h5\n",
      "77/77 [==============================] - 0s 4ms/step - loss: 0.9602 - accuracy: 0.6722 - val_loss: 0.9017 - val_accuracy: 0.7370\n",
      "20/20 [==============================] - 0s 2ms/step - loss: 0.9017 - accuracy: 0.7370\n",
      "20/20 [==============================] - 0s 3ms/step - loss: 0.9017 - accuracy: 0.7370\n",
      "------------------------------------------------------\n",
      "Training for 2\n",
      "Epoch 1/40\n",
      "70/77 [==========================>...] - ETA: 0s - loss: 2.5451 - accuracy: 0.1723\n",
      "Epoch 1: val_loss improved from inf to 2.09262, saving model to 0_model.h5\n",
      "77/77 [==============================] - 1s 12ms/step - loss: 2.5045 - accuracy: 0.1816 - val_loss: 2.0926 - val_accuracy: 0.2597\n",
      "Epoch 2/40\n",
      "63/77 [=======================>......] - ETA: 0s - loss: 2.0869 - accuracy: 0.2540\n",
      "Epoch 2: val_loss improved from 2.09262 to 2.02788, saving model to 0_model.h5\n",
      "77/77 [==============================] - 0s 6ms/step - loss: 2.0637 - accuracy: 0.2660 - val_loss: 2.0279 - val_accuracy: 0.2955\n",
      "Epoch 3/40\n",
      "64/77 [=======================>......] - ETA: 0s - loss: 1.9924 - accuracy: 0.2891\n",
      "Epoch 3: val_loss improved from 2.02788 to 1.86662, saving model to 0_model.h5\n",
      "77/77 [==============================] - 1s 9ms/step - loss: 1.9828 - accuracy: 0.2937 - val_loss: 1.8666 - val_accuracy: 0.3425\n",
      "Epoch 4/40\n",
      "65/77 [========================>.....] - ETA: 0s - loss: 1.9501 - accuracy: 0.2966\n",
      "Epoch 4: val_loss improved from 1.86662 to 1.83110, saving model to 0_model.h5\n",
      "77/77 [==============================] - 1s 8ms/step - loss: 1.9413 - accuracy: 0.3022 - val_loss: 1.8311 - val_accuracy: 0.3718\n",
      "Epoch 5/40\n",
      "72/77 [===========================>..] - ETA: 0s - loss: 1.8523 - accuracy: 0.3524\n",
      "Epoch 5: val_loss did not improve from 1.83110\n",
      "77/77 [==============================] - 0s 5ms/step - loss: 1.8532 - accuracy: 0.3522 - val_loss: 1.9378 - val_accuracy: 0.2679\n",
      "Epoch 6/40\n",
      "70/77 [==========================>...] - ETA: 0s - loss: 1.8432 - accuracy: 0.3402\n",
      "Epoch 6: val_loss did not improve from 1.83110\n",
      "77/77 [==============================] - 0s 6ms/step - loss: 1.8388 - accuracy: 0.3404 - val_loss: 1.8606 - val_accuracy: 0.2938\n",
      "Epoch 7/40\n",
      "66/77 [========================>.....] - ETA: 0s - loss: 1.7826 - accuracy: 0.3641\n",
      "Epoch 7: val_loss did not improve from 1.83110\n",
      "77/77 [==============================] - 0s 4ms/step - loss: 1.7854 - accuracy: 0.3619 - val_loss: 1.8504 - val_accuracy: 0.3555\n",
      "Epoch 8/40\n",
      "67/77 [=========================>....] - ETA: 0s - loss: 1.7343 - accuracy: 0.3867\n",
      "Epoch 8: val_loss improved from 1.83110 to 1.74497, saving model to 0_model.h5\n",
      "77/77 [==============================] - 1s 7ms/step - loss: 1.7219 - accuracy: 0.3928 - val_loss: 1.7450 - val_accuracy: 0.3214\n",
      "Epoch 9/40\n",
      "75/77 [============================>.] - ETA: 0s - loss: 1.6769 - accuracy: 0.4025\n",
      "Epoch 9: val_loss improved from 1.74497 to 1.63681, saving model to 0_model.h5\n",
      "77/77 [==============================] - 1s 9ms/step - loss: 1.6779 - accuracy: 0.4013 - val_loss: 1.6368 - val_accuracy: 0.4156\n",
      "Epoch 10/40\n",
      "68/77 [=========================>....] - ETA: 0s - loss: 1.5693 - accuracy: 0.4458\n",
      "Epoch 10: val_loss improved from 1.63681 to 1.53106, saving model to 0_model.h5\n",
      "77/77 [==============================] - 1s 10ms/step - loss: 1.5687 - accuracy: 0.4456 - val_loss: 1.5311 - val_accuracy: 0.4562\n",
      "Epoch 11/40\n",
      "64/77 [=======================>......] - ETA: 0s - loss: 1.5587 - accuracy: 0.4390\n",
      "Epoch 11: val_loss improved from 1.53106 to 1.45129, saving model to 0_model.h5\n",
      "77/77 [==============================] - 1s 7ms/step - loss: 1.5393 - accuracy: 0.4504 - val_loss: 1.4513 - val_accuracy: 0.4968\n",
      "Epoch 12/40\n",
      "66/77 [========================>.....] - ETA: 0s - loss: 1.4491 - accuracy: 0.4934\n",
      "Epoch 12: val_loss did not improve from 1.45129\n",
      "77/77 [==============================] - 0s 4ms/step - loss: 1.4407 - accuracy: 0.4968 - val_loss: 1.5982 - val_accuracy: 0.4269\n",
      "Epoch 13/40\n",
      "69/77 [=========================>....] - ETA: 0s - loss: 1.4417 - accuracy: 0.4787\n",
      "Epoch 13: val_loss improved from 1.45129 to 1.32535, saving model to 0_model.h5\n",
      "77/77 [==============================] - 1s 8ms/step - loss: 1.4330 - accuracy: 0.4833 - val_loss: 1.3253 - val_accuracy: 0.5519\n",
      "Epoch 14/40\n",
      "73/77 [===========================>..] - ETA: 0s - loss: 1.3701 - accuracy: 0.5150\n",
      "Epoch 14: val_loss improved from 1.32535 to 1.31996, saving model to 0_model.h5\n",
      "77/77 [==============================] - 1s 8ms/step - loss: 1.3640 - accuracy: 0.5167 - val_loss: 1.3200 - val_accuracy: 0.5146\n",
      "Epoch 15/40\n",
      "64/77 [=======================>......] - ETA: 0s - loss: 1.3432 - accuracy: 0.5151\n",
      "Epoch 15: val_loss did not improve from 1.31996\n",
      "77/77 [==============================] - 0s 4ms/step - loss: 1.3446 - accuracy: 0.5138 - val_loss: 1.4251 - val_accuracy: 0.4269\n",
      "Epoch 16/40\n",
      "64/77 [=======================>......] - ETA: 0s - loss: 1.2902 - accuracy: 0.5396\n",
      "Epoch 16: val_loss did not improve from 1.31996\n",
      "77/77 [==============================] - 0s 4ms/step - loss: 1.3021 - accuracy: 0.5394 - val_loss: 1.7145 - val_accuracy: 0.4367\n",
      "Epoch 17/40\n",
      "68/77 [=========================>....] - ETA: 0s - loss: 1.3246 - accuracy: 0.5271\n",
      "Epoch 17: val_loss improved from 1.31996 to 1.24640, saving model to 0_model.h5\n",
      "77/77 [==============================] - 1s 10ms/step - loss: 1.3135 - accuracy: 0.5309 - val_loss: 1.2464 - val_accuracy: 0.5471\n",
      "Epoch 18/40\n",
      "76/77 [============================>.] - ETA: 0s - loss: 1.2677 - accuracy: 0.5444\n",
      "Epoch 18: val_loss improved from 1.24640 to 1.22924, saving model to 0_model.h5\n",
      "77/77 [==============================] - 1s 7ms/step - loss: 1.2664 - accuracy: 0.5439 - val_loss: 1.2292 - val_accuracy: 0.6055\n",
      "Epoch 19/40\n",
      "70/77 [==========================>...] - ETA: 0s - loss: 1.2102 - accuracy: 0.5759\n",
      "Epoch 19: val_loss improved from 1.22924 to 1.22542, saving model to 0_model.h5\n",
      "77/77 [==============================] - 1s 10ms/step - loss: 1.2134 - accuracy: 0.5711 - val_loss: 1.2254 - val_accuracy: 0.5633\n",
      "Epoch 20/40\n",
      "66/77 [========================>.....] - ETA: 0s - loss: 1.2392 - accuracy: 0.5526\n",
      "Epoch 20: val_loss did not improve from 1.22542\n",
      "77/77 [==============================] - 0s 5ms/step - loss: 1.2358 - accuracy: 0.5504 - val_loss: 1.2745 - val_accuracy: 0.5471\n",
      "Epoch 21/40\n",
      "67/77 [=========================>....] - ETA: 0s - loss: 1.1605 - accuracy: 0.5835\n",
      "Epoch 21: val_loss improved from 1.22542 to 1.21776, saving model to 0_model.h5\n",
      "77/77 [==============================] - 1s 8ms/step - loss: 1.1673 - accuracy: 0.5812 - val_loss: 1.2178 - val_accuracy: 0.5195\n",
      "Epoch 22/40\n",
      "67/77 [=========================>....] - ETA: 0s - loss: 1.2335 - accuracy: 0.5536\n",
      "Epoch 22: val_loss did not improve from 1.21776\n",
      "77/77 [==============================] - 0s 5ms/step - loss: 1.2661 - accuracy: 0.5398 - val_loss: 1.2874 - val_accuracy: 0.5276\n",
      "Epoch 23/40\n",
      "73/77 [===========================>..] - ETA: 0s - loss: 1.1869 - accuracy: 0.5860\n",
      "Epoch 23: val_loss improved from 1.21776 to 1.20645, saving model to 0_model.h5\n",
      "77/77 [==============================] - 1s 13ms/step - loss: 1.1951 - accuracy: 0.5829 - val_loss: 1.2065 - val_accuracy: 0.5552\n",
      "Epoch 24/40\n",
      "67/77 [=========================>....] - ETA: 0s - loss: 1.1755 - accuracy: 0.5676\n",
      "Epoch 24: val_loss did not improve from 1.20645\n",
      "77/77 [==============================] - 1s 7ms/step - loss: 1.1779 - accuracy: 0.5634 - val_loss: 1.2726 - val_accuracy: 0.5617\n",
      "Epoch 25/40\n",
      "77/77 [==============================] - ETA: 0s - loss: 1.2138 - accuracy: 0.5666\n",
      "Epoch 25: val_loss did not improve from 1.20645\n",
      "77/77 [==============================] - 0s 6ms/step - loss: 1.2138 - accuracy: 0.5666 - val_loss: 1.2507 - val_accuracy: 0.5000\n",
      "Epoch 26/40\n",
      "75/77 [============================>.] - ETA: 0s - loss: 1.1519 - accuracy: 0.5875\n",
      "Epoch 26: val_loss did not improve from 1.20645\n",
      "77/77 [==============================] - 0s 5ms/step - loss: 1.1648 - accuracy: 0.5816 - val_loss: 1.5997 - val_accuracy: 0.3864\n",
      "Epoch 27/40\n",
      "73/77 [===========================>..] - ETA: 0s - loss: 1.2168 - accuracy: 0.5719\n",
      "Epoch 27: val_loss improved from 1.20645 to 1.12484, saving model to 0_model.h5\n",
      "77/77 [==============================] - 1s 7ms/step - loss: 1.2121 - accuracy: 0.5735 - val_loss: 1.1248 - val_accuracy: 0.6640\n",
      "Epoch 28/40\n",
      "77/77 [==============================] - ETA: 0s - loss: 1.0862 - accuracy: 0.6271\n",
      "Epoch 28: val_loss did not improve from 1.12484\n",
      "77/77 [==============================] - 0s 5ms/step - loss: 1.0862 - accuracy: 0.6271 - val_loss: 1.1637 - val_accuracy: 0.5714\n",
      "Epoch 29/40\n",
      "68/77 [=========================>....] - ETA: 0s - loss: 1.0863 - accuracy: 0.6324\n",
      "Epoch 29: val_loss did not improve from 1.12484\n",
      "77/77 [==============================] - 0s 4ms/step - loss: 1.0979 - accuracy: 0.6275 - val_loss: 1.3067 - val_accuracy: 0.4854\n",
      "Epoch 30/40\n",
      "70/77 [==========================>...] - ETA: 0s - loss: 1.0950 - accuracy: 0.6112\n",
      "Epoch 30: val_loss improved from 1.12484 to 1.11564, saving model to 0_model.h5\n",
      "77/77 [==============================] - 1s 8ms/step - loss: 1.0941 - accuracy: 0.6080 - val_loss: 1.1156 - val_accuracy: 0.6477\n",
      "Epoch 31/40\n",
      "73/77 [===========================>..] - ETA: 0s - loss: 1.0921 - accuracy: 0.6263\n",
      "Epoch 31: val_loss improved from 1.11564 to 1.08500, saving model to 0_model.h5\n",
      "77/77 [==============================] - 1s 10ms/step - loss: 1.0837 - accuracy: 0.6316 - val_loss: 1.0850 - val_accuracy: 0.6282\n",
      "Epoch 32/40\n",
      "75/77 [============================>.] - ETA: 0s - loss: 1.0684 - accuracy: 0.6254\n",
      "Epoch 32: val_loss improved from 1.08500 to 1.05390, saving model to 0_model.h5\n",
      "77/77 [==============================] - 1s 10ms/step - loss: 1.0651 - accuracy: 0.6288 - val_loss: 1.0539 - val_accuracy: 0.6688\n",
      "Epoch 33/40\n",
      "75/77 [============================>.] - ETA: 0s - loss: 1.0361 - accuracy: 0.6517\n",
      "Epoch 33: val_loss did not improve from 1.05390\n",
      "77/77 [==============================] - 0s 5ms/step - loss: 1.0345 - accuracy: 0.6527 - val_loss: 1.1404 - val_accuracy: 0.6331\n",
      "Epoch 34/40\n",
      "65/77 [========================>.....] - ETA: 0s - loss: 1.1057 - accuracy: 0.6038\n",
      "Epoch 34: val_loss did not improve from 1.05390\n",
      "77/77 [==============================] - 0s 5ms/step - loss: 1.1161 - accuracy: 0.5938 - val_loss: 1.1494 - val_accuracy: 0.6250\n",
      "Epoch 35/40\n",
      "67/77 [=========================>....] - ETA: 0s - loss: 1.0410 - accuracy: 0.6413\n",
      "Epoch 35: val_loss did not improve from 1.05390\n",
      "77/77 [==============================] - 0s 5ms/step - loss: 1.0806 - accuracy: 0.6243 - val_loss: 1.1093 - val_accuracy: 0.5893\n",
      "Epoch 36/40\n",
      "63/77 [=======================>......] - ETA: 0s - loss: 1.0446 - accuracy: 0.6389\n",
      "Epoch 36: val_loss did not improve from 1.05390\n",
      "77/77 [==============================] - 0s 4ms/step - loss: 1.0369 - accuracy: 0.6401 - val_loss: 1.1159 - val_accuracy: 0.5682\n",
      "Epoch 37/40\n",
      "76/77 [============================>.] - ETA: 0s - loss: 1.0523 - accuracy: 0.6340\n",
      "Epoch 37: val_loss improved from 1.05390 to 1.01194, saving model to 0_model.h5\n",
      "77/77 [==============================] - 1s 7ms/step - loss: 1.0524 - accuracy: 0.6332 - val_loss: 1.0119 - val_accuracy: 0.6688\n",
      "Epoch 38/40\n",
      "63/77 [=======================>......] - ETA: 0s - loss: 1.0054 - accuracy: 0.6637\n",
      "Epoch 38: val_loss did not improve from 1.01194\n",
      "77/77 [==============================] - 0s 4ms/step - loss: 0.9950 - accuracy: 0.6669 - val_loss: 1.0168 - val_accuracy: 0.6818\n",
      "Epoch 39/40\n",
      "71/77 [==========================>...] - ETA: 0s - loss: 0.9794 - accuracy: 0.6642\n",
      "Epoch 39: val_loss did not improve from 1.01194\n",
      "77/77 [==============================] - 0s 4ms/step - loss: 0.9855 - accuracy: 0.6600 - val_loss: 1.1264 - val_accuracy: 0.6282\n",
      "Epoch 40/40\n",
      "72/77 [===========================>..] - ETA: 0s - loss: 0.9989 - accuracy: 0.6497\n",
      "Epoch 40: val_loss did not improve from 1.01194\n",
      "77/77 [==============================] - 0s 4ms/step - loss: 0.9922 - accuracy: 0.6548 - val_loss: 1.0200 - val_accuracy: 0.6526\n",
      "20/20 [==============================] - 0s 2ms/step - loss: 1.0119 - accuracy: 0.6688\n",
      "20/20 [==============================] - 0s 3ms/step - loss: 1.0119 - accuracy: 0.6688\n",
      "------------------------------------------------------\n",
      "Training for 3\n",
      "Epoch 1/40\n",
      "72/77 [===========================>..] - ETA: 0s - loss: 2.5144 - accuracy: 0.1923\n",
      "Epoch 1: val_loss improved from inf to 2.11009, saving model to 0_model.h5\n",
      "77/77 [==============================] - 1s 9ms/step - loss: 2.4822 - accuracy: 0.1945 - val_loss: 2.1101 - val_accuracy: 0.2423\n",
      "Epoch 2/40\n",
      "67/77 [=========================>....] - ETA: 0s - loss: 2.0565 - accuracy: 0.2458\n",
      "Epoch 2: val_loss did not improve from 2.11009\n",
      "77/77 [==============================] - 0s 5ms/step - loss: 2.0602 - accuracy: 0.2509 - val_loss: 2.1900 - val_accuracy: 0.2959\n",
      "Epoch 3/40\n",
      "74/77 [===========================>..] - ETA: 0s - loss: 1.9542 - accuracy: 0.3091\n",
      "Epoch 3: val_loss improved from 2.11009 to 1.97673, saving model to 0_model.h5\n",
      "77/77 [==============================] - 1s 10ms/step - loss: 1.9574 - accuracy: 0.3118 - val_loss: 1.9767 - val_accuracy: 0.2862\n",
      "Epoch 4/40\n",
      "71/77 [==========================>...] - ETA: 0s - loss: 1.8931 - accuracy: 0.3336\n",
      "Epoch 4: val_loss improved from 1.97673 to 1.85590, saving model to 0_model.h5\n",
      "77/77 [==============================] - 1s 10ms/step - loss: 1.8936 - accuracy: 0.3333 - val_loss: 1.8559 - val_accuracy: 0.3382\n",
      "Epoch 5/40\n",
      "68/77 [=========================>....] - ETA: 0s - loss: 1.8572 - accuracy: 0.3410\n",
      "Epoch 5: val_loss did not improve from 1.85590\n",
      "77/77 [==============================] - 0s 5ms/step - loss: 1.8488 - accuracy: 0.3455 - val_loss: 1.8567 - val_accuracy: 0.2927\n",
      "Epoch 6/40\n",
      "72/77 [===========================>..] - ETA: 0s - loss: 1.8361 - accuracy: 0.3563\n",
      "Epoch 6: val_loss improved from 1.85590 to 1.80880, saving model to 0_model.h5\n",
      "77/77 [==============================] - 1s 10ms/step - loss: 1.8329 - accuracy: 0.3553 - val_loss: 1.8088 - val_accuracy: 0.3528\n",
      "Epoch 7/40\n",
      "67/77 [=========================>....] - ETA: 0s - loss: 1.7861 - accuracy: 0.3563\n",
      "Epoch 7: val_loss did not improve from 1.80880\n",
      "77/77 [==============================] - 0s 5ms/step - loss: 1.7880 - accuracy: 0.3524 - val_loss: 1.9181 - val_accuracy: 0.3317\n",
      "Epoch 8/40\n",
      "71/77 [==========================>...] - ETA: 0s - loss: 1.7342 - accuracy: 0.3886\n",
      "Epoch 8: val_loss improved from 1.80880 to 1.76936, saving model to 0_model.h5\n",
      "77/77 [==============================] - 1s 7ms/step - loss: 1.7383 - accuracy: 0.3861 - val_loss: 1.7694 - val_accuracy: 0.3772\n",
      "Epoch 9/40\n",
      "76/77 [============================>.] - ETA: 0s - loss: 1.6896 - accuracy: 0.3956\n",
      "Epoch 9: val_loss improved from 1.76936 to 1.73263, saving model to 0_model.h5\n",
      "77/77 [==============================] - 1s 7ms/step - loss: 1.6860 - accuracy: 0.3975 - val_loss: 1.7326 - val_accuracy: 0.4211\n",
      "Epoch 10/40\n",
      "77/77 [==============================] - ETA: 0s - loss: 1.6354 - accuracy: 0.4231\n",
      "Epoch 10: val_loss did not improve from 1.73263\n",
      "77/77 [==============================] - 0s 4ms/step - loss: 1.6354 - accuracy: 0.4231 - val_loss: 1.7731 - val_accuracy: 0.3626\n",
      "Epoch 11/40\n",
      "71/77 [==========================>...] - ETA: 0s - loss: 1.6128 - accuracy: 0.4327\n",
      "Epoch 11: val_loss improved from 1.73263 to 1.62835, saving model to 0_model.h5\n",
      "77/77 [==============================] - 1s 11ms/step - loss: 1.6068 - accuracy: 0.4356 - val_loss: 1.6283 - val_accuracy: 0.3984\n",
      "Epoch 12/40\n",
      "70/77 [==========================>...] - ETA: 0s - loss: 1.5296 - accuracy: 0.4531\n",
      "Epoch 12: val_loss improved from 1.62835 to 1.52041, saving model to 0_model.h5\n",
      "77/77 [==============================] - 0s 5ms/step - loss: 1.5138 - accuracy: 0.4572 - val_loss: 1.5204 - val_accuracy: 0.4423\n",
      "Epoch 13/40\n",
      "69/77 [=========================>....] - ETA: 0s - loss: 1.4840 - accuracy: 0.4715\n",
      "Epoch 13: val_loss did not improve from 1.52041\n",
      "77/77 [==============================] - 0s 5ms/step - loss: 1.4919 - accuracy: 0.4722 - val_loss: 1.7587 - val_accuracy: 0.3154\n",
      "Epoch 14/40\n",
      "71/77 [==========================>...] - ETA: 0s - loss: 1.4641 - accuracy: 0.4604\n",
      "Epoch 14: val_loss improved from 1.52041 to 1.46564, saving model to 0_model.h5\n",
      "77/77 [==============================] - 1s 11ms/step - loss: 1.4509 - accuracy: 0.4689 - val_loss: 1.4656 - val_accuracy: 0.4602\n",
      "Epoch 15/40\n",
      "67/77 [=========================>....] - ETA: 0s - loss: 1.4125 - accuracy: 0.4939\n",
      "Epoch 15: val_loss improved from 1.46564 to 1.38541, saving model to 0_model.h5\n",
      "77/77 [==============================] - 0s 6ms/step - loss: 1.3930 - accuracy: 0.5026 - val_loss: 1.3854 - val_accuracy: 0.5106\n",
      "Epoch 16/40\n",
      "67/77 [=========================>....] - ETA: 0s - loss: 1.3069 - accuracy: 0.5317\n",
      "Epoch 16: val_loss improved from 1.38541 to 1.34671, saving model to 0_model.h5\n",
      "77/77 [==============================] - 1s 10ms/step - loss: 1.3182 - accuracy: 0.5298 - val_loss: 1.3467 - val_accuracy: 0.5626\n",
      "Epoch 17/40\n",
      "71/77 [==========================>...] - ETA: 0s - loss: 1.3231 - accuracy: 0.5246\n",
      "Epoch 17: val_loss did not improve from 1.34671\n",
      "77/77 [==============================] - 0s 5ms/step - loss: 1.3225 - accuracy: 0.5258 - val_loss: 1.3648 - val_accuracy: 0.5642\n",
      "Epoch 18/40\n",
      "72/77 [===========================>..] - ETA: 0s - loss: 1.2836 - accuracy: 0.5312\n",
      "Epoch 18: val_loss did not improve from 1.34671\n",
      "77/77 [==============================] - 0s 5ms/step - loss: 1.2833 - accuracy: 0.5290 - val_loss: 1.5512 - val_accuracy: 0.5008\n",
      "Epoch 19/40\n",
      "64/77 [=======================>......] - ETA: 0s - loss: 1.3071 - accuracy: 0.5132\n",
      "Epoch 19: val_loss did not improve from 1.34671\n",
      "77/77 [==============================] - 0s 4ms/step - loss: 1.3389 - accuracy: 0.5010 - val_loss: 1.3555 - val_accuracy: 0.5545\n",
      "Epoch 20/40\n",
      "63/77 [=======================>......] - ETA: 0s - loss: 1.2707 - accuracy: 0.5556\n",
      "Epoch 20: val_loss did not improve from 1.34671\n",
      "77/77 [==============================] - 0s 4ms/step - loss: 1.2828 - accuracy: 0.5469 - val_loss: 1.3522 - val_accuracy: 0.4976\n",
      "Epoch 21/40\n",
      "72/77 [===========================>..] - ETA: 0s - loss: 1.2202 - accuracy: 0.5755\n",
      "Epoch 21: val_loss improved from 1.34671 to 1.27799, saving model to 0_model.h5\n",
      "77/77 [==============================] - 1s 8ms/step - loss: 1.2239 - accuracy: 0.5737 - val_loss: 1.2780 - val_accuracy: 0.5285\n",
      "Epoch 22/40\n",
      "64/77 [=======================>......] - ETA: 0s - loss: 1.2262 - accuracy: 0.5610\n",
      "Epoch 22: val_loss did not improve from 1.27799\n",
      "77/77 [==============================] - 0s 4ms/step - loss: 1.2180 - accuracy: 0.5635 - val_loss: 1.3602 - val_accuracy: 0.4618\n",
      "Epoch 23/40\n",
      "68/77 [=========================>....] - ETA: 0s - loss: 1.1882 - accuracy: 0.5813\n",
      "Epoch 23: val_loss improved from 1.27799 to 1.21892, saving model to 0_model.h5\n",
      "77/77 [==============================] - 1s 8ms/step - loss: 1.1841 - accuracy: 0.5867 - val_loss: 1.2189 - val_accuracy: 0.5659\n",
      "Epoch 24/40\n",
      "71/77 [==========================>...] - ETA: 0s - loss: 1.1691 - accuracy: 0.5889\n",
      "Epoch 24: val_loss improved from 1.21892 to 1.20763, saving model to 0_model.h5\n",
      "77/77 [==============================] - 1s 10ms/step - loss: 1.1589 - accuracy: 0.5916 - val_loss: 1.2076 - val_accuracy: 0.6098\n",
      "Epoch 25/40\n",
      "69/77 [=========================>....] - ETA: 0s - loss: 1.1819 - accuracy: 0.5725\n",
      "Epoch 25: val_loss improved from 1.20763 to 1.14283, saving model to 0_model.h5\n",
      "77/77 [==============================] - 1s 11ms/step - loss: 1.1724 - accuracy: 0.5786 - val_loss: 1.1428 - val_accuracy: 0.6390\n",
      "Epoch 26/40\n",
      "76/77 [============================>.] - ETA: 0s - loss: 1.1108 - accuracy: 0.6143\n",
      "Epoch 26: val_loss did not improve from 1.14283\n",
      "77/77 [==============================] - 0s 4ms/step - loss: 1.1121 - accuracy: 0.6147 - val_loss: 1.2955 - val_accuracy: 0.5512\n",
      "Epoch 27/40\n",
      "65/77 [========================>.....] - ETA: 0s - loss: 1.1530 - accuracy: 0.5885\n",
      "Epoch 27: val_loss did not improve from 1.14283\n",
      "77/77 [==============================] - 0s 4ms/step - loss: 1.1417 - accuracy: 0.5952 - val_loss: 1.1700 - val_accuracy: 0.5854\n",
      "Epoch 28/40\n",
      "66/77 [========================>.....] - ETA: 0s - loss: 1.1229 - accuracy: 0.6051\n",
      "Epoch 28: val_loss improved from 1.14283 to 1.13281, saving model to 0_model.h5\n",
      "77/77 [==============================] - 0s 6ms/step - loss: 1.1131 - accuracy: 0.6074 - val_loss: 1.1328 - val_accuracy: 0.6098\n",
      "Epoch 29/40\n",
      "66/77 [========================>.....] - ETA: 0s - loss: 1.2234 - accuracy: 0.5663\n",
      "Epoch 29: val_loss did not improve from 1.13281\n",
      "77/77 [==============================] - 0s 4ms/step - loss: 1.2054 - accuracy: 0.5708 - val_loss: 1.1773 - val_accuracy: 0.5821\n",
      "Epoch 30/40\n",
      "62/77 [=======================>......] - ETA: 0s - loss: 1.0975 - accuracy: 0.6361\n",
      "Epoch 30: val_loss did not improve from 1.13281\n",
      "77/77 [==============================] - 0s 4ms/step - loss: 1.0855 - accuracy: 0.6330 - val_loss: 1.1565 - val_accuracy: 0.5902\n",
      "Epoch 31/40\n",
      "61/77 [======================>.......] - ETA: 0s - loss: 1.0842 - accuracy: 0.6260\n",
      "Epoch 31: val_loss did not improve from 1.13281\n",
      "77/77 [==============================] - 0s 4ms/step - loss: 1.0792 - accuracy: 0.6253 - val_loss: 1.1413 - val_accuracy: 0.5854\n",
      "Epoch 32/40\n",
      "71/77 [==========================>...] - ETA: 0s - loss: 1.0499 - accuracy: 0.6400\n",
      "Epoch 32: val_loss improved from 1.13281 to 1.11938, saving model to 0_model.h5\n",
      "77/77 [==============================] - 1s 10ms/step - loss: 1.0606 - accuracy: 0.6362 - val_loss: 1.1194 - val_accuracy: 0.6195\n",
      "Epoch 33/40\n",
      "64/77 [=======================>......] - ETA: 0s - loss: 1.1104 - accuracy: 0.6035\n",
      "Epoch 33: val_loss did not improve from 1.11938\n",
      "77/77 [==============================] - 0s 4ms/step - loss: 1.0949 - accuracy: 0.6086 - val_loss: 1.1716 - val_accuracy: 0.6244\n",
      "Epoch 34/40\n",
      "69/77 [=========================>....] - ETA: 0s - loss: 1.0381 - accuracy: 0.6354\n",
      "Epoch 34: val_loss improved from 1.11938 to 1.08944, saving model to 0_model.h5\n",
      "77/77 [==============================] - 0s 5ms/step - loss: 1.0433 - accuracy: 0.6330 - val_loss: 1.0894 - val_accuracy: 0.6081\n",
      "Epoch 35/40\n",
      "75/77 [============================>.] - ETA: 0s - loss: 1.0710 - accuracy: 0.6237\n",
      "Epoch 35: val_loss did not improve from 1.08944\n",
      "77/77 [==============================] - 0s 4ms/step - loss: 1.0685 - accuracy: 0.6232 - val_loss: 1.1767 - val_accuracy: 0.5512\n",
      "Epoch 36/40\n",
      "72/77 [===========================>..] - ETA: 0s - loss: 1.0372 - accuracy: 0.6489\n",
      "Epoch 36: val_loss improved from 1.08944 to 1.04371, saving model to 0_model.h5\n",
      "77/77 [==============================] - 1s 7ms/step - loss: 1.0358 - accuracy: 0.6492 - val_loss: 1.0437 - val_accuracy: 0.6732\n",
      "Epoch 37/40\n",
      "71/77 [==========================>...] - ETA: 0s - loss: 1.0730 - accuracy: 0.6202\n",
      "Epoch 37: val_loss did not improve from 1.04371\n",
      "77/77 [==============================] - 0s 5ms/step - loss: 1.0648 - accuracy: 0.6200 - val_loss: 1.0712 - val_accuracy: 0.6780\n",
      "Epoch 38/40\n",
      "67/77 [=========================>....] - ETA: 0s - loss: 1.0255 - accuracy: 0.6399\n",
      "Epoch 38: val_loss improved from 1.04371 to 1.02549, saving model to 0_model.h5\n",
      "77/77 [==============================] - 0s 6ms/step - loss: 1.0146 - accuracy: 0.6496 - val_loss: 1.0255 - val_accuracy: 0.6862\n",
      "Epoch 39/40\n",
      "63/77 [=======================>......] - ETA: 0s - loss: 1.0613 - accuracy: 0.6334\n",
      "Epoch 39: val_loss did not improve from 1.02549\n",
      "77/77 [==============================] - 0s 4ms/step - loss: 1.0460 - accuracy: 0.6387 - val_loss: 1.0554 - val_accuracy: 0.6667\n",
      "Epoch 40/40\n",
      "62/77 [=======================>......] - ETA: 0s - loss: 0.9827 - accuracy: 0.6522\n",
      "Epoch 40: val_loss did not improve from 1.02549\n",
      "77/77 [==============================] - 0s 4ms/step - loss: 0.9916 - accuracy: 0.6492 - val_loss: 1.0615 - val_accuracy: 0.6520\n",
      "20/20 [==============================] - 0s 2ms/step - loss: 1.0255 - accuracy: 0.6862\n",
      "20/20 [==============================] - 0s 2ms/step - loss: 1.0255 - accuracy: 0.6862\n",
      "------------------------------------------------------\n",
      "Training for 4\n",
      "Epoch 1/40\n",
      "72/77 [===========================>..] - ETA: 0s - loss: 2.4708 - accuracy: 0.1879\n",
      "Epoch 1: val_loss improved from inf to 2.32016, saving model to 0_model.h5\n",
      "77/77 [==============================] - 1s 12ms/step - loss: 2.4544 - accuracy: 0.1908 - val_loss: 2.3202 - val_accuracy: 0.1951\n",
      "Epoch 2/40\n",
      "71/77 [==========================>...] - ETA: 0s - loss: 2.0689 - accuracy: 0.2460\n",
      "Epoch 2: val_loss improved from 2.32016 to 2.19004, saving model to 0_model.h5\n",
      "77/77 [==============================] - 1s 7ms/step - loss: 2.0698 - accuracy: 0.2404 - val_loss: 2.1900 - val_accuracy: 0.2423\n",
      "Epoch 3/40\n",
      "71/77 [==========================>...] - ETA: 0s - loss: 1.9800 - accuracy: 0.2883\n",
      "Epoch 3: val_loss improved from 2.19004 to 1.89832, saving model to 0_model.h5\n",
      "77/77 [==============================] - 1s 7ms/step - loss: 1.9736 - accuracy: 0.2870 - val_loss: 1.8983 - val_accuracy: 0.2472\n",
      "Epoch 4/40\n",
      "66/77 [========================>.....] - ETA: 0s - loss: 1.9345 - accuracy: 0.2950\n",
      "Epoch 4: val_loss did not improve from 1.89832\n",
      "77/77 [==============================] - 0s 5ms/step - loss: 1.9242 - accuracy: 0.2996 - val_loss: 2.1388 - val_accuracy: 0.3512\n",
      "Epoch 5/40\n",
      "71/77 [==========================>...] - ETA: 0s - loss: 1.8876 - accuracy: 0.3305\n",
      "Epoch 5: val_loss improved from 1.89832 to 1.82196, saving model to 0_model.h5\n",
      "77/77 [==============================] - 0s 6ms/step - loss: 1.8868 - accuracy: 0.3272 - val_loss: 1.8220 - val_accuracy: 0.3577\n",
      "Epoch 6/40\n",
      "64/77 [=======================>......] - ETA: 0s - loss: 1.8216 - accuracy: 0.3433\n",
      "Epoch 6: val_loss improved from 1.82196 to 1.80771, saving model to 0_model.h5\n",
      "77/77 [==============================] - 1s 10ms/step - loss: 1.8169 - accuracy: 0.3504 - val_loss: 1.8077 - val_accuracy: 0.4260\n",
      "Epoch 7/40\n",
      "70/77 [==========================>...] - ETA: 0s - loss: 1.7796 - accuracy: 0.3612\n",
      "Epoch 7: val_loss improved from 1.80771 to 1.65585, saving model to 0_model.h5\n",
      "77/77 [==============================] - 1s 7ms/step - loss: 1.7842 - accuracy: 0.3650 - val_loss: 1.6558 - val_accuracy: 0.4309\n",
      "Epoch 8/40\n",
      "67/77 [=========================>....] - ETA: 0s - loss: 1.6973 - accuracy: 0.3960\n",
      "Epoch 8: val_loss improved from 1.65585 to 1.59300, saving model to 0_model.h5\n",
      "77/77 [==============================] - 1s 7ms/step - loss: 1.7048 - accuracy: 0.3906 - val_loss: 1.5930 - val_accuracy: 0.4260\n",
      "Epoch 9/40\n",
      "67/77 [=========================>....] - ETA: 0s - loss: 1.6543 - accuracy: 0.4021\n",
      "Epoch 9: val_loss did not improve from 1.59300\n",
      "77/77 [==============================] - 0s 5ms/step - loss: 1.6491 - accuracy: 0.4036 - val_loss: 1.6726 - val_accuracy: 0.3610\n",
      "Epoch 10/40\n",
      "70/77 [==========================>...] - ETA: 0s - loss: 1.5815 - accuracy: 0.4277\n",
      "Epoch 10: val_loss improved from 1.59300 to 1.44966, saving model to 0_model.h5\n",
      "77/77 [==============================] - 1s 7ms/step - loss: 1.5734 - accuracy: 0.4328 - val_loss: 1.4497 - val_accuracy: 0.4992\n",
      "Epoch 11/40\n",
      "77/77 [==============================] - ETA: 0s - loss: 1.5066 - accuracy: 0.4547\n",
      "Epoch 11: val_loss improved from 1.44966 to 1.37250, saving model to 0_model.h5\n",
      "77/77 [==============================] - 1s 8ms/step - loss: 1.5066 - accuracy: 0.4547 - val_loss: 1.3725 - val_accuracy: 0.5187\n",
      "Epoch 12/40\n",
      "68/77 [=========================>....] - ETA: 0s - loss: 1.4743 - accuracy: 0.4743\n",
      "Epoch 12: val_loss did not improve from 1.37250\n",
      "77/77 [==============================] - 0s 5ms/step - loss: 1.4833 - accuracy: 0.4693 - val_loss: 1.3820 - val_accuracy: 0.4992\n",
      "Epoch 13/40\n",
      "67/77 [=========================>....] - ETA: 0s - loss: 1.4346 - accuracy: 0.4748\n",
      "Epoch 13: val_loss improved from 1.37250 to 1.36220, saving model to 0_model.h5\n",
      "77/77 [==============================] - 1s 9ms/step - loss: 1.4546 - accuracy: 0.4681 - val_loss: 1.3622 - val_accuracy: 0.4878\n",
      "Epoch 14/40\n",
      "66/77 [========================>.....] - ETA: 0s - loss: 1.3481 - accuracy: 0.5350\n",
      "Epoch 14: val_loss did not improve from 1.36220\n",
      "77/77 [==============================] - 0s 5ms/step - loss: 1.3721 - accuracy: 0.5213 - val_loss: 1.4961 - val_accuracy: 0.4358\n",
      "Epoch 15/40\n",
      "73/77 [===========================>..] - ETA: 0s - loss: 1.3919 - accuracy: 0.4914\n",
      "Epoch 15: val_loss improved from 1.36220 to 1.30093, saving model to 0_model.h5\n",
      "77/77 [==============================] - 0s 6ms/step - loss: 1.3925 - accuracy: 0.4905 - val_loss: 1.3009 - val_accuracy: 0.5528\n",
      "Epoch 16/40\n",
      "77/77 [==============================] - ETA: 0s - loss: 1.3347 - accuracy: 0.5148\n",
      "Epoch 16: val_loss improved from 1.30093 to 1.23560, saving model to 0_model.h5\n",
      "77/77 [==============================] - 1s 9ms/step - loss: 1.3347 - accuracy: 0.5148 - val_loss: 1.2356 - val_accuracy: 0.5545\n",
      "Epoch 17/40\n",
      "74/77 [===========================>..] - ETA: 0s - loss: 1.3091 - accuracy: 0.5114\n",
      "Epoch 17: val_loss did not improve from 1.23560\n",
      "77/77 [==============================] - 0s 5ms/step - loss: 1.3099 - accuracy: 0.5136 - val_loss: 1.3002 - val_accuracy: 0.5122\n",
      "Epoch 18/40\n",
      "75/77 [============================>.] - ETA: 0s - loss: 1.2478 - accuracy: 0.5454\n",
      "Epoch 18: val_loss improved from 1.23560 to 1.15103, saving model to 0_model.h5\n",
      "77/77 [==============================] - 1s 7ms/step - loss: 1.2488 - accuracy: 0.5445 - val_loss: 1.1510 - val_accuracy: 0.6325\n",
      "Epoch 19/40\n",
      "69/77 [=========================>....] - ETA: 0s - loss: 1.2567 - accuracy: 0.5358\n",
      "Epoch 19: val_loss did not improve from 1.15103\n",
      "77/77 [==============================] - 0s 5ms/step - loss: 1.2591 - accuracy: 0.5335 - val_loss: 1.2861 - val_accuracy: 0.4813\n",
      "Epoch 20/40\n",
      "73/77 [===========================>..] - ETA: 0s - loss: 1.2254 - accuracy: 0.5509\n",
      "Epoch 20: val_loss did not improve from 1.15103\n",
      "77/77 [==============================] - 0s 5ms/step - loss: 1.2238 - accuracy: 0.5493 - val_loss: 1.2917 - val_accuracy: 0.5447\n",
      "Epoch 21/40\n",
      "69/77 [=========================>....] - ETA: 0s - loss: 1.2366 - accuracy: 0.5553\n",
      "Epoch 21: val_loss improved from 1.15103 to 1.10459, saving model to 0_model.h5\n",
      "77/77 [==============================] - 1s 7ms/step - loss: 1.2280 - accuracy: 0.5603 - val_loss: 1.1046 - val_accuracy: 0.6016\n",
      "Epoch 22/40\n",
      "76/77 [============================>.] - ETA: 0s - loss: 1.1622 - accuracy: 0.5954\n",
      "Epoch 22: val_loss improved from 1.10459 to 1.08679, saving model to 0_model.h5\n",
      "77/77 [==============================] - 1s 7ms/step - loss: 1.1614 - accuracy: 0.5944 - val_loss: 1.0868 - val_accuracy: 0.6488\n",
      "Epoch 23/40\n",
      "70/77 [==========================>...] - ETA: 0s - loss: 1.2086 - accuracy: 0.5741\n",
      "Epoch 23: val_loss did not improve from 1.08679\n",
      "77/77 [==============================] - 0s 5ms/step - loss: 1.2109 - accuracy: 0.5749 - val_loss: 1.1311 - val_accuracy: 0.6260\n",
      "Epoch 24/40\n",
      "69/77 [=========================>....] - ETA: 0s - loss: 1.1300 - accuracy: 0.6128\n",
      "Epoch 24: val_loss improved from 1.08679 to 1.02872, saving model to 0_model.h5\n",
      "77/77 [==============================] - 1s 7ms/step - loss: 1.1237 - accuracy: 0.6163 - val_loss: 1.0287 - val_accuracy: 0.7057\n",
      "Epoch 25/40\n",
      "72/77 [===========================>..] - ETA: 0s - loss: 1.1058 - accuracy: 0.6207\n",
      "Epoch 25: val_loss did not improve from 1.02872\n",
      "77/77 [==============================] - 0s 4ms/step - loss: 1.1046 - accuracy: 0.6188 - val_loss: 1.1685 - val_accuracy: 0.5545\n",
      "Epoch 26/40\n",
      "66/77 [========================>.....] - ETA: 0s - loss: 1.1095 - accuracy: 0.6155\n",
      "Epoch 26: val_loss did not improve from 1.02872\n",
      "77/77 [==============================] - 0s 6ms/step - loss: 1.1079 - accuracy: 0.6143 - val_loss: 1.0365 - val_accuracy: 0.6033\n",
      "Epoch 27/40\n",
      "63/77 [=======================>......] - ETA: 0s - loss: 1.0815 - accuracy: 0.6255\n",
      "Epoch 27: val_loss improved from 1.02872 to 0.99462, saving model to 0_model.h5\n",
      "77/77 [==============================] - 1s 7ms/step - loss: 1.0797 - accuracy: 0.6257 - val_loss: 0.9946 - val_accuracy: 0.6488\n",
      "Epoch 28/40\n",
      "73/77 [===========================>..] - ETA: 0s - loss: 1.1019 - accuracy: 0.6036\n",
      "Epoch 28: val_loss improved from 0.99462 to 0.96195, saving model to 0_model.h5\n",
      "77/77 [==============================] - 1s 7ms/step - loss: 1.0973 - accuracy: 0.6094 - val_loss: 0.9620 - val_accuracy: 0.6715\n",
      "Epoch 29/40\n",
      "70/77 [==========================>...] - ETA: 0s - loss: 1.1225 - accuracy: 0.6009\n",
      "Epoch 29: val_loss did not improve from 0.96195\n",
      "77/77 [==============================] - 0s 5ms/step - loss: 1.1158 - accuracy: 0.6066 - val_loss: 0.9921 - val_accuracy: 0.6943\n",
      "Epoch 30/40\n",
      "74/77 [===========================>..] - ETA: 0s - loss: 1.1025 - accuracy: 0.6144\n",
      "Epoch 30: val_loss did not improve from 0.96195\n",
      "77/77 [==============================] - 0s 4ms/step - loss: 1.1063 - accuracy: 0.6119 - val_loss: 0.9954 - val_accuracy: 0.6553\n",
      "Epoch 31/40\n",
      "72/77 [===========================>..] - ETA: 0s - loss: 1.1383 - accuracy: 0.5829\n",
      "Epoch 31: val_loss did not improve from 0.96195\n",
      "77/77 [==============================] - 0s 4ms/step - loss: 1.1306 - accuracy: 0.5867 - val_loss: 1.0114 - val_accuracy: 0.6585\n",
      "Epoch 32/40\n",
      "75/77 [============================>.] - ETA: 0s - loss: 1.0898 - accuracy: 0.6125\n",
      "Epoch 32: val_loss did not improve from 0.96195\n",
      "77/77 [==============================] - 0s 4ms/step - loss: 1.0897 - accuracy: 0.6106 - val_loss: 1.2069 - val_accuracy: 0.5512\n",
      "Epoch 33/40\n",
      "65/77 [========================>.....] - ETA: 0s - loss: 1.0545 - accuracy: 0.6322\n",
      "Epoch 33: val_loss did not improve from 0.96195\n",
      "77/77 [==============================] - 0s 5ms/step - loss: 1.0568 - accuracy: 0.6289 - val_loss: 0.9806 - val_accuracy: 0.6943\n",
      "Epoch 34/40\n",
      "68/77 [=========================>....] - ETA: 0s - loss: 1.0627 - accuracy: 0.6241\n",
      "Epoch 34: val_loss improved from 0.96195 to 0.95159, saving model to 0_model.h5\n",
      "77/77 [==============================] - 0s 6ms/step - loss: 1.0482 - accuracy: 0.6342 - val_loss: 0.9516 - val_accuracy: 0.7041\n",
      "Epoch 35/40\n",
      "73/77 [===========================>..] - ETA: 0s - loss: 1.0049 - accuracy: 0.6554\n",
      "Epoch 35: val_loss improved from 0.95159 to 0.93329, saving model to 0_model.h5\n",
      "77/77 [==============================] - 1s 8ms/step - loss: 0.9978 - accuracy: 0.6553 - val_loss: 0.9333 - val_accuracy: 0.7268\n",
      "Epoch 36/40\n",
      "73/77 [===========================>..] - ETA: 0s - loss: 1.0467 - accuracy: 0.6331\n",
      "Epoch 36: val_loss did not improve from 0.93329\n",
      "77/77 [==============================] - 0s 5ms/step - loss: 1.0404 - accuracy: 0.6358 - val_loss: 1.0471 - val_accuracy: 0.6130\n",
      "Epoch 37/40\n",
      "69/77 [=========================>....] - ETA: 0s - loss: 1.0321 - accuracy: 0.6390\n",
      "Epoch 37: val_loss did not improve from 0.93329\n",
      "77/77 [==============================] - 0s 5ms/step - loss: 1.0262 - accuracy: 0.6443 - val_loss: 0.9553 - val_accuracy: 0.7073\n",
      "Epoch 38/40\n",
      "67/77 [=========================>....] - ETA: 0s - loss: 0.9893 - accuracy: 0.6782\n",
      "Epoch 38: val_loss did not improve from 0.93329\n",
      "77/77 [==============================] - 0s 5ms/step - loss: 0.9866 - accuracy: 0.6776 - val_loss: 1.0396 - val_accuracy: 0.6000\n",
      "Epoch 39/40\n",
      "73/77 [===========================>..] - ETA: 0s - loss: 1.0036 - accuracy: 0.6520\n",
      "Epoch 39: val_loss improved from 0.93329 to 0.92345, saving model to 0_model.h5\n",
      "77/77 [==============================] - 1s 9ms/step - loss: 0.9995 - accuracy: 0.6537 - val_loss: 0.9234 - val_accuracy: 0.7350\n",
      "Epoch 40/40\n",
      "72/77 [===========================>..] - ETA: 0s - loss: 0.9832 - accuracy: 0.6615\n",
      "Epoch 40: val_loss did not improve from 0.92345\n",
      "77/77 [==============================] - 0s 5ms/step - loss: 0.9903 - accuracy: 0.6618 - val_loss: 0.9320 - val_accuracy: 0.7203\n",
      "20/20 [==============================] - 0s 3ms/step - loss: 0.9234 - accuracy: 0.7350\n",
      "20/20 [==============================] - 0s 3ms/step - loss: 0.9234 - accuracy: 0.7350\n",
      "최종 평균 accuracy_score : 0.7014354348182679\n",
      "최종 평균 loss_score : 0.974922263622284\n"
     ]
    }
   ],
   "source": [
    "kfold = KFold(n_splits=5, shuffle=True)\n",
    "kfold_func(kfold, X, y)"
   ]
  },
  {
   "cell_type": "markdown",
   "id": "691c8510-844e-483e-98fe-eebf72c859de",
   "metadata": {},
   "source": [
    "LnTP, LnVLF, LnLF, LnHF, LFnorm, HFnorm<br>\n",
    "최종 평균 accuracy_score : 0.7313182353973389<br>\n",
    "최종 평균 loss_score : 0.8469133615493775<br>\n",
    "\n",
    "LnTP, LnVLF, LnLF, LnHF, LFnorm <br>\n",
    "최종 평균 accuracy_score : 0.7066313028335571<br>\n",
    "최종 평균 loss_score : 0.9142210602760314<br>\n",
    "\n",
    "LnTP, LnVLF, LnLF, LnHF<br>\n",
    "최종 평균 accuracy_score : 0.7303526639938355<br>\n",
    "최종 평균 loss_score : 0.8638480544090271<br>\n",
    "\n",
    "LnTP, LnLF, LnHF<br>\n",
    "최종 평균 accuracy_score : 0.7361989259719849\n",
    "최종 평균 loss_score : 0.8622489929199219\n",
    "\n",
    "LnTP, LnLF<br>\n",
    "최종 평균 accuracy_score : 0.604284131526947\n",
    "최종 평균 loss_score : 1.1445185661315918\n",
    "\n",
    "LnTP <br>\n",
    "최종 평균 accuracy_score : 0.5079703748226165\n",
    "최종 평균 loss_score : 1.3475021123886108\n",
    "\n",
    "LnLF<br>\n",
    "최종 평균 accuracy_score : 0.5238346854845682<br>\n",
    "최종 평균 loss_score : 1.3154326836268107<br>\n",
    "\n",
    "LnHF <br>\n",
    "최종 평균 accuracy_score : 0.5532963633537292 <br>\n",
    "최종 평균 loss_score : 1.2522465944290162 <br>\n",
    "\n",
    "LnLF, LnHF<br>\n",
    "최종 평균 accuracy_score : 0.7576459765434265<br>\n",
    "최종 평균 loss_score : 0.8495001673698426<br>"
   ]
  },
  {
   "cell_type": "code",
   "execution_count": 17,
   "id": "192d45bc-f6f4-4b30-91bb-e8e3c47b425d",
   "metadata": {},
   "outputs": [
    {
     "data": {
      "text/plain": [
       "17"
      ]
     },
     "execution_count": 17,
     "metadata": {},
     "output_type": "execute_result"
    }
   ],
   "source": [
    "len(X.columns)"
   ]
  },
  {
   "cell_type": "code",
   "execution_count": 27,
   "id": "090abde2-e047-4692-97ce-6b6cc274463f",
   "metadata": {},
   "outputs": [
    {
     "data": {
      "text/plain": [
       "0        7\n",
       "1        2\n",
       "2        5\n",
       "3        4\n",
       "4        1\n",
       "        ..\n",
       "3836     2\n",
       "3837    10\n",
       "3838     7\n",
       "3839     8\n",
       "3840     5\n",
       "Name: StressIndex, Length: 3078, dtype: int64"
      ]
     },
     "execution_count": 27,
     "metadata": {},
     "output_type": "execute_result"
    }
   ],
   "source": [
    "y"
   ]
  },
  {
   "cell_type": "code",
   "execution_count": 37,
   "id": "9ee54e46-71e3-42c4-8771-bdad98ff79ac",
   "metadata": {},
   "outputs": [],
   "source": [
    "f1model = Sequential([\n",
    "    Dense(64, input_dim=17, activation='relu'),\n",
    "    Dense(128, activation='relu'),\n",
    "    Dense(10, activation='softmax'),\n",
    "])"
   ]
  },
  {
   "cell_type": "code",
   "execution_count": 38,
   "id": "92a0380d-0fd6-45f0-bdfe-3b3baed0fd11",
   "metadata": {},
   "outputs": [],
   "source": [
    "X_train, X_test, y_train, y_test = train_test_split(X, y, test_size=0.2)"
   ]
  },
  {
   "cell_type": "code",
   "execution_count": 39,
   "id": "37e0710f-e74e-4535-a37f-fa2d91b41859",
   "metadata": {},
   "outputs": [],
   "source": [
    "encoder = LabelEncoder()\n",
    "encoder.fit(y)\n",
    "y_train = encoder.transform(y_train)\n",
    "y_test = encoder.transform(y_test)\n",
    "y_train = to_categorical(y_train)\n",
    "y_test = to_categorical(y_test)"
   ]
  },
  {
   "cell_type": "code",
   "execution_count": 40,
   "id": "dd31d9c6-4c28-43cd-8652-99af045472c7",
   "metadata": {},
   "outputs": [
    {
     "data": {
      "text/plain": [
       "array([[0., 0., 1., ..., 0., 0., 0.],\n",
       "       [0., 1., 0., ..., 0., 0., 0.],\n",
       "       [1., 0., 0., ..., 0., 0., 0.],\n",
       "       ...,\n",
       "       [0., 0., 0., ..., 0., 0., 0.],\n",
       "       [0., 0., 0., ..., 0., 0., 1.],\n",
       "       [0., 0., 0., ..., 0., 0., 0.]], dtype=float32)"
      ]
     },
     "execution_count": 40,
     "metadata": {},
     "output_type": "execute_result"
    }
   ],
   "source": [
    "y_test"
   ]
  },
  {
   "cell_type": "code",
   "execution_count": 42,
   "id": "e4086b5f-d323-4818-9d79-60da1894f846",
   "metadata": {
    "collapsed": true,
    "jupyter": {
     "outputs_hidden": true
    },
    "tags": []
   },
   "outputs": [
    {
     "name": "stdout",
     "output_type": "stream",
     "text": [
      "Epoch 1/5\n"
     ]
    },
    {
     "ename": "NotImplementedError",
     "evalue": "in user code:\n\n    File \"C:\\Users\\NLP\\anaconda3\\lib\\site-packages\\keras\\engine\\training.py\", line 1051, in train_function  *\n        return step_function(self, iterator)\n    File \"C:\\Users\\NLP\\anaconda3\\lib\\site-packages\\sklearn\\utils\\validation.py\", line 953, in inner_f  *\n        return f(*args, **kwargs)\n    File \"C:\\Users\\NLP\\anaconda3\\lib\\site-packages\\sklearn\\metrics\\_classification.py\", line 1067, in f1_score  *\n        return fbeta_score(y_true, y_pred, beta=1, labels=labels,\n    File \"C:\\Users\\NLP\\anaconda3\\lib\\site-packages\\sklearn\\utils\\validation.py\", line 953, in inner_f  *\n        return f(*args, **kwargs)\n    File \"C:\\Users\\NLP\\anaconda3\\lib\\site-packages\\sklearn\\metrics\\_classification.py\", line 1190, in fbeta_score  *\n        _, _, f, _ = precision_recall_fscore_support(y_true, y_pred,\n    File \"C:\\Users\\NLP\\anaconda3\\lib\\site-packages\\sklearn\\utils\\validation.py\", line 953, in inner_f  *\n        return f(*args, **kwargs)\n    File \"C:\\Users\\NLP\\anaconda3\\lib\\site-packages\\sklearn\\metrics\\_classification.py\", line 1456, in precision_recall_fscore_support  *\n        labels = _check_set_wise_labels(y_true, y_pred, average, labels,\n    File \"C:\\Users\\NLP\\anaconda3\\lib\\site-packages\\sklearn\\metrics\\_classification.py\", line 1274, in _check_set_wise_labels  *\n        y_type, y_true, y_pred = _check_targets(y_true, y_pred)\n    File \"C:\\Users\\NLP\\anaconda3\\lib\\site-packages\\sklearn\\metrics\\_classification.py\", line 83, in _check_targets  *\n        check_consistent_length(y_true, y_pred)\n    File \"C:\\Users\\NLP\\anaconda3\\lib\\site-packages\\sklearn\\utils\\validation.py\", line 260, in check_consistent_length  *\n        uniques = np.unique(lengths)\n    File \"<__array_function__ internals>\", line 5, in unique  **\n        \n    File \"C:\\Users\\NLP\\anaconda3\\lib\\site-packages\\numpy\\lib\\arraysetops.py\", line 260, in unique\n        ar = np.asanyarray(ar)\n    File \"C:\\Users\\NLP\\anaconda3\\lib\\site-packages\\numpy\\core\\_asarray.py\", line 171, in asanyarray\n        return array(a, dtype, copy=False, order=order, subok=True)\n\n    NotImplementedError: Cannot convert a symbolic tf.Tensor (strided_slice_1:0) to a numpy array. This error may indicate that you're trying to pass a Tensor to a NumPy call, which is not supported.\n",
     "output_type": "error",
     "traceback": [
      "\u001b[1;31m---------------------------------------------------------------------------\u001b[0m",
      "\u001b[1;31mNotImplementedError\u001b[0m                       Traceback (most recent call last)",
      "\u001b[1;32m<ipython-input-42-c4c2d67df01f>\u001b[0m in \u001b[0;36m<module>\u001b[1;34m\u001b[0m\n\u001b[0;32m      1\u001b[0m \u001b[0mf1model\u001b[0m\u001b[1;33m.\u001b[0m\u001b[0mcompile\u001b[0m\u001b[1;33m(\u001b[0m\u001b[0mloss\u001b[0m\u001b[1;33m=\u001b[0m\u001b[1;34m'categorical_crossentropy'\u001b[0m\u001b[1;33m,\u001b[0m \u001b[0moptimizer\u001b[0m\u001b[1;33m=\u001b[0m\u001b[1;34m'adam'\u001b[0m\u001b[1;33m,\u001b[0m \u001b[0mmetrics\u001b[0m\u001b[1;33m=\u001b[0m\u001b[1;33m[\u001b[0m\u001b[1;34m'accuracy'\u001b[0m\u001b[1;33m,\u001b[0m \u001b[0mf1_score\u001b[0m\u001b[1;33m]\u001b[0m\u001b[1;33m)\u001b[0m\u001b[1;33m\u001b[0m\u001b[1;33m\u001b[0m\u001b[0m\n\u001b[1;32m----> 2\u001b[1;33m \u001b[0mhistory\u001b[0m \u001b[1;33m=\u001b[0m \u001b[0mf1model\u001b[0m\u001b[1;33m.\u001b[0m\u001b[0mfit\u001b[0m\u001b[1;33m(\u001b[0m\u001b[0mX_train\u001b[0m\u001b[1;33m,\u001b[0m \u001b[0my_train\u001b[0m\u001b[1;33m,\u001b[0m \u001b[0mepochs\u001b[0m\u001b[1;33m=\u001b[0m\u001b[1;36m5\u001b[0m\u001b[1;33m,\u001b[0m \u001b[0mbatch_size\u001b[0m\u001b[1;33m=\u001b[0m\u001b[1;36m32\u001b[0m\u001b[1;33m,\u001b[0m \u001b[0mvalidation_data\u001b[0m\u001b[1;33m=\u001b[0m\u001b[1;33m(\u001b[0m\u001b[0mX_test\u001b[0m\u001b[1;33m,\u001b[0m \u001b[0my_test\u001b[0m\u001b[1;33m)\u001b[0m\u001b[1;33m)\u001b[0m\u001b[1;33m\u001b[0m\u001b[1;33m\u001b[0m\u001b[0m\n\u001b[0m",
      "\u001b[1;32m~\\anaconda3\\lib\\site-packages\\keras\\utils\\traceback_utils.py\u001b[0m in \u001b[0;36merror_handler\u001b[1;34m(*args, **kwargs)\u001b[0m\n\u001b[0;32m     65\u001b[0m     \u001b[1;32mexcept\u001b[0m \u001b[0mException\u001b[0m \u001b[1;32mas\u001b[0m \u001b[0me\u001b[0m\u001b[1;33m:\u001b[0m  \u001b[1;31m# pylint: disable=broad-except\u001b[0m\u001b[1;33m\u001b[0m\u001b[1;33m\u001b[0m\u001b[0m\n\u001b[0;32m     66\u001b[0m       \u001b[0mfiltered_tb\u001b[0m \u001b[1;33m=\u001b[0m \u001b[0m_process_traceback_frames\u001b[0m\u001b[1;33m(\u001b[0m\u001b[0me\u001b[0m\u001b[1;33m.\u001b[0m\u001b[0m__traceback__\u001b[0m\u001b[1;33m)\u001b[0m\u001b[1;33m\u001b[0m\u001b[1;33m\u001b[0m\u001b[0m\n\u001b[1;32m---> 67\u001b[1;33m       \u001b[1;32mraise\u001b[0m \u001b[0me\u001b[0m\u001b[1;33m.\u001b[0m\u001b[0mwith_traceback\u001b[0m\u001b[1;33m(\u001b[0m\u001b[0mfiltered_tb\u001b[0m\u001b[1;33m)\u001b[0m \u001b[1;32mfrom\u001b[0m \u001b[1;32mNone\u001b[0m\u001b[1;33m\u001b[0m\u001b[1;33m\u001b[0m\u001b[0m\n\u001b[0m\u001b[0;32m     68\u001b[0m     \u001b[1;32mfinally\u001b[0m\u001b[1;33m:\u001b[0m\u001b[1;33m\u001b[0m\u001b[1;33m\u001b[0m\u001b[0m\n\u001b[0;32m     69\u001b[0m       \u001b[1;32mdel\u001b[0m \u001b[0mfiltered_tb\u001b[0m\u001b[1;33m\u001b[0m\u001b[1;33m\u001b[0m\u001b[0m\n",
      "\u001b[1;32m~\\anaconda3\\lib\\site-packages\\keras\\engine\\training.py\u001b[0m in \u001b[0;36mtf__train_function\u001b[1;34m(iterator)\u001b[0m\n\u001b[0;32m     13\u001b[0m                 \u001b[1;32mtry\u001b[0m\u001b[1;33m:\u001b[0m\u001b[1;33m\u001b[0m\u001b[1;33m\u001b[0m\u001b[0m\n\u001b[0;32m     14\u001b[0m                     \u001b[0mdo_return\u001b[0m \u001b[1;33m=\u001b[0m \u001b[1;32mTrue\u001b[0m\u001b[1;33m\u001b[0m\u001b[1;33m\u001b[0m\u001b[0m\n\u001b[1;32m---> 15\u001b[1;33m                     \u001b[0mretval_\u001b[0m \u001b[1;33m=\u001b[0m \u001b[0mag__\u001b[0m\u001b[1;33m.\u001b[0m\u001b[0mconverted_call\u001b[0m\u001b[1;33m(\u001b[0m\u001b[0mag__\u001b[0m\u001b[1;33m.\u001b[0m\u001b[0mld\u001b[0m\u001b[1;33m(\u001b[0m\u001b[0mstep_function\u001b[0m\u001b[1;33m)\u001b[0m\u001b[1;33m,\u001b[0m \u001b[1;33m(\u001b[0m\u001b[0mag__\u001b[0m\u001b[1;33m.\u001b[0m\u001b[0mld\u001b[0m\u001b[1;33m(\u001b[0m\u001b[0mself\u001b[0m\u001b[1;33m)\u001b[0m\u001b[1;33m,\u001b[0m \u001b[0mag__\u001b[0m\u001b[1;33m.\u001b[0m\u001b[0mld\u001b[0m\u001b[1;33m(\u001b[0m\u001b[0miterator\u001b[0m\u001b[1;33m)\u001b[0m\u001b[1;33m)\u001b[0m\u001b[1;33m,\u001b[0m \u001b[1;32mNone\u001b[0m\u001b[1;33m,\u001b[0m \u001b[0mfscope\u001b[0m\u001b[1;33m)\u001b[0m\u001b[1;33m\u001b[0m\u001b[1;33m\u001b[0m\u001b[0m\n\u001b[0m\u001b[0;32m     16\u001b[0m                 \u001b[1;32mexcept\u001b[0m\u001b[1;33m:\u001b[0m\u001b[1;33m\u001b[0m\u001b[1;33m\u001b[0m\u001b[0m\n\u001b[0;32m     17\u001b[0m                     \u001b[0mdo_return\u001b[0m \u001b[1;33m=\u001b[0m \u001b[1;32mFalse\u001b[0m\u001b[1;33m\u001b[0m\u001b[1;33m\u001b[0m\u001b[0m\n",
      "\u001b[1;32m~\\anaconda3\\lib\\site-packages\\sklearn\\utils\\validation.py\u001b[0m in \u001b[0;36mtf__inner_f\u001b[1;34m(*args, **kwargs)\u001b[0m\n\u001b[0;32m     44\u001b[0m                         \u001b[1;32mraise\u001b[0m\u001b[1;33m\u001b[0m\u001b[1;33m\u001b[0m\u001b[0m\n\u001b[0;32m     45\u001b[0m                 \u001b[0margs_msg\u001b[0m \u001b[1;33m=\u001b[0m \u001b[0mag__\u001b[0m\u001b[1;33m.\u001b[0m\u001b[0mUndefined\u001b[0m\u001b[1;33m(\u001b[0m\u001b[1;34m'args_msg'\u001b[0m\u001b[1;33m)\u001b[0m\u001b[1;33m\u001b[0m\u001b[1;33m\u001b[0m\u001b[0m\n\u001b[1;32m---> 46\u001b[1;33m                 \u001b[0mag__\u001b[0m\u001b[1;33m.\u001b[0m\u001b[0mif_stmt\u001b[0m\u001b[1;33m(\u001b[0m\u001b[1;33m(\u001b[0m\u001b[0mag__\u001b[0m\u001b[1;33m.\u001b[0m\u001b[0mld\u001b[0m\u001b[1;33m(\u001b[0m\u001b[0mextra_args\u001b[0m\u001b[1;33m)\u001b[0m \u001b[1;33m<=\u001b[0m \u001b[1;36m0\u001b[0m\u001b[1;33m)\u001b[0m\u001b[1;33m,\u001b[0m \u001b[0mif_body\u001b[0m\u001b[1;33m,\u001b[0m \u001b[0melse_body\u001b[0m\u001b[1;33m,\u001b[0m \u001b[0mget_state\u001b[0m\u001b[1;33m,\u001b[0m \u001b[0mset_state\u001b[0m\u001b[1;33m,\u001b[0m \u001b[1;33m(\u001b[0m\u001b[1;34m'do_return'\u001b[0m\u001b[1;33m,\u001b[0m \u001b[1;34m'retval_'\u001b[0m\u001b[1;33m)\u001b[0m\u001b[1;33m,\u001b[0m \u001b[1;36m2\u001b[0m\u001b[1;33m)\u001b[0m\u001b[1;33m\u001b[0m\u001b[1;33m\u001b[0m\u001b[0m\n\u001b[0m\u001b[0;32m     47\u001b[0m                 \u001b[1;32mreturn\u001b[0m \u001b[0mfscope\u001b[0m\u001b[1;33m.\u001b[0m\u001b[0mret\u001b[0m\u001b[1;33m(\u001b[0m\u001b[0mretval_\u001b[0m\u001b[1;33m,\u001b[0m \u001b[0mdo_return\u001b[0m\u001b[1;33m)\u001b[0m\u001b[1;33m\u001b[0m\u001b[1;33m\u001b[0m\u001b[0m\n\u001b[0;32m     48\u001b[0m         \u001b[1;32mreturn\u001b[0m \u001b[0mtf__inner_f\u001b[0m\u001b[1;33m\u001b[0m\u001b[1;33m\u001b[0m\u001b[0m\n",
      "\u001b[1;32m~\\anaconda3\\lib\\site-packages\\sklearn\\utils\\validation.py\u001b[0m in \u001b[0;36mif_body\u001b[1;34m()\u001b[0m\n\u001b[0;32m     26\u001b[0m                     \u001b[1;32mtry\u001b[0m\u001b[1;33m:\u001b[0m\u001b[1;33m\u001b[0m\u001b[1;33m\u001b[0m\u001b[0m\n\u001b[0;32m     27\u001b[0m                         \u001b[0mdo_return\u001b[0m \u001b[1;33m=\u001b[0m \u001b[1;32mTrue\u001b[0m\u001b[1;33m\u001b[0m\u001b[1;33m\u001b[0m\u001b[0m\n\u001b[1;32m---> 28\u001b[1;33m                         \u001b[0mretval_\u001b[0m \u001b[1;33m=\u001b[0m \u001b[0mag__\u001b[0m\u001b[1;33m.\u001b[0m\u001b[0mconverted_call\u001b[0m\u001b[1;33m(\u001b[0m\u001b[0mag__\u001b[0m\u001b[1;33m.\u001b[0m\u001b[0mld\u001b[0m\u001b[1;33m(\u001b[0m\u001b[0mf\u001b[0m\u001b[1;33m)\u001b[0m\u001b[1;33m,\u001b[0m \u001b[0mtuple\u001b[0m\u001b[1;33m(\u001b[0m\u001b[0mag__\u001b[0m\u001b[1;33m.\u001b[0m\u001b[0mld\u001b[0m\u001b[1;33m(\u001b[0m\u001b[0margs\u001b[0m\u001b[1;33m)\u001b[0m\u001b[1;33m)\u001b[0m\u001b[1;33m,\u001b[0m \u001b[0mdict\u001b[0m\u001b[1;33m(\u001b[0m\u001b[1;33m**\u001b[0m\u001b[0mag__\u001b[0m\u001b[1;33m.\u001b[0m\u001b[0mld\u001b[0m\u001b[1;33m(\u001b[0m\u001b[0mkwargs\u001b[0m\u001b[1;33m)\u001b[0m\u001b[1;33m)\u001b[0m\u001b[1;33m,\u001b[0m \u001b[0mfscope\u001b[0m\u001b[1;33m)\u001b[0m\u001b[1;33m\u001b[0m\u001b[1;33m\u001b[0m\u001b[0m\n\u001b[0m\u001b[0;32m     29\u001b[0m                     \u001b[1;32mexcept\u001b[0m\u001b[1;33m:\u001b[0m\u001b[1;33m\u001b[0m\u001b[1;33m\u001b[0m\u001b[0m\n\u001b[0;32m     30\u001b[0m                         \u001b[0mdo_return\u001b[0m \u001b[1;33m=\u001b[0m \u001b[1;32mFalse\u001b[0m\u001b[1;33m\u001b[0m\u001b[1;33m\u001b[0m\u001b[0m\n",
      "\u001b[1;32m~\\anaconda3\\lib\\site-packages\\sklearn\\metrics\\_classification.py\u001b[0m in \u001b[0;36mtf__f1_score\u001b[1;34m(y_true, y_pred, labels, pos_label, average, sample_weight, zero_division)\u001b[0m\n\u001b[0;32m     11\u001b[0m                 \u001b[1;32mtry\u001b[0m\u001b[1;33m:\u001b[0m\u001b[1;33m\u001b[0m\u001b[1;33m\u001b[0m\u001b[0m\n\u001b[0;32m     12\u001b[0m                     \u001b[0mdo_return\u001b[0m \u001b[1;33m=\u001b[0m \u001b[1;32mTrue\u001b[0m\u001b[1;33m\u001b[0m\u001b[1;33m\u001b[0m\u001b[0m\n\u001b[1;32m---> 13\u001b[1;33m                     \u001b[0mretval_\u001b[0m \u001b[1;33m=\u001b[0m \u001b[0mag__\u001b[0m\u001b[1;33m.\u001b[0m\u001b[0mconverted_call\u001b[0m\u001b[1;33m(\u001b[0m\u001b[0mag__\u001b[0m\u001b[1;33m.\u001b[0m\u001b[0mld\u001b[0m\u001b[1;33m(\u001b[0m\u001b[0mfbeta_score\u001b[0m\u001b[1;33m)\u001b[0m\u001b[1;33m,\u001b[0m \u001b[1;33m(\u001b[0m\u001b[0mag__\u001b[0m\u001b[1;33m.\u001b[0m\u001b[0mld\u001b[0m\u001b[1;33m(\u001b[0m\u001b[0my_true\u001b[0m\u001b[1;33m)\u001b[0m\u001b[1;33m,\u001b[0m \u001b[0mag__\u001b[0m\u001b[1;33m.\u001b[0m\u001b[0mld\u001b[0m\u001b[1;33m(\u001b[0m\u001b[0my_pred\u001b[0m\u001b[1;33m)\u001b[0m\u001b[1;33m)\u001b[0m\u001b[1;33m,\u001b[0m \u001b[0mdict\u001b[0m\u001b[1;33m(\u001b[0m\u001b[0mbeta\u001b[0m\u001b[1;33m=\u001b[0m\u001b[1;36m1\u001b[0m\u001b[1;33m,\u001b[0m \u001b[0mlabels\u001b[0m\u001b[1;33m=\u001b[0m\u001b[0mag__\u001b[0m\u001b[1;33m.\u001b[0m\u001b[0mld\u001b[0m\u001b[1;33m(\u001b[0m\u001b[0mlabels\u001b[0m\u001b[1;33m)\u001b[0m\u001b[1;33m,\u001b[0m \u001b[0mpos_label\u001b[0m\u001b[1;33m=\u001b[0m\u001b[0mag__\u001b[0m\u001b[1;33m.\u001b[0m\u001b[0mld\u001b[0m\u001b[1;33m(\u001b[0m\u001b[0mpos_label\u001b[0m\u001b[1;33m)\u001b[0m\u001b[1;33m,\u001b[0m \u001b[0maverage\u001b[0m\u001b[1;33m=\u001b[0m\u001b[0mag__\u001b[0m\u001b[1;33m.\u001b[0m\u001b[0mld\u001b[0m\u001b[1;33m(\u001b[0m\u001b[0maverage\u001b[0m\u001b[1;33m)\u001b[0m\u001b[1;33m,\u001b[0m \u001b[0msample_weight\u001b[0m\u001b[1;33m=\u001b[0m\u001b[0mag__\u001b[0m\u001b[1;33m.\u001b[0m\u001b[0mld\u001b[0m\u001b[1;33m(\u001b[0m\u001b[0msample_weight\u001b[0m\u001b[1;33m)\u001b[0m\u001b[1;33m,\u001b[0m \u001b[0mzero_division\u001b[0m\u001b[1;33m=\u001b[0m\u001b[0mag__\u001b[0m\u001b[1;33m.\u001b[0m\u001b[0mld\u001b[0m\u001b[1;33m(\u001b[0m\u001b[0mzero_division\u001b[0m\u001b[1;33m)\u001b[0m\u001b[1;33m)\u001b[0m\u001b[1;33m,\u001b[0m \u001b[0mfscope\u001b[0m\u001b[1;33m)\u001b[0m\u001b[1;33m\u001b[0m\u001b[1;33m\u001b[0m\u001b[0m\n\u001b[0m\u001b[0;32m     14\u001b[0m                 \u001b[1;32mexcept\u001b[0m\u001b[1;33m:\u001b[0m\u001b[1;33m\u001b[0m\u001b[1;33m\u001b[0m\u001b[0m\n\u001b[0;32m     15\u001b[0m                     \u001b[0mdo_return\u001b[0m \u001b[1;33m=\u001b[0m \u001b[1;32mFalse\u001b[0m\u001b[1;33m\u001b[0m\u001b[1;33m\u001b[0m\u001b[0m\n",
      "\u001b[1;32m~\\anaconda3\\lib\\site-packages\\sklearn\\utils\\validation.py\u001b[0m in \u001b[0;36mtf__inner_f\u001b[1;34m(*args, **kwargs)\u001b[0m\n\u001b[0;32m     44\u001b[0m                         \u001b[1;32mraise\u001b[0m\u001b[1;33m\u001b[0m\u001b[1;33m\u001b[0m\u001b[0m\n\u001b[0;32m     45\u001b[0m                 \u001b[0margs_msg\u001b[0m \u001b[1;33m=\u001b[0m \u001b[0mag__\u001b[0m\u001b[1;33m.\u001b[0m\u001b[0mUndefined\u001b[0m\u001b[1;33m(\u001b[0m\u001b[1;34m'args_msg'\u001b[0m\u001b[1;33m)\u001b[0m\u001b[1;33m\u001b[0m\u001b[1;33m\u001b[0m\u001b[0m\n\u001b[1;32m---> 46\u001b[1;33m                 \u001b[0mag__\u001b[0m\u001b[1;33m.\u001b[0m\u001b[0mif_stmt\u001b[0m\u001b[1;33m(\u001b[0m\u001b[1;33m(\u001b[0m\u001b[0mag__\u001b[0m\u001b[1;33m.\u001b[0m\u001b[0mld\u001b[0m\u001b[1;33m(\u001b[0m\u001b[0mextra_args\u001b[0m\u001b[1;33m)\u001b[0m \u001b[1;33m<=\u001b[0m \u001b[1;36m0\u001b[0m\u001b[1;33m)\u001b[0m\u001b[1;33m,\u001b[0m \u001b[0mif_body\u001b[0m\u001b[1;33m,\u001b[0m \u001b[0melse_body\u001b[0m\u001b[1;33m,\u001b[0m \u001b[0mget_state\u001b[0m\u001b[1;33m,\u001b[0m \u001b[0mset_state\u001b[0m\u001b[1;33m,\u001b[0m \u001b[1;33m(\u001b[0m\u001b[1;34m'do_return'\u001b[0m\u001b[1;33m,\u001b[0m \u001b[1;34m'retval_'\u001b[0m\u001b[1;33m)\u001b[0m\u001b[1;33m,\u001b[0m \u001b[1;36m2\u001b[0m\u001b[1;33m)\u001b[0m\u001b[1;33m\u001b[0m\u001b[1;33m\u001b[0m\u001b[0m\n\u001b[0m\u001b[0;32m     47\u001b[0m                 \u001b[1;32mreturn\u001b[0m \u001b[0mfscope\u001b[0m\u001b[1;33m.\u001b[0m\u001b[0mret\u001b[0m\u001b[1;33m(\u001b[0m\u001b[0mretval_\u001b[0m\u001b[1;33m,\u001b[0m \u001b[0mdo_return\u001b[0m\u001b[1;33m)\u001b[0m\u001b[1;33m\u001b[0m\u001b[1;33m\u001b[0m\u001b[0m\n\u001b[0;32m     48\u001b[0m         \u001b[1;32mreturn\u001b[0m \u001b[0mtf__inner_f\u001b[0m\u001b[1;33m\u001b[0m\u001b[1;33m\u001b[0m\u001b[0m\n",
      "\u001b[1;32m~\\anaconda3\\lib\\site-packages\\sklearn\\utils\\validation.py\u001b[0m in \u001b[0;36mif_body\u001b[1;34m()\u001b[0m\n\u001b[0;32m     26\u001b[0m                     \u001b[1;32mtry\u001b[0m\u001b[1;33m:\u001b[0m\u001b[1;33m\u001b[0m\u001b[1;33m\u001b[0m\u001b[0m\n\u001b[0;32m     27\u001b[0m                         \u001b[0mdo_return\u001b[0m \u001b[1;33m=\u001b[0m \u001b[1;32mTrue\u001b[0m\u001b[1;33m\u001b[0m\u001b[1;33m\u001b[0m\u001b[0m\n\u001b[1;32m---> 28\u001b[1;33m                         \u001b[0mretval_\u001b[0m \u001b[1;33m=\u001b[0m \u001b[0mag__\u001b[0m\u001b[1;33m.\u001b[0m\u001b[0mconverted_call\u001b[0m\u001b[1;33m(\u001b[0m\u001b[0mag__\u001b[0m\u001b[1;33m.\u001b[0m\u001b[0mld\u001b[0m\u001b[1;33m(\u001b[0m\u001b[0mf\u001b[0m\u001b[1;33m)\u001b[0m\u001b[1;33m,\u001b[0m \u001b[0mtuple\u001b[0m\u001b[1;33m(\u001b[0m\u001b[0mag__\u001b[0m\u001b[1;33m.\u001b[0m\u001b[0mld\u001b[0m\u001b[1;33m(\u001b[0m\u001b[0margs\u001b[0m\u001b[1;33m)\u001b[0m\u001b[1;33m)\u001b[0m\u001b[1;33m,\u001b[0m \u001b[0mdict\u001b[0m\u001b[1;33m(\u001b[0m\u001b[1;33m**\u001b[0m\u001b[0mag__\u001b[0m\u001b[1;33m.\u001b[0m\u001b[0mld\u001b[0m\u001b[1;33m(\u001b[0m\u001b[0mkwargs\u001b[0m\u001b[1;33m)\u001b[0m\u001b[1;33m)\u001b[0m\u001b[1;33m,\u001b[0m \u001b[0mfscope\u001b[0m\u001b[1;33m)\u001b[0m\u001b[1;33m\u001b[0m\u001b[1;33m\u001b[0m\u001b[0m\n\u001b[0m\u001b[0;32m     29\u001b[0m                     \u001b[1;32mexcept\u001b[0m\u001b[1;33m:\u001b[0m\u001b[1;33m\u001b[0m\u001b[1;33m\u001b[0m\u001b[0m\n\u001b[0;32m     30\u001b[0m                         \u001b[0mdo_return\u001b[0m \u001b[1;33m=\u001b[0m \u001b[1;32mFalse\u001b[0m\u001b[1;33m\u001b[0m\u001b[1;33m\u001b[0m\u001b[0m\n",
      "\u001b[1;32m~\\anaconda3\\lib\\site-packages\\sklearn\\metrics\\_classification.py\u001b[0m in \u001b[0;36mtf__fbeta_score\u001b[1;34m(y_true, y_pred, beta, labels, pos_label, average, sample_weight, zero_division)\u001b[0m\n\u001b[0;32m      9\u001b[0m                 \u001b[0mdo_return\u001b[0m \u001b[1;33m=\u001b[0m \u001b[1;32mFalse\u001b[0m\u001b[1;33m\u001b[0m\u001b[1;33m\u001b[0m\u001b[0m\n\u001b[0;32m     10\u001b[0m                 \u001b[0mretval_\u001b[0m \u001b[1;33m=\u001b[0m \u001b[0mag__\u001b[0m\u001b[1;33m.\u001b[0m\u001b[0mUndefinedReturnValue\u001b[0m\u001b[1;33m(\u001b[0m\u001b[1;33m)\u001b[0m\u001b[1;33m\u001b[0m\u001b[1;33m\u001b[0m\u001b[0m\n\u001b[1;32m---> 11\u001b[1;33m                 \u001b[1;33m(\u001b[0m\u001b[0m_\u001b[0m\u001b[1;33m,\u001b[0m \u001b[0m_\u001b[0m\u001b[1;33m,\u001b[0m \u001b[0mf\u001b[0m\u001b[1;33m,\u001b[0m \u001b[0m_\u001b[0m\u001b[1;33m)\u001b[0m \u001b[1;33m=\u001b[0m \u001b[0mag__\u001b[0m\u001b[1;33m.\u001b[0m\u001b[0mconverted_call\u001b[0m\u001b[1;33m(\u001b[0m\u001b[0mag__\u001b[0m\u001b[1;33m.\u001b[0m\u001b[0mld\u001b[0m\u001b[1;33m(\u001b[0m\u001b[0mprecision_recall_fscore_support\u001b[0m\u001b[1;33m)\u001b[0m\u001b[1;33m,\u001b[0m \u001b[1;33m(\u001b[0m\u001b[0mag__\u001b[0m\u001b[1;33m.\u001b[0m\u001b[0mld\u001b[0m\u001b[1;33m(\u001b[0m\u001b[0my_true\u001b[0m\u001b[1;33m)\u001b[0m\u001b[1;33m,\u001b[0m \u001b[0mag__\u001b[0m\u001b[1;33m.\u001b[0m\u001b[0mld\u001b[0m\u001b[1;33m(\u001b[0m\u001b[0my_pred\u001b[0m\u001b[1;33m)\u001b[0m\u001b[1;33m)\u001b[0m\u001b[1;33m,\u001b[0m \u001b[0mdict\u001b[0m\u001b[1;33m(\u001b[0m\u001b[0mbeta\u001b[0m\u001b[1;33m=\u001b[0m\u001b[0mag__\u001b[0m\u001b[1;33m.\u001b[0m\u001b[0mld\u001b[0m\u001b[1;33m(\u001b[0m\u001b[0mbeta\u001b[0m\u001b[1;33m)\u001b[0m\u001b[1;33m,\u001b[0m \u001b[0mlabels\u001b[0m\u001b[1;33m=\u001b[0m\u001b[0mag__\u001b[0m\u001b[1;33m.\u001b[0m\u001b[0mld\u001b[0m\u001b[1;33m(\u001b[0m\u001b[0mlabels\u001b[0m\u001b[1;33m)\u001b[0m\u001b[1;33m,\u001b[0m \u001b[0mpos_label\u001b[0m\u001b[1;33m=\u001b[0m\u001b[0mag__\u001b[0m\u001b[1;33m.\u001b[0m\u001b[0mld\u001b[0m\u001b[1;33m(\u001b[0m\u001b[0mpos_label\u001b[0m\u001b[1;33m)\u001b[0m\u001b[1;33m,\u001b[0m \u001b[0maverage\u001b[0m\u001b[1;33m=\u001b[0m\u001b[0mag__\u001b[0m\u001b[1;33m.\u001b[0m\u001b[0mld\u001b[0m\u001b[1;33m(\u001b[0m\u001b[0maverage\u001b[0m\u001b[1;33m)\u001b[0m\u001b[1;33m,\u001b[0m \u001b[0mwarn_for\u001b[0m\u001b[1;33m=\u001b[0m\u001b[1;33m(\u001b[0m\u001b[1;34m'f-score'\u001b[0m\u001b[1;33m,\u001b[0m\u001b[1;33m)\u001b[0m\u001b[1;33m,\u001b[0m \u001b[0msample_weight\u001b[0m\u001b[1;33m=\u001b[0m\u001b[0mag__\u001b[0m\u001b[1;33m.\u001b[0m\u001b[0mld\u001b[0m\u001b[1;33m(\u001b[0m\u001b[0msample_weight\u001b[0m\u001b[1;33m)\u001b[0m\u001b[1;33m,\u001b[0m \u001b[0mzero_division\u001b[0m\u001b[1;33m=\u001b[0m\u001b[0mag__\u001b[0m\u001b[1;33m.\u001b[0m\u001b[0mld\u001b[0m\u001b[1;33m(\u001b[0m\u001b[0mzero_division\u001b[0m\u001b[1;33m)\u001b[0m\u001b[1;33m)\u001b[0m\u001b[1;33m,\u001b[0m \u001b[0mfscope\u001b[0m\u001b[1;33m)\u001b[0m\u001b[1;33m\u001b[0m\u001b[1;33m\u001b[0m\u001b[0m\n\u001b[0m\u001b[0;32m     12\u001b[0m                 \u001b[1;32mtry\u001b[0m\u001b[1;33m:\u001b[0m\u001b[1;33m\u001b[0m\u001b[1;33m\u001b[0m\u001b[0m\n\u001b[0;32m     13\u001b[0m                     \u001b[0mdo_return\u001b[0m \u001b[1;33m=\u001b[0m \u001b[1;32mTrue\u001b[0m\u001b[1;33m\u001b[0m\u001b[1;33m\u001b[0m\u001b[0m\n",
      "\u001b[1;32m~\\anaconda3\\lib\\site-packages\\sklearn\\utils\\validation.py\u001b[0m in \u001b[0;36mtf__inner_f\u001b[1;34m(*args, **kwargs)\u001b[0m\n\u001b[0;32m     44\u001b[0m                         \u001b[1;32mraise\u001b[0m\u001b[1;33m\u001b[0m\u001b[1;33m\u001b[0m\u001b[0m\n\u001b[0;32m     45\u001b[0m                 \u001b[0margs_msg\u001b[0m \u001b[1;33m=\u001b[0m \u001b[0mag__\u001b[0m\u001b[1;33m.\u001b[0m\u001b[0mUndefined\u001b[0m\u001b[1;33m(\u001b[0m\u001b[1;34m'args_msg'\u001b[0m\u001b[1;33m)\u001b[0m\u001b[1;33m\u001b[0m\u001b[1;33m\u001b[0m\u001b[0m\n\u001b[1;32m---> 46\u001b[1;33m                 \u001b[0mag__\u001b[0m\u001b[1;33m.\u001b[0m\u001b[0mif_stmt\u001b[0m\u001b[1;33m(\u001b[0m\u001b[1;33m(\u001b[0m\u001b[0mag__\u001b[0m\u001b[1;33m.\u001b[0m\u001b[0mld\u001b[0m\u001b[1;33m(\u001b[0m\u001b[0mextra_args\u001b[0m\u001b[1;33m)\u001b[0m \u001b[1;33m<=\u001b[0m \u001b[1;36m0\u001b[0m\u001b[1;33m)\u001b[0m\u001b[1;33m,\u001b[0m \u001b[0mif_body\u001b[0m\u001b[1;33m,\u001b[0m \u001b[0melse_body\u001b[0m\u001b[1;33m,\u001b[0m \u001b[0mget_state\u001b[0m\u001b[1;33m,\u001b[0m \u001b[0mset_state\u001b[0m\u001b[1;33m,\u001b[0m \u001b[1;33m(\u001b[0m\u001b[1;34m'do_return'\u001b[0m\u001b[1;33m,\u001b[0m \u001b[1;34m'retval_'\u001b[0m\u001b[1;33m)\u001b[0m\u001b[1;33m,\u001b[0m \u001b[1;36m2\u001b[0m\u001b[1;33m)\u001b[0m\u001b[1;33m\u001b[0m\u001b[1;33m\u001b[0m\u001b[0m\n\u001b[0m\u001b[0;32m     47\u001b[0m                 \u001b[1;32mreturn\u001b[0m \u001b[0mfscope\u001b[0m\u001b[1;33m.\u001b[0m\u001b[0mret\u001b[0m\u001b[1;33m(\u001b[0m\u001b[0mretval_\u001b[0m\u001b[1;33m,\u001b[0m \u001b[0mdo_return\u001b[0m\u001b[1;33m)\u001b[0m\u001b[1;33m\u001b[0m\u001b[1;33m\u001b[0m\u001b[0m\n\u001b[0;32m     48\u001b[0m         \u001b[1;32mreturn\u001b[0m \u001b[0mtf__inner_f\u001b[0m\u001b[1;33m\u001b[0m\u001b[1;33m\u001b[0m\u001b[0m\n",
      "\u001b[1;32m~\\anaconda3\\lib\\site-packages\\sklearn\\utils\\validation.py\u001b[0m in \u001b[0;36mif_body\u001b[1;34m()\u001b[0m\n\u001b[0;32m     26\u001b[0m                     \u001b[1;32mtry\u001b[0m\u001b[1;33m:\u001b[0m\u001b[1;33m\u001b[0m\u001b[1;33m\u001b[0m\u001b[0m\n\u001b[0;32m     27\u001b[0m                         \u001b[0mdo_return\u001b[0m \u001b[1;33m=\u001b[0m \u001b[1;32mTrue\u001b[0m\u001b[1;33m\u001b[0m\u001b[1;33m\u001b[0m\u001b[0m\n\u001b[1;32m---> 28\u001b[1;33m                         \u001b[0mretval_\u001b[0m \u001b[1;33m=\u001b[0m \u001b[0mag__\u001b[0m\u001b[1;33m.\u001b[0m\u001b[0mconverted_call\u001b[0m\u001b[1;33m(\u001b[0m\u001b[0mag__\u001b[0m\u001b[1;33m.\u001b[0m\u001b[0mld\u001b[0m\u001b[1;33m(\u001b[0m\u001b[0mf\u001b[0m\u001b[1;33m)\u001b[0m\u001b[1;33m,\u001b[0m \u001b[0mtuple\u001b[0m\u001b[1;33m(\u001b[0m\u001b[0mag__\u001b[0m\u001b[1;33m.\u001b[0m\u001b[0mld\u001b[0m\u001b[1;33m(\u001b[0m\u001b[0margs\u001b[0m\u001b[1;33m)\u001b[0m\u001b[1;33m)\u001b[0m\u001b[1;33m,\u001b[0m \u001b[0mdict\u001b[0m\u001b[1;33m(\u001b[0m\u001b[1;33m**\u001b[0m\u001b[0mag__\u001b[0m\u001b[1;33m.\u001b[0m\u001b[0mld\u001b[0m\u001b[1;33m(\u001b[0m\u001b[0mkwargs\u001b[0m\u001b[1;33m)\u001b[0m\u001b[1;33m)\u001b[0m\u001b[1;33m,\u001b[0m \u001b[0mfscope\u001b[0m\u001b[1;33m)\u001b[0m\u001b[1;33m\u001b[0m\u001b[1;33m\u001b[0m\u001b[0m\n\u001b[0m\u001b[0;32m     29\u001b[0m                     \u001b[1;32mexcept\u001b[0m\u001b[1;33m:\u001b[0m\u001b[1;33m\u001b[0m\u001b[1;33m\u001b[0m\u001b[0m\n\u001b[0;32m     30\u001b[0m                         \u001b[0mdo_return\u001b[0m \u001b[1;33m=\u001b[0m \u001b[1;32mFalse\u001b[0m\u001b[1;33m\u001b[0m\u001b[1;33m\u001b[0m\u001b[0m\n",
      "\u001b[1;32m~\\anaconda3\\lib\\site-packages\\sklearn\\metrics\\_classification.py\u001b[0m in \u001b[0;36mtf__precision_recall_fscore_support\u001b[1;34m(y_true, y_pred, beta, labels, pos_label, average, warn_for, sample_weight, zero_division)\u001b[0m\n\u001b[0;32m     23\u001b[0m                     \u001b[1;32mpass\u001b[0m\u001b[1;33m\u001b[0m\u001b[1;33m\u001b[0m\u001b[0m\n\u001b[0;32m     24\u001b[0m                 \u001b[0mag__\u001b[0m\u001b[1;33m.\u001b[0m\u001b[0mif_stmt\u001b[0m\u001b[1;33m(\u001b[0m\u001b[1;33m(\u001b[0m\u001b[0mag__\u001b[0m\u001b[1;33m.\u001b[0m\u001b[0mld\u001b[0m\u001b[1;33m(\u001b[0m\u001b[0mbeta\u001b[0m\u001b[1;33m)\u001b[0m \u001b[1;33m<\u001b[0m \u001b[1;36m0\u001b[0m\u001b[1;33m)\u001b[0m\u001b[1;33m,\u001b[0m \u001b[0mif_body\u001b[0m\u001b[1;33m,\u001b[0m \u001b[0melse_body\u001b[0m\u001b[1;33m,\u001b[0m \u001b[0mget_state\u001b[0m\u001b[1;33m,\u001b[0m \u001b[0mset_state\u001b[0m\u001b[1;33m,\u001b[0m \u001b[1;33m(\u001b[0m\u001b[1;33m)\u001b[0m\u001b[1;33m,\u001b[0m \u001b[1;36m0\u001b[0m\u001b[1;33m)\u001b[0m\u001b[1;33m\u001b[0m\u001b[1;33m\u001b[0m\u001b[0m\n\u001b[1;32m---> 25\u001b[1;33m                 \u001b[0mlabels\u001b[0m \u001b[1;33m=\u001b[0m \u001b[0mag__\u001b[0m\u001b[1;33m.\u001b[0m\u001b[0mconverted_call\u001b[0m\u001b[1;33m(\u001b[0m\u001b[0mag__\u001b[0m\u001b[1;33m.\u001b[0m\u001b[0mld\u001b[0m\u001b[1;33m(\u001b[0m\u001b[0m_check_set_wise_labels\u001b[0m\u001b[1;33m)\u001b[0m\u001b[1;33m,\u001b[0m \u001b[1;33m(\u001b[0m\u001b[0mag__\u001b[0m\u001b[1;33m.\u001b[0m\u001b[0mld\u001b[0m\u001b[1;33m(\u001b[0m\u001b[0my_true\u001b[0m\u001b[1;33m)\u001b[0m\u001b[1;33m,\u001b[0m \u001b[0mag__\u001b[0m\u001b[1;33m.\u001b[0m\u001b[0mld\u001b[0m\u001b[1;33m(\u001b[0m\u001b[0my_pred\u001b[0m\u001b[1;33m)\u001b[0m\u001b[1;33m,\u001b[0m \u001b[0mag__\u001b[0m\u001b[1;33m.\u001b[0m\u001b[0mld\u001b[0m\u001b[1;33m(\u001b[0m\u001b[0maverage\u001b[0m\u001b[1;33m)\u001b[0m\u001b[1;33m,\u001b[0m \u001b[0mag__\u001b[0m\u001b[1;33m.\u001b[0m\u001b[0mld\u001b[0m\u001b[1;33m(\u001b[0m\u001b[0mlabels\u001b[0m\u001b[1;33m)\u001b[0m\u001b[1;33m,\u001b[0m \u001b[0mag__\u001b[0m\u001b[1;33m.\u001b[0m\u001b[0mld\u001b[0m\u001b[1;33m(\u001b[0m\u001b[0mpos_label\u001b[0m\u001b[1;33m)\u001b[0m\u001b[1;33m)\u001b[0m\u001b[1;33m,\u001b[0m \u001b[1;32mNone\u001b[0m\u001b[1;33m,\u001b[0m \u001b[0mfscope\u001b[0m\u001b[1;33m)\u001b[0m\u001b[1;33m\u001b[0m\u001b[1;33m\u001b[0m\u001b[0m\n\u001b[0m\u001b[0;32m     26\u001b[0m                 \u001b[0msamplewise\u001b[0m \u001b[1;33m=\u001b[0m \u001b[1;33m(\u001b[0m\u001b[0mag__\u001b[0m\u001b[1;33m.\u001b[0m\u001b[0mld\u001b[0m\u001b[1;33m(\u001b[0m\u001b[0maverage\u001b[0m\u001b[1;33m)\u001b[0m \u001b[1;33m==\u001b[0m \u001b[1;34m'samples'\u001b[0m\u001b[1;33m)\u001b[0m\u001b[1;33m\u001b[0m\u001b[1;33m\u001b[0m\u001b[0m\n\u001b[0;32m     27\u001b[0m                 \u001b[0mMCM\u001b[0m \u001b[1;33m=\u001b[0m \u001b[0mag__\u001b[0m\u001b[1;33m.\u001b[0m\u001b[0mconverted_call\u001b[0m\u001b[1;33m(\u001b[0m\u001b[0mag__\u001b[0m\u001b[1;33m.\u001b[0m\u001b[0mld\u001b[0m\u001b[1;33m(\u001b[0m\u001b[0mmultilabel_confusion_matrix\u001b[0m\u001b[1;33m)\u001b[0m\u001b[1;33m,\u001b[0m \u001b[1;33m(\u001b[0m\u001b[0mag__\u001b[0m\u001b[1;33m.\u001b[0m\u001b[0mld\u001b[0m\u001b[1;33m(\u001b[0m\u001b[0my_true\u001b[0m\u001b[1;33m)\u001b[0m\u001b[1;33m,\u001b[0m \u001b[0mag__\u001b[0m\u001b[1;33m.\u001b[0m\u001b[0mld\u001b[0m\u001b[1;33m(\u001b[0m\u001b[0my_pred\u001b[0m\u001b[1;33m)\u001b[0m\u001b[1;33m)\u001b[0m\u001b[1;33m,\u001b[0m \u001b[0mdict\u001b[0m\u001b[1;33m(\u001b[0m\u001b[0msample_weight\u001b[0m\u001b[1;33m=\u001b[0m\u001b[0mag__\u001b[0m\u001b[1;33m.\u001b[0m\u001b[0mld\u001b[0m\u001b[1;33m(\u001b[0m\u001b[0msample_weight\u001b[0m\u001b[1;33m)\u001b[0m\u001b[1;33m,\u001b[0m \u001b[0mlabels\u001b[0m\u001b[1;33m=\u001b[0m\u001b[0mag__\u001b[0m\u001b[1;33m.\u001b[0m\u001b[0mld\u001b[0m\u001b[1;33m(\u001b[0m\u001b[0mlabels\u001b[0m\u001b[1;33m)\u001b[0m\u001b[1;33m,\u001b[0m \u001b[0msamplewise\u001b[0m\u001b[1;33m=\u001b[0m\u001b[0mag__\u001b[0m\u001b[1;33m.\u001b[0m\u001b[0mld\u001b[0m\u001b[1;33m(\u001b[0m\u001b[0msamplewise\u001b[0m\u001b[1;33m)\u001b[0m\u001b[1;33m)\u001b[0m\u001b[1;33m,\u001b[0m \u001b[0mfscope\u001b[0m\u001b[1;33m)\u001b[0m\u001b[1;33m\u001b[0m\u001b[1;33m\u001b[0m\u001b[0m\n",
      "\u001b[1;32m~\\anaconda3\\lib\\site-packages\\sklearn\\metrics\\_classification.py\u001b[0m in \u001b[0;36mtf___check_set_wise_labels\u001b[1;34m(y_true, y_pred, average, labels, pos_label)\u001b[0m\n\u001b[0;32m     23\u001b[0m                     \u001b[1;32mpass\u001b[0m\u001b[1;33m\u001b[0m\u001b[1;33m\u001b[0m\u001b[0m\n\u001b[0;32m     24\u001b[0m                 \u001b[0mag__\u001b[0m\u001b[1;33m.\u001b[0m\u001b[0mif_stmt\u001b[0m\u001b[1;33m(\u001b[0m\u001b[0mag__\u001b[0m\u001b[1;33m.\u001b[0m\u001b[0mand_\u001b[0m\u001b[1;33m(\u001b[0m\u001b[1;33m(\u001b[0m\u001b[1;32mlambda\u001b[0m \u001b[1;33m:\u001b[0m \u001b[1;33m(\u001b[0m\u001b[0mag__\u001b[0m\u001b[1;33m.\u001b[0m\u001b[0mld\u001b[0m\u001b[1;33m(\u001b[0m\u001b[0maverage\u001b[0m\u001b[1;33m)\u001b[0m \u001b[1;32mnot\u001b[0m \u001b[1;32min\u001b[0m \u001b[0mag__\u001b[0m\u001b[1;33m.\u001b[0m\u001b[0mld\u001b[0m\u001b[1;33m(\u001b[0m\u001b[0maverage_options\u001b[0m\u001b[1;33m)\u001b[0m\u001b[1;33m)\u001b[0m\u001b[1;33m)\u001b[0m\u001b[1;33m,\u001b[0m \u001b[1;33m(\u001b[0m\u001b[1;32mlambda\u001b[0m \u001b[1;33m:\u001b[0m \u001b[1;33m(\u001b[0m\u001b[0mag__\u001b[0m\u001b[1;33m.\u001b[0m\u001b[0mld\u001b[0m\u001b[1;33m(\u001b[0m\u001b[0maverage\u001b[0m\u001b[1;33m)\u001b[0m \u001b[1;33m!=\u001b[0m \u001b[1;34m'binary'\u001b[0m\u001b[1;33m)\u001b[0m\u001b[1;33m)\u001b[0m\u001b[1;33m)\u001b[0m\u001b[1;33m,\u001b[0m \u001b[0mif_body\u001b[0m\u001b[1;33m,\u001b[0m \u001b[0melse_body\u001b[0m\u001b[1;33m,\u001b[0m \u001b[0mget_state\u001b[0m\u001b[1;33m,\u001b[0m \u001b[0mset_state\u001b[0m\u001b[1;33m,\u001b[0m \u001b[1;33m(\u001b[0m\u001b[1;33m)\u001b[0m\u001b[1;33m,\u001b[0m \u001b[1;36m0\u001b[0m\u001b[1;33m)\u001b[0m\u001b[1;33m\u001b[0m\u001b[1;33m\u001b[0m\u001b[0m\n\u001b[1;32m---> 25\u001b[1;33m                 \u001b[1;33m(\u001b[0m\u001b[0my_type\u001b[0m\u001b[1;33m,\u001b[0m \u001b[0my_true\u001b[0m\u001b[1;33m,\u001b[0m \u001b[0my_pred\u001b[0m\u001b[1;33m)\u001b[0m \u001b[1;33m=\u001b[0m \u001b[0mag__\u001b[0m\u001b[1;33m.\u001b[0m\u001b[0mconverted_call\u001b[0m\u001b[1;33m(\u001b[0m\u001b[0mag__\u001b[0m\u001b[1;33m.\u001b[0m\u001b[0mld\u001b[0m\u001b[1;33m(\u001b[0m\u001b[0m_check_targets\u001b[0m\u001b[1;33m)\u001b[0m\u001b[1;33m,\u001b[0m \u001b[1;33m(\u001b[0m\u001b[0mag__\u001b[0m\u001b[1;33m.\u001b[0m\u001b[0mld\u001b[0m\u001b[1;33m(\u001b[0m\u001b[0my_true\u001b[0m\u001b[1;33m)\u001b[0m\u001b[1;33m,\u001b[0m \u001b[0mag__\u001b[0m\u001b[1;33m.\u001b[0m\u001b[0mld\u001b[0m\u001b[1;33m(\u001b[0m\u001b[0my_pred\u001b[0m\u001b[1;33m)\u001b[0m\u001b[1;33m)\u001b[0m\u001b[1;33m,\u001b[0m \u001b[1;32mNone\u001b[0m\u001b[1;33m,\u001b[0m \u001b[0mfscope\u001b[0m\u001b[1;33m)\u001b[0m\u001b[1;33m\u001b[0m\u001b[1;33m\u001b[0m\u001b[0m\n\u001b[0m\u001b[0;32m     26\u001b[0m                 \u001b[0mpresent_labels\u001b[0m \u001b[1;33m=\u001b[0m \u001b[0mag__\u001b[0m\u001b[1;33m.\u001b[0m\u001b[0mconverted_call\u001b[0m\u001b[1;33m(\u001b[0m\u001b[0mag__\u001b[0m\u001b[1;33m.\u001b[0m\u001b[0mconverted_call\u001b[0m\u001b[1;33m(\u001b[0m\u001b[0mag__\u001b[0m\u001b[1;33m.\u001b[0m\u001b[0mld\u001b[0m\u001b[1;33m(\u001b[0m\u001b[0munique_labels\u001b[0m\u001b[1;33m)\u001b[0m\u001b[1;33m,\u001b[0m \u001b[1;33m(\u001b[0m\u001b[0mag__\u001b[0m\u001b[1;33m.\u001b[0m\u001b[0mld\u001b[0m\u001b[1;33m(\u001b[0m\u001b[0my_true\u001b[0m\u001b[1;33m)\u001b[0m\u001b[1;33m,\u001b[0m \u001b[0mag__\u001b[0m\u001b[1;33m.\u001b[0m\u001b[0mld\u001b[0m\u001b[1;33m(\u001b[0m\u001b[0my_pred\u001b[0m\u001b[1;33m)\u001b[0m\u001b[1;33m)\u001b[0m\u001b[1;33m,\u001b[0m \u001b[1;32mNone\u001b[0m\u001b[1;33m,\u001b[0m \u001b[0mfscope\u001b[0m\u001b[1;33m)\u001b[0m\u001b[1;33m.\u001b[0m\u001b[0mtolist\u001b[0m\u001b[1;33m,\u001b[0m \u001b[1;33m(\u001b[0m\u001b[1;33m)\u001b[0m\u001b[1;33m,\u001b[0m \u001b[1;32mNone\u001b[0m\u001b[1;33m,\u001b[0m \u001b[0mfscope\u001b[0m\u001b[1;33m)\u001b[0m\u001b[1;33m\u001b[0m\u001b[1;33m\u001b[0m\u001b[0m\n\u001b[0;32m     27\u001b[0m \u001b[1;33m\u001b[0m\u001b[0m\n",
      "\u001b[1;32m~\\anaconda3\\lib\\site-packages\\sklearn\\metrics\\_classification.py\u001b[0m in \u001b[0;36mtf___check_targets\u001b[1;34m(y_true, y_pred)\u001b[0m\n\u001b[0;32m      9\u001b[0m                 \u001b[0mdo_return\u001b[0m \u001b[1;33m=\u001b[0m \u001b[1;32mFalse\u001b[0m\u001b[1;33m\u001b[0m\u001b[1;33m\u001b[0m\u001b[0m\n\u001b[0;32m     10\u001b[0m                 \u001b[0mretval_\u001b[0m \u001b[1;33m=\u001b[0m \u001b[0mag__\u001b[0m\u001b[1;33m.\u001b[0m\u001b[0mUndefinedReturnValue\u001b[0m\u001b[1;33m(\u001b[0m\u001b[1;33m)\u001b[0m\u001b[1;33m\u001b[0m\u001b[1;33m\u001b[0m\u001b[0m\n\u001b[1;32m---> 11\u001b[1;33m                 \u001b[0mag__\u001b[0m\u001b[1;33m.\u001b[0m\u001b[0mconverted_call\u001b[0m\u001b[1;33m(\u001b[0m\u001b[0mag__\u001b[0m\u001b[1;33m.\u001b[0m\u001b[0mld\u001b[0m\u001b[1;33m(\u001b[0m\u001b[0mcheck_consistent_length\u001b[0m\u001b[1;33m)\u001b[0m\u001b[1;33m,\u001b[0m \u001b[1;33m(\u001b[0m\u001b[0mag__\u001b[0m\u001b[1;33m.\u001b[0m\u001b[0mld\u001b[0m\u001b[1;33m(\u001b[0m\u001b[0my_true\u001b[0m\u001b[1;33m)\u001b[0m\u001b[1;33m,\u001b[0m \u001b[0mag__\u001b[0m\u001b[1;33m.\u001b[0m\u001b[0mld\u001b[0m\u001b[1;33m(\u001b[0m\u001b[0my_pred\u001b[0m\u001b[1;33m)\u001b[0m\u001b[1;33m)\u001b[0m\u001b[1;33m,\u001b[0m \u001b[1;32mNone\u001b[0m\u001b[1;33m,\u001b[0m \u001b[0mfscope\u001b[0m\u001b[1;33m)\u001b[0m\u001b[1;33m\u001b[0m\u001b[1;33m\u001b[0m\u001b[0m\n\u001b[0m\u001b[0;32m     12\u001b[0m                 \u001b[0mtype_true\u001b[0m \u001b[1;33m=\u001b[0m \u001b[0mag__\u001b[0m\u001b[1;33m.\u001b[0m\u001b[0mconverted_call\u001b[0m\u001b[1;33m(\u001b[0m\u001b[0mag__\u001b[0m\u001b[1;33m.\u001b[0m\u001b[0mld\u001b[0m\u001b[1;33m(\u001b[0m\u001b[0mtype_of_target\u001b[0m\u001b[1;33m)\u001b[0m\u001b[1;33m,\u001b[0m \u001b[1;33m(\u001b[0m\u001b[0mag__\u001b[0m\u001b[1;33m.\u001b[0m\u001b[0mld\u001b[0m\u001b[1;33m(\u001b[0m\u001b[0my_true\u001b[0m\u001b[1;33m)\u001b[0m\u001b[1;33m,\u001b[0m\u001b[1;33m)\u001b[0m\u001b[1;33m,\u001b[0m \u001b[1;32mNone\u001b[0m\u001b[1;33m,\u001b[0m \u001b[0mfscope\u001b[0m\u001b[1;33m)\u001b[0m\u001b[1;33m\u001b[0m\u001b[1;33m\u001b[0m\u001b[0m\n\u001b[0;32m     13\u001b[0m                 \u001b[0mtype_pred\u001b[0m \u001b[1;33m=\u001b[0m \u001b[0mag__\u001b[0m\u001b[1;33m.\u001b[0m\u001b[0mconverted_call\u001b[0m\u001b[1;33m(\u001b[0m\u001b[0mag__\u001b[0m\u001b[1;33m.\u001b[0m\u001b[0mld\u001b[0m\u001b[1;33m(\u001b[0m\u001b[0mtype_of_target\u001b[0m\u001b[1;33m)\u001b[0m\u001b[1;33m,\u001b[0m \u001b[1;33m(\u001b[0m\u001b[0mag__\u001b[0m\u001b[1;33m.\u001b[0m\u001b[0mld\u001b[0m\u001b[1;33m(\u001b[0m\u001b[0my_pred\u001b[0m\u001b[1;33m)\u001b[0m\u001b[1;33m,\u001b[0m\u001b[1;33m)\u001b[0m\u001b[1;33m,\u001b[0m \u001b[1;32mNone\u001b[0m\u001b[1;33m,\u001b[0m \u001b[0mfscope\u001b[0m\u001b[1;33m)\u001b[0m\u001b[1;33m\u001b[0m\u001b[1;33m\u001b[0m\u001b[0m\n",
      "\u001b[1;32m~\\anaconda3\\lib\\site-packages\\sklearn\\utils\\validation.py\u001b[0m in \u001b[0;36mtf__check_consistent_length\u001b[1;34m(*arrays)\u001b[0m\n\u001b[0;32m      8\u001b[0m             \u001b[1;32mwith\u001b[0m \u001b[0mag__\u001b[0m\u001b[1;33m.\u001b[0m\u001b[0mFunctionScope\u001b[0m\u001b[1;33m(\u001b[0m\u001b[1;34m'check_consistent_length'\u001b[0m\u001b[1;33m,\u001b[0m \u001b[1;34m'fscope'\u001b[0m\u001b[1;33m,\u001b[0m \u001b[0mag__\u001b[0m\u001b[1;33m.\u001b[0m\u001b[0mSTD\u001b[0m\u001b[1;33m)\u001b[0m \u001b[1;32mas\u001b[0m \u001b[0mfscope\u001b[0m\u001b[1;33m:\u001b[0m\u001b[1;33m\u001b[0m\u001b[1;33m\u001b[0m\u001b[0m\n\u001b[0;32m      9\u001b[0m                 \u001b[0mlengths\u001b[0m \u001b[1;33m=\u001b[0m \u001b[1;33m[\u001b[0m\u001b[0mag__\u001b[0m\u001b[1;33m.\u001b[0m\u001b[0mconverted_call\u001b[0m\u001b[1;33m(\u001b[0m\u001b[0mag__\u001b[0m\u001b[1;33m.\u001b[0m\u001b[0mld\u001b[0m\u001b[1;33m(\u001b[0m\u001b[0m_num_samples\u001b[0m\u001b[1;33m)\u001b[0m\u001b[1;33m,\u001b[0m \u001b[1;33m(\u001b[0m\u001b[0mag__\u001b[0m\u001b[1;33m.\u001b[0m\u001b[0mld\u001b[0m\u001b[1;33m(\u001b[0m\u001b[0mX\u001b[0m\u001b[1;33m)\u001b[0m\u001b[1;33m,\u001b[0m\u001b[1;33m)\u001b[0m\u001b[1;33m,\u001b[0m \u001b[1;32mNone\u001b[0m\u001b[1;33m,\u001b[0m \u001b[0mfscope\u001b[0m\u001b[1;33m)\u001b[0m \u001b[1;32mfor\u001b[0m \u001b[0mX\u001b[0m \u001b[1;32min\u001b[0m \u001b[0mag__\u001b[0m\u001b[1;33m.\u001b[0m\u001b[0mld\u001b[0m\u001b[1;33m(\u001b[0m\u001b[0marrays\u001b[0m\u001b[1;33m)\u001b[0m \u001b[1;32mif\u001b[0m \u001b[1;33m(\u001b[0m\u001b[0mag__\u001b[0m\u001b[1;33m.\u001b[0m\u001b[0mld\u001b[0m\u001b[1;33m(\u001b[0m\u001b[0mX\u001b[0m\u001b[1;33m)\u001b[0m \u001b[1;32mis\u001b[0m \u001b[1;32mnot\u001b[0m \u001b[1;32mNone\u001b[0m\u001b[1;33m)\u001b[0m\u001b[1;33m]\u001b[0m\u001b[1;33m\u001b[0m\u001b[1;33m\u001b[0m\u001b[0m\n\u001b[1;32m---> 10\u001b[1;33m                 \u001b[0muniques\u001b[0m \u001b[1;33m=\u001b[0m \u001b[0mag__\u001b[0m\u001b[1;33m.\u001b[0m\u001b[0mconverted_call\u001b[0m\u001b[1;33m(\u001b[0m\u001b[0mag__\u001b[0m\u001b[1;33m.\u001b[0m\u001b[0mld\u001b[0m\u001b[1;33m(\u001b[0m\u001b[0mnp\u001b[0m\u001b[1;33m)\u001b[0m\u001b[1;33m.\u001b[0m\u001b[0munique\u001b[0m\u001b[1;33m,\u001b[0m \u001b[1;33m(\u001b[0m\u001b[0mag__\u001b[0m\u001b[1;33m.\u001b[0m\u001b[0mld\u001b[0m\u001b[1;33m(\u001b[0m\u001b[0mlengths\u001b[0m\u001b[1;33m)\u001b[0m\u001b[1;33m,\u001b[0m\u001b[1;33m)\u001b[0m\u001b[1;33m,\u001b[0m \u001b[1;32mNone\u001b[0m\u001b[1;33m,\u001b[0m \u001b[0mfscope\u001b[0m\u001b[1;33m)\u001b[0m\u001b[1;33m\u001b[0m\u001b[1;33m\u001b[0m\u001b[0m\n\u001b[0m\u001b[0;32m     11\u001b[0m \u001b[1;33m\u001b[0m\u001b[0m\n\u001b[0;32m     12\u001b[0m                 \u001b[1;32mdef\u001b[0m \u001b[0mget_state\u001b[0m\u001b[1;33m(\u001b[0m\u001b[1;33m)\u001b[0m\u001b[1;33m:\u001b[0m\u001b[1;33m\u001b[0m\u001b[1;33m\u001b[0m\u001b[0m\n",
      "\u001b[1;32m<__array_function__ internals>\u001b[0m in \u001b[0;36munique\u001b[1;34m(*args, **kwargs)\u001b[0m\n",
      "\u001b[1;32m~\\anaconda3\\lib\\site-packages\\numpy\\lib\\arraysetops.py\u001b[0m in \u001b[0;36munique\u001b[1;34m(ar, return_index, return_inverse, return_counts, axis)\u001b[0m\n\u001b[0;32m    258\u001b[0m \u001b[1;33m\u001b[0m\u001b[0m\n\u001b[0;32m    259\u001b[0m     \"\"\"\n\u001b[1;32m--> 260\u001b[1;33m     \u001b[0mar\u001b[0m \u001b[1;33m=\u001b[0m \u001b[0mnp\u001b[0m\u001b[1;33m.\u001b[0m\u001b[0masanyarray\u001b[0m\u001b[1;33m(\u001b[0m\u001b[0mar\u001b[0m\u001b[1;33m)\u001b[0m\u001b[1;33m\u001b[0m\u001b[1;33m\u001b[0m\u001b[0m\n\u001b[0m\u001b[0;32m    261\u001b[0m     \u001b[1;32mif\u001b[0m \u001b[0maxis\u001b[0m \u001b[1;32mis\u001b[0m \u001b[1;32mNone\u001b[0m\u001b[1;33m:\u001b[0m\u001b[1;33m\u001b[0m\u001b[1;33m\u001b[0m\u001b[0m\n\u001b[0;32m    262\u001b[0m         \u001b[0mret\u001b[0m \u001b[1;33m=\u001b[0m \u001b[0m_unique1d\u001b[0m\u001b[1;33m(\u001b[0m\u001b[0mar\u001b[0m\u001b[1;33m,\u001b[0m \u001b[0mreturn_index\u001b[0m\u001b[1;33m,\u001b[0m \u001b[0mreturn_inverse\u001b[0m\u001b[1;33m,\u001b[0m \u001b[0mreturn_counts\u001b[0m\u001b[1;33m)\u001b[0m\u001b[1;33m\u001b[0m\u001b[1;33m\u001b[0m\u001b[0m\n",
      "\u001b[1;32m~\\anaconda3\\lib\\site-packages\\numpy\\core\\_asarray.py\u001b[0m in \u001b[0;36masanyarray\u001b[1;34m(a, dtype, order, like)\u001b[0m\n\u001b[0;32m    169\u001b[0m         \u001b[1;32mreturn\u001b[0m \u001b[0m_asanyarray_with_like\u001b[0m\u001b[1;33m(\u001b[0m\u001b[0ma\u001b[0m\u001b[1;33m,\u001b[0m \u001b[0mdtype\u001b[0m\u001b[1;33m=\u001b[0m\u001b[0mdtype\u001b[0m\u001b[1;33m,\u001b[0m \u001b[0morder\u001b[0m\u001b[1;33m=\u001b[0m\u001b[0morder\u001b[0m\u001b[1;33m,\u001b[0m \u001b[0mlike\u001b[0m\u001b[1;33m=\u001b[0m\u001b[0mlike\u001b[0m\u001b[1;33m)\u001b[0m\u001b[1;33m\u001b[0m\u001b[1;33m\u001b[0m\u001b[0m\n\u001b[0;32m    170\u001b[0m \u001b[1;33m\u001b[0m\u001b[0m\n\u001b[1;32m--> 171\u001b[1;33m     \u001b[1;32mreturn\u001b[0m \u001b[0marray\u001b[0m\u001b[1;33m(\u001b[0m\u001b[0ma\u001b[0m\u001b[1;33m,\u001b[0m \u001b[0mdtype\u001b[0m\u001b[1;33m,\u001b[0m \u001b[0mcopy\u001b[0m\u001b[1;33m=\u001b[0m\u001b[1;32mFalse\u001b[0m\u001b[1;33m,\u001b[0m \u001b[0morder\u001b[0m\u001b[1;33m=\u001b[0m\u001b[0morder\u001b[0m\u001b[1;33m,\u001b[0m \u001b[0msubok\u001b[0m\u001b[1;33m=\u001b[0m\u001b[1;32mTrue\u001b[0m\u001b[1;33m)\u001b[0m\u001b[1;33m\u001b[0m\u001b[1;33m\u001b[0m\u001b[0m\n\u001b[0m\u001b[0;32m    172\u001b[0m \u001b[1;33m\u001b[0m\u001b[0m\n\u001b[0;32m    173\u001b[0m \u001b[1;33m\u001b[0m\u001b[0m\n",
      "\u001b[1;31mNotImplementedError\u001b[0m: in user code:\n\n    File \"C:\\Users\\NLP\\anaconda3\\lib\\site-packages\\keras\\engine\\training.py\", line 1051, in train_function  *\n        return step_function(self, iterator)\n    File \"C:\\Users\\NLP\\anaconda3\\lib\\site-packages\\sklearn\\utils\\validation.py\", line 953, in inner_f  *\n        return f(*args, **kwargs)\n    File \"C:\\Users\\NLP\\anaconda3\\lib\\site-packages\\sklearn\\metrics\\_classification.py\", line 1067, in f1_score  *\n        return fbeta_score(y_true, y_pred, beta=1, labels=labels,\n    File \"C:\\Users\\NLP\\anaconda3\\lib\\site-packages\\sklearn\\utils\\validation.py\", line 953, in inner_f  *\n        return f(*args, **kwargs)\n    File \"C:\\Users\\NLP\\anaconda3\\lib\\site-packages\\sklearn\\metrics\\_classification.py\", line 1190, in fbeta_score  *\n        _, _, f, _ = precision_recall_fscore_support(y_true, y_pred,\n    File \"C:\\Users\\NLP\\anaconda3\\lib\\site-packages\\sklearn\\utils\\validation.py\", line 953, in inner_f  *\n        return f(*args, **kwargs)\n    File \"C:\\Users\\NLP\\anaconda3\\lib\\site-packages\\sklearn\\metrics\\_classification.py\", line 1456, in precision_recall_fscore_support  *\n        labels = _check_set_wise_labels(y_true, y_pred, average, labels,\n    File \"C:\\Users\\NLP\\anaconda3\\lib\\site-packages\\sklearn\\metrics\\_classification.py\", line 1274, in _check_set_wise_labels  *\n        y_type, y_true, y_pred = _check_targets(y_true, y_pred)\n    File \"C:\\Users\\NLP\\anaconda3\\lib\\site-packages\\sklearn\\metrics\\_classification.py\", line 83, in _check_targets  *\n        check_consistent_length(y_true, y_pred)\n    File \"C:\\Users\\NLP\\anaconda3\\lib\\site-packages\\sklearn\\utils\\validation.py\", line 260, in check_consistent_length  *\n        uniques = np.unique(lengths)\n    File \"<__array_function__ internals>\", line 5, in unique  **\n        \n    File \"C:\\Users\\NLP\\anaconda3\\lib\\site-packages\\numpy\\lib\\arraysetops.py\", line 260, in unique\n        ar = np.asanyarray(ar)\n    File \"C:\\Users\\NLP\\anaconda3\\lib\\site-packages\\numpy\\core\\_asarray.py\", line 171, in asanyarray\n        return array(a, dtype, copy=False, order=order, subok=True)\n\n    NotImplementedError: Cannot convert a symbolic tf.Tensor (strided_slice_1:0) to a numpy array. This error may indicate that you're trying to pass a Tensor to a NumPy call, which is not supported.\n"
     ]
    }
   ],
   "source": [
    "f1model.compile(loss='categorical_crossentropy', optimizer='adam', metrics=['accuracy', f1_score])\n",
    "history = f1model.fit(X_train, y_train, epochs=5, batch_size=32, validation_data=(X_test, y_test))"
   ]
  },
  {
   "cell_type": "code",
   "execution_count": 112,
   "id": "36cda4a6-0845-48fb-9dee-f56a77a2b1e4",
   "metadata": {},
   "outputs": [
    {
     "name": "stdout",
     "output_type": "stream",
     "text": [
      "77/77 [==============================] - 0s 2ms/step\n"
     ]
    }
   ],
   "source": [
    "y_pred = f1model.predict(X_train)"
   ]
  },
  {
   "cell_type": "code",
   "execution_count": 113,
   "id": "3293e4b6-1230-4275-9862-355c27dd99bb",
   "metadata": {},
   "outputs": [
    {
     "data": {
      "text/plain": [
       "array([[5.69635129e-04, 2.90208776e-02, 1.20577283e-01, ...,\n",
       "        7.03986984e-07, 8.85614834e-04, 1.27365429e-05],\n",
       "       [8.54957732e-04, 2.78629251e-02, 6.29631476e-03, ...,\n",
       "        1.24702467e-06, 1.20369084e-04, 2.02332274e-07],\n",
       "       [4.22280536e-05, 1.39996829e-02, 8.60592946e-02, ...,\n",
       "        4.36922011e-04, 1.14175033e-04, 1.54377412e-05],\n",
       "       ...,\n",
       "       [2.85563040e-09, 1.23474596e-03, 6.85422623e-04, ...,\n",
       "        1.76999113e-03, 3.35746147e-02, 5.11190474e-01],\n",
       "       [8.85633126e-05, 5.93443960e-03, 1.01536639e-01, ...,\n",
       "        7.10301974e-05, 3.08263006e-05, 3.83686893e-06],\n",
       "       [1.18331191e-05, 3.27789545e-04, 8.62231129e-04, ...,\n",
       "        6.60700243e-06, 1.47938135e-03, 4.26721163e-05]], dtype=float32)"
      ]
     },
     "execution_count": 113,
     "metadata": {},
     "output_type": "execute_result"
    }
   ],
   "source": [
    "y_pred"
   ]
  },
  {
   "cell_type": "code",
   "execution_count": 129,
   "id": "434209b5-eb9b-4ace-afd1-6cf19547e7ac",
   "metadata": {},
   "outputs": [
    {
     "data": {
      "text/plain": [
       "array([5.6963513e-04, 2.9020878e-02, 1.2057728e-01, 2.9972295e-04,\n",
       "       7.5673723e-01, 9.1880247e-02, 1.5966885e-05, 7.0398698e-07,\n",
       "       8.8561483e-04, 1.2736543e-05], dtype=float32)"
      ]
     },
     "execution_count": 129,
     "metadata": {},
     "output_type": "execute_result"
    }
   ],
   "source": [
    "y_pred[0]"
   ]
  },
  {
   "cell_type": "code",
   "execution_count": 117,
   "id": "da1a1524-ff07-4310-96b0-988b248d799e",
   "metadata": {},
   "outputs": [],
   "source": [
    "a = np.where(np.argmax(y_pred[0], axis=0), 1, 0)"
   ]
  },
  {
   "cell_type": "code",
   "execution_count": 119,
   "id": "bde745d0-1277-4ab6-ac25-4ea2ad912c73",
   "metadata": {},
   "outputs": [
    {
     "data": {
      "text/plain": [
       "4"
      ]
     },
     "execution_count": 119,
     "metadata": {},
     "output_type": "execute_result"
    }
   ],
   "source": [
    "np.argmax(y_pred[0])"
   ]
  },
  {
   "cell_type": "code",
   "execution_count": 124,
   "id": "8bdae5da-5e2c-4cfe-8cbf-81f765fe222b",
   "metadata": {},
   "outputs": [
    {
     "data": {
      "text/plain": [
       "0.029020878"
      ]
     },
     "execution_count": 124,
     "metadata": {},
     "output_type": "execute_result"
    }
   ],
   "source": [
    "y_pred[0,1]"
   ]
  },
  {
   "cell_type": "code",
   "execution_count": 127,
   "id": "414e39d7-99f3-4e86-8953-672bdcedbd4b",
   "metadata": {},
   "outputs": [],
   "source": [
    "a = np.where(y_pred[0,4],1, 0)"
   ]
  },
  {
   "cell_type": "code",
   "execution_count": 128,
   "id": "095bf816-c835-44a5-960d-98ac418ccede",
   "metadata": {},
   "outputs": [
    {
     "data": {
      "text/plain": [
       "array(1)"
      ]
     },
     "execution_count": 128,
     "metadata": {},
     "output_type": "execute_result"
    }
   ],
   "source": [
    "a"
   ]
  },
  {
   "cell_type": "code",
   "execution_count": 130,
   "id": "a636e658-3bc4-41dc-b6d4-66e29f91ff15",
   "metadata": {},
   "outputs": [],
   "source": [
    "#이거 실행 시켜야 됨\n",
    "#이거 안시키면 y_pred랑 y_true랑 비교가 안됨 숫자가 다름\n",
    "for row in range(0,2462):\n",
    "    for columns in range(0,10): \n",
    "        index = np.argmax(y_pred[row])\n",
    "        if columns == index : \n",
    "            y_pred[row, columns] = 1\n",
    "        else:\n",
    "            y_pred[row, columns] = 0\n",
    "        "
   ]
  },
  {
   "cell_type": "code",
   "execution_count": 132,
   "id": "d0df6dd1-d29e-4d58-84ef-ee7d9ec41b74",
   "metadata": {},
   "outputs": [
    {
     "data": {
      "text/plain": [
       "array([0., 0., 0., 0., 1., 0., 0., 0., 0., 0.], dtype=float32)"
      ]
     },
     "execution_count": 132,
     "metadata": {},
     "output_type": "execute_result"
    }
   ],
   "source": [
    "y_pred[0]"
   ]
  },
  {
   "cell_type": "code",
   "execution_count": null,
   "id": "38ab42ec-a0b6-4a82-aa53-bcf4ce51c72b",
   "metadata": {},
   "outputs": [],
   "source": []
  },
  {
   "cell_type": "code",
   "execution_count": 133,
   "id": "a8335836-326d-4c35-94d3-565b7ca4f0ef",
   "metadata": {
    "tags": []
   },
   "outputs": [
    {
     "data": {
      "text/plain": [
       "0.22431035287587722"
      ]
     },
     "execution_count": 133,
     "metadata": {},
     "output_type": "execute_result"
    }
   ],
   "source": [
    "from sklearn import metrics\n",
    "from sklearn.metrics import precision_score, recall_score\n",
    "# metrics.classification_report(y_train, y_pred, digits=3)\n",
    "f1_score(y_train, y_pred, average='weighted') #test와 "
   ]
  },
  {
   "cell_type": "code",
   "execution_count": 70,
   "id": "f5f2c458-752f-4a39-85ed-0ac3082aed96",
   "metadata": {},
   "outputs": [],
   "source": [
    "a = np.array([[15, 8, 12], [11, 7, 3]])\n",
    "b = np.where(a > 10, a, 10)"
   ]
  },
  {
   "cell_type": "code",
   "execution_count": 71,
   "id": "648f2c3c-16b8-4c83-bb91-320eb6dfa864",
   "metadata": {},
   "outputs": [
    {
     "data": {
      "text/plain": [
       "array([[15, 10, 12],\n",
       "       [11, 10, 10]])"
      ]
     },
     "execution_count": 71,
     "metadata": {},
     "output_type": "execute_result"
    }
   ],
   "source": [
    "b"
   ]
  },
  {
   "cell_type": "code",
   "execution_count": 91,
   "id": "f3a2e9e8-59a0-49e4-87f8-77749b31345b",
   "metadata": {},
   "outputs": [
    {
     "name": "stdout",
     "output_type": "stream",
     "text": [
      "[5.6963513e-04 2.9020878e-02 1.2057728e-01 2.9972295e-04 7.5673723e-01\n",
      " 9.1880247e-02 1.5966885e-05 7.0398698e-07 8.8561483e-04 1.2736543e-05]\n"
     ]
    }
   ],
   "source": [
    "length=2462\n",
    "\n",
    "for x in y_pred:\n",
    "    i=0\n",
    "    max =x[0]\n",
    "    if max < x[i]:\n",
    "        \n",
    "    "
   ]
  },
  {
   "cell_type": "code",
   "execution_count": null,
   "id": "d6650423-5ca6-4a68-932c-55bc9e392280",
   "metadata": {},
   "outputs": [],
   "source": []
  }
 ],
 "metadata": {
  "kernelspec": {
   "display_name": "Python 3",
   "language": "python",
   "name": "python3"
  },
  "language_info": {
   "codemirror_mode": {
    "name": "ipython",
    "version": 3
   },
   "file_extension": ".py",
   "mimetype": "text/x-python",
   "name": "python",
   "nbconvert_exporter": "python",
   "pygments_lexer": "ipython3",
   "version": "3.8.8"
  }
 },
 "nbformat": 4,
 "nbformat_minor": 5
}
